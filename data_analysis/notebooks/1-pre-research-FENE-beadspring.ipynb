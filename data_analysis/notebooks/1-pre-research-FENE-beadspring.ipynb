{
 "cells": [
  {
   "cell_type": "code",
   "execution_count": 1,
   "metadata": {
    "collapsed": true
   },
   "outputs": [],
   "source": [
    "import pandas as pd\n",
    "import numpy as np\n",
    "import MDAnalysis as mda\n",
    "\n",
    "# atom-ID molecule-ID atom-type x y z\n"
   ]
  },
  {
   "cell_type": "code",
   "execution_count": 81,
   "outputs": [
    {
     "data": {
      "text/plain": "<Universe with 2560 atoms>"
     },
     "execution_count": 81,
     "metadata": {},
     "output_type": "execute_result"
    }
   ],
   "source": [
    "u = mda.Universe(\n",
    "  \"/scratch/ws/0/s4610340-bt-eea1-md-workspace/bachelor-thesis/experiments/1-FENE_beadspring/data/FENE_initial_system.data\",\n",
    "  \"/scratch/ws/0/s4610340-bt-eea1-md-workspace/bachelor-thesis/experiments/1-FENE_beadspring/data/polymer_relax.out\",\n",
    "  format=\"LAMMPSDUMP\",\n",
    "  atom_style=\"id resid type x y z\"\n",
    ")\n",
    "u"
   ],
   "metadata": {
    "collapsed": false
   }
  },
  {
   "cell_type": "code",
   "execution_count": 82,
   "outputs": [
    {
     "data": {
      "text/plain": "{'3': <AtomGroup with 20 atoms>,\n '1': <AtomGroup with 40 atoms>,\n '2': <AtomGroup with 2500 atoms>}"
     },
     "execution_count": 82,
     "metadata": {},
     "output_type": "execute_result"
    }
   ],
   "source": [
    "u.atoms.groupby(\"types\")"
   ],
   "metadata": {
    "collapsed": false
   }
  },
  {
   "cell_type": "code",
   "execution_count": null,
   "outputs": [],
   "source": [
    "u"
   ],
   "metadata": {
    "collapsed": false
   }
  }
 ],
 "metadata": {
  "kernelspec": {
   "name": "python3",
   "language": "python",
   "display_name": "Python 3 (ipykernel)"
  },
  "language_info": {
   "codemirror_mode": {
    "name": "ipython",
    "version": 2
   },
   "file_extension": ".py",
   "mimetype": "text/x-python",
   "name": "python",
   "nbconvert_exporter": "python",
   "pygments_lexer": "ipython2",
   "version": "2.7.6"
  }
 },
 "nbformat": 4,
 "nbformat_minor": 0
}
