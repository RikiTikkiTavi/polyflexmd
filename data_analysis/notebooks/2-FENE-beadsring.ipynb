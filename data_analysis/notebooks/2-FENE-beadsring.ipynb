{
 "cells": [
  {
   "cell_type": "markdown",
   "source": [
    "# FENE beadspring experiment data analysis"
   ],
   "metadata": {
    "collapsed": false
   }
  },
  {
   "cell_type": "code",
   "execution_count": 1,
   "outputs": [],
   "source": [
    "import os\n",
    "\n",
    "import data_analysis.data.read as read\n",
    "import data_analysis.transform.transform as transform\n",
    "import pandas as pd\n",
    "import pathlib\n",
    "import matplotlib.pyplot as plt\n",
    "import numpy as np\n",
    "from pandarallel import pandarallel"
   ],
   "metadata": {
    "collapsed": false,
    "ExecuteTime": {
     "start_time": "2023-04-19T16:12:52.028358Z",
     "end_time": "2023-04-19T16:12:53.927048Z"
    }
   }
  },
  {
   "cell_type": "code",
   "execution_count": 2,
   "outputs": [],
   "source": [
    "%load_ext autoreload\n",
    "%autoreload 2"
   ],
   "metadata": {
    "collapsed": false,
    "ExecuteTime": {
     "start_time": "2023-04-19T16:12:53.931345Z",
     "end_time": "2023-04-19T16:12:53.983931Z"
    }
   }
  },
  {
   "cell_type": "code",
   "execution_count": 4,
   "outputs": [
    {
     "name": "stdout",
     "output_type": "stream",
     "text": [
      "INFO: Pandarallel will run on 24 workers.\n",
      "INFO: Pandarallel will use standard multiprocessing data transfer (pipe) to transfer data between the main process and workers.\n"
     ]
    }
   ],
   "source": [
    "pandarallel.initialize(\n",
    "    nb_workers=24,\n",
    "    progress_bar=True,\n",
    "    use_memory_fs=False\n",
    ")"
   ],
   "metadata": {
    "collapsed": false,
    "ExecuteTime": {
     "start_time": "2023-04-19T16:12:57.313993Z",
     "end_time": "2023-04-19T16:12:57.345599Z"
    }
   }
  },
  {
   "cell_type": "markdown",
   "source": [
    "## Read data"
   ],
   "metadata": {
    "collapsed": false
   }
  },
  {
   "cell_type": "code",
   "execution_count": 5,
   "outputs": [],
   "source": [
    "PATH_EXPERIMENT = pathlib.Path(\n",
    "    \"/scratch/ws/0/s4610340-bt-eea1-md-workspace/data/experiment_results/FENE-beadspring/36bbf690\")\n",
    "\n",
    "PATHS_TRAJECTORIES = [\n",
    "    PATH_EXPERIMENT / \"data/polymer_relax.out\",\n",
    "    PATH_EXPERIMENT / \"data/polymer.out\",\n",
    "]\n",
    "\n",
    "PATH_SYSTEM_DEF = PATH_EXPERIMENT / \"data/initial_system.data\""
   ],
   "metadata": {
    "collapsed": false,
    "ExecuteTime": {
     "start_time": "2023-04-19T16:12:59.612093Z",
     "end_time": "2023-04-19T16:12:59.651031Z"
    }
   }
  },
  {
   "cell_type": "markdown",
   "source": [
    "### Trajectory df"
   ],
   "metadata": {
    "collapsed": false
   }
  },
  {
   "cell_type": "code",
   "execution_count": 6,
   "outputs": [
    {
     "data": {
      "text/plain": "              t     id  type          x         y          z  ix  iy  iz\n0             0      1     1   0.000000  0.000000   0.000000   0   0   0\n1             0      2     1   0.351522  0.037976   0.903266   0   0   0\n2             0      3     2   1.077680  0.458887   1.389510   0   0   0\n3             0      4     2   1.089370  0.904661   2.250930   0   0   0\n4             0      5     2   1.822100  1.533330   2.344580   0   0   0\n...         ...    ...   ...        ...       ...        ...  ..  ..  ..\n28155  38740000  28156     2  13.110800  8.458320  24.962800   0   0   0\n28156  38740000  28157     2  12.185400  8.644680  24.839300   0   0   0\n28157  38740000  28158     2  11.285700  8.564880  24.542500   0   0   0\n28158  38740000  28159     2  10.526400  8.594050  23.981000   0   0   0\n28159  38740000  28160     3   9.873710  8.602750  23.299100   0   0   0\n\n[71132160 rows x 9 columns]",
      "text/html": "<div>\n<style scoped>\n    .dataframe tbody tr th:only-of-type {\n        vertical-align: middle;\n    }\n\n    .dataframe tbody tr th {\n        vertical-align: top;\n    }\n\n    .dataframe thead th {\n        text-align: right;\n    }\n</style>\n<table border=\"1\" class=\"dataframe\">\n  <thead>\n    <tr style=\"text-align: right;\">\n      <th></th>\n      <th>t</th>\n      <th>id</th>\n      <th>type</th>\n      <th>x</th>\n      <th>y</th>\n      <th>z</th>\n      <th>ix</th>\n      <th>iy</th>\n      <th>iz</th>\n    </tr>\n  </thead>\n  <tbody>\n    <tr>\n      <th>0</th>\n      <td>0</td>\n      <td>1</td>\n      <td>1</td>\n      <td>0.000000</td>\n      <td>0.000000</td>\n      <td>0.000000</td>\n      <td>0</td>\n      <td>0</td>\n      <td>0</td>\n    </tr>\n    <tr>\n      <th>1</th>\n      <td>0</td>\n      <td>2</td>\n      <td>1</td>\n      <td>0.351522</td>\n      <td>0.037976</td>\n      <td>0.903266</td>\n      <td>0</td>\n      <td>0</td>\n      <td>0</td>\n    </tr>\n    <tr>\n      <th>2</th>\n      <td>0</td>\n      <td>3</td>\n      <td>2</td>\n      <td>1.077680</td>\n      <td>0.458887</td>\n      <td>1.389510</td>\n      <td>0</td>\n      <td>0</td>\n      <td>0</td>\n    </tr>\n    <tr>\n      <th>3</th>\n      <td>0</td>\n      <td>4</td>\n      <td>2</td>\n      <td>1.089370</td>\n      <td>0.904661</td>\n      <td>2.250930</td>\n      <td>0</td>\n      <td>0</td>\n      <td>0</td>\n    </tr>\n    <tr>\n      <th>4</th>\n      <td>0</td>\n      <td>5</td>\n      <td>2</td>\n      <td>1.822100</td>\n      <td>1.533330</td>\n      <td>2.344580</td>\n      <td>0</td>\n      <td>0</td>\n      <td>0</td>\n    </tr>\n    <tr>\n      <th>...</th>\n      <td>...</td>\n      <td>...</td>\n      <td>...</td>\n      <td>...</td>\n      <td>...</td>\n      <td>...</td>\n      <td>...</td>\n      <td>...</td>\n      <td>...</td>\n    </tr>\n    <tr>\n      <th>28155</th>\n      <td>38740000</td>\n      <td>28156</td>\n      <td>2</td>\n      <td>13.110800</td>\n      <td>8.458320</td>\n      <td>24.962800</td>\n      <td>0</td>\n      <td>0</td>\n      <td>0</td>\n    </tr>\n    <tr>\n      <th>28156</th>\n      <td>38740000</td>\n      <td>28157</td>\n      <td>2</td>\n      <td>12.185400</td>\n      <td>8.644680</td>\n      <td>24.839300</td>\n      <td>0</td>\n      <td>0</td>\n      <td>0</td>\n    </tr>\n    <tr>\n      <th>28157</th>\n      <td>38740000</td>\n      <td>28158</td>\n      <td>2</td>\n      <td>11.285700</td>\n      <td>8.564880</td>\n      <td>24.542500</td>\n      <td>0</td>\n      <td>0</td>\n      <td>0</td>\n    </tr>\n    <tr>\n      <th>28158</th>\n      <td>38740000</td>\n      <td>28159</td>\n      <td>2</td>\n      <td>10.526400</td>\n      <td>8.594050</td>\n      <td>23.981000</td>\n      <td>0</td>\n      <td>0</td>\n      <td>0</td>\n    </tr>\n    <tr>\n      <th>28159</th>\n      <td>38740000</td>\n      <td>28160</td>\n      <td>3</td>\n      <td>9.873710</td>\n      <td>8.602750</td>\n      <td>23.299100</td>\n      <td>0</td>\n      <td>0</td>\n      <td>0</td>\n    </tr>\n  </tbody>\n</table>\n<p>71132160 rows × 9 columns</p>\n</div>"
     },
     "execution_count": 6,
     "metadata": {},
     "output_type": "execute_result"
    }
   ],
   "source": [
    "df_trajectory_raw = read.read_multiple_raw_trajectory_dfs(PATHS_TRAJECTORIES)\n",
    "df_trajectory_raw"
   ],
   "metadata": {
    "collapsed": false,
    "ExecuteTime": {
     "start_time": "2023-04-19T16:13:02.252294Z",
     "end_time": "2023-04-19T16:18:44.377089Z"
    }
   }
  },
  {
   "cell_type": "markdown",
   "source": [
    "### System def"
   ],
   "metadata": {
    "collapsed": false
   }
  },
  {
   "cell_type": "code",
   "execution_count": 7,
   "outputs": [
    {
     "data": {
      "text/plain": "       molecule-ID  type          x          y          z  ix  iy  iz\n1                1     1   0.000000   0.000000   0.000000   0   0   0\n2                1     1   0.351522   0.037976   0.903266   0   0   0\n3                1     2   1.077677   0.458887   1.389511   0   0   0\n4                1     2   1.089366   0.904661   2.250933   0   0   0\n5                1     2   1.822102   1.533333   2.344581   0   0   0\n...            ...   ...        ...        ...        ...  ..  ..  ..\n28156          220     2  62.143956  68.211728  56.813392   0   0   0\n28157          220     2  62.691958  68.280566  57.610796   0   0   0\n28158          220     2  63.539691  68.444647  58.052754   0   0   0\n28159          220     2  64.096341  68.993900  58.626655   0   0   0\n28160          220     3  64.809590  69.597077  58.888100   0   0   0\n\n[28160 rows x 8 columns]",
      "text/html": "<div>\n<style scoped>\n    .dataframe tbody tr th:only-of-type {\n        vertical-align: middle;\n    }\n\n    .dataframe tbody tr th {\n        vertical-align: top;\n    }\n\n    .dataframe thead th {\n        text-align: right;\n    }\n</style>\n<table border=\"1\" class=\"dataframe\">\n  <thead>\n    <tr style=\"text-align: right;\">\n      <th></th>\n      <th>molecule-ID</th>\n      <th>type</th>\n      <th>x</th>\n      <th>y</th>\n      <th>z</th>\n      <th>ix</th>\n      <th>iy</th>\n      <th>iz</th>\n    </tr>\n  </thead>\n  <tbody>\n    <tr>\n      <th>1</th>\n      <td>1</td>\n      <td>1</td>\n      <td>0.000000</td>\n      <td>0.000000</td>\n      <td>0.000000</td>\n      <td>0</td>\n      <td>0</td>\n      <td>0</td>\n    </tr>\n    <tr>\n      <th>2</th>\n      <td>1</td>\n      <td>1</td>\n      <td>0.351522</td>\n      <td>0.037976</td>\n      <td>0.903266</td>\n      <td>0</td>\n      <td>0</td>\n      <td>0</td>\n    </tr>\n    <tr>\n      <th>3</th>\n      <td>1</td>\n      <td>2</td>\n      <td>1.077677</td>\n      <td>0.458887</td>\n      <td>1.389511</td>\n      <td>0</td>\n      <td>0</td>\n      <td>0</td>\n    </tr>\n    <tr>\n      <th>4</th>\n      <td>1</td>\n      <td>2</td>\n      <td>1.089366</td>\n      <td>0.904661</td>\n      <td>2.250933</td>\n      <td>0</td>\n      <td>0</td>\n      <td>0</td>\n    </tr>\n    <tr>\n      <th>5</th>\n      <td>1</td>\n      <td>2</td>\n      <td>1.822102</td>\n      <td>1.533333</td>\n      <td>2.344581</td>\n      <td>0</td>\n      <td>0</td>\n      <td>0</td>\n    </tr>\n    <tr>\n      <th>...</th>\n      <td>...</td>\n      <td>...</td>\n      <td>...</td>\n      <td>...</td>\n      <td>...</td>\n      <td>...</td>\n      <td>...</td>\n      <td>...</td>\n    </tr>\n    <tr>\n      <th>28156</th>\n      <td>220</td>\n      <td>2</td>\n      <td>62.143956</td>\n      <td>68.211728</td>\n      <td>56.813392</td>\n      <td>0</td>\n      <td>0</td>\n      <td>0</td>\n    </tr>\n    <tr>\n      <th>28157</th>\n      <td>220</td>\n      <td>2</td>\n      <td>62.691958</td>\n      <td>68.280566</td>\n      <td>57.610796</td>\n      <td>0</td>\n      <td>0</td>\n      <td>0</td>\n    </tr>\n    <tr>\n      <th>28158</th>\n      <td>220</td>\n      <td>2</td>\n      <td>63.539691</td>\n      <td>68.444647</td>\n      <td>58.052754</td>\n      <td>0</td>\n      <td>0</td>\n      <td>0</td>\n    </tr>\n    <tr>\n      <th>28159</th>\n      <td>220</td>\n      <td>2</td>\n      <td>64.096341</td>\n      <td>68.993900</td>\n      <td>58.626655</td>\n      <td>0</td>\n      <td>0</td>\n      <td>0</td>\n    </tr>\n    <tr>\n      <th>28160</th>\n      <td>220</td>\n      <td>3</td>\n      <td>64.809590</td>\n      <td>69.597077</td>\n      <td>58.888100</td>\n      <td>0</td>\n      <td>0</td>\n      <td>0</td>\n    </tr>\n  </tbody>\n</table>\n<p>28160 rows × 8 columns</p>\n</div>"
     },
     "execution_count": 7,
     "metadata": {},
     "output_type": "execute_result"
    }
   ],
   "source": [
    "system = read.read_lammps_system_data(PATH_SYSTEM_DEF)\n",
    "system.atoms"
   ],
   "metadata": {
    "collapsed": false,
    "ExecuteTime": {
     "start_time": "2023-04-19T16:18:44.352717Z",
     "end_time": "2023-04-19T16:18:45.364133Z"
    }
   }
  },
  {
   "cell_type": "code",
   "execution_count": 8,
   "outputs": [
    {
     "data": {
      "text/plain": "       type  atom1  atom2\n1         1      1      2\n2         1      2      3\n3         1      3      4\n4         1      4      5\n5         1      5      6\n...     ...    ...    ...\n27936     1  28155  28156\n27937     1  28156  28157\n27938     1  28157  28158\n27939     1  28158  28159\n27940     1  28159  28160\n\n[27940 rows x 3 columns]",
      "text/html": "<div>\n<style scoped>\n    .dataframe tbody tr th:only-of-type {\n        vertical-align: middle;\n    }\n\n    .dataframe tbody tr th {\n        vertical-align: top;\n    }\n\n    .dataframe thead th {\n        text-align: right;\n    }\n</style>\n<table border=\"1\" class=\"dataframe\">\n  <thead>\n    <tr style=\"text-align: right;\">\n      <th></th>\n      <th>type</th>\n      <th>atom1</th>\n      <th>atom2</th>\n    </tr>\n  </thead>\n  <tbody>\n    <tr>\n      <th>1</th>\n      <td>1</td>\n      <td>1</td>\n      <td>2</td>\n    </tr>\n    <tr>\n      <th>2</th>\n      <td>1</td>\n      <td>2</td>\n      <td>3</td>\n    </tr>\n    <tr>\n      <th>3</th>\n      <td>1</td>\n      <td>3</td>\n      <td>4</td>\n    </tr>\n    <tr>\n      <th>4</th>\n      <td>1</td>\n      <td>4</td>\n      <td>5</td>\n    </tr>\n    <tr>\n      <th>5</th>\n      <td>1</td>\n      <td>5</td>\n      <td>6</td>\n    </tr>\n    <tr>\n      <th>...</th>\n      <td>...</td>\n      <td>...</td>\n      <td>...</td>\n    </tr>\n    <tr>\n      <th>27936</th>\n      <td>1</td>\n      <td>28155</td>\n      <td>28156</td>\n    </tr>\n    <tr>\n      <th>27937</th>\n      <td>1</td>\n      <td>28156</td>\n      <td>28157</td>\n    </tr>\n    <tr>\n      <th>27938</th>\n      <td>1</td>\n      <td>28157</td>\n      <td>28158</td>\n    </tr>\n    <tr>\n      <th>27939</th>\n      <td>1</td>\n      <td>28158</td>\n      <td>28159</td>\n    </tr>\n    <tr>\n      <th>27940</th>\n      <td>1</td>\n      <td>28159</td>\n      <td>28160</td>\n    </tr>\n  </tbody>\n</table>\n<p>27940 rows × 3 columns</p>\n</div>"
     },
     "execution_count": 8,
     "metadata": {},
     "output_type": "execute_result"
    }
   ],
   "source": [
    "system.bonds"
   ],
   "metadata": {
    "collapsed": false,
    "ExecuteTime": {
     "start_time": "2023-04-19T16:18:45.365618Z",
     "end_time": "2023-04-19T16:18:45.443122Z"
    }
   }
  },
  {
   "cell_type": "code",
   "execution_count": 9,
   "outputs": [
    {
     "data": {
      "text/plain": "       type  atom1  atom2  atom3\n1         1      1      2      3\n2         1      2      3      4\n3         1      3      4      5\n4         1      4      5      6\n5         1      5      6      7\n...     ...    ...    ...    ...\n27716     1  28154  28155  28156\n27717     1  28155  28156  28157\n27718     1  28156  28157  28158\n27719     1  28157  28158  28159\n27720     1  28158  28159  28160\n\n[27720 rows x 4 columns]",
      "text/html": "<div>\n<style scoped>\n    .dataframe tbody tr th:only-of-type {\n        vertical-align: middle;\n    }\n\n    .dataframe tbody tr th {\n        vertical-align: top;\n    }\n\n    .dataframe thead th {\n        text-align: right;\n    }\n</style>\n<table border=\"1\" class=\"dataframe\">\n  <thead>\n    <tr style=\"text-align: right;\">\n      <th></th>\n      <th>type</th>\n      <th>atom1</th>\n      <th>atom2</th>\n      <th>atom3</th>\n    </tr>\n  </thead>\n  <tbody>\n    <tr>\n      <th>1</th>\n      <td>1</td>\n      <td>1</td>\n      <td>2</td>\n      <td>3</td>\n    </tr>\n    <tr>\n      <th>2</th>\n      <td>1</td>\n      <td>2</td>\n      <td>3</td>\n      <td>4</td>\n    </tr>\n    <tr>\n      <th>3</th>\n      <td>1</td>\n      <td>3</td>\n      <td>4</td>\n      <td>5</td>\n    </tr>\n    <tr>\n      <th>4</th>\n      <td>1</td>\n      <td>4</td>\n      <td>5</td>\n      <td>6</td>\n    </tr>\n    <tr>\n      <th>5</th>\n      <td>1</td>\n      <td>5</td>\n      <td>6</td>\n      <td>7</td>\n    </tr>\n    <tr>\n      <th>...</th>\n      <td>...</td>\n      <td>...</td>\n      <td>...</td>\n      <td>...</td>\n    </tr>\n    <tr>\n      <th>27716</th>\n      <td>1</td>\n      <td>28154</td>\n      <td>28155</td>\n      <td>28156</td>\n    </tr>\n    <tr>\n      <th>27717</th>\n      <td>1</td>\n      <td>28155</td>\n      <td>28156</td>\n      <td>28157</td>\n    </tr>\n    <tr>\n      <th>27718</th>\n      <td>1</td>\n      <td>28156</td>\n      <td>28157</td>\n      <td>28158</td>\n    </tr>\n    <tr>\n      <th>27719</th>\n      <td>1</td>\n      <td>28157</td>\n      <td>28158</td>\n      <td>28159</td>\n    </tr>\n    <tr>\n      <th>27720</th>\n      <td>1</td>\n      <td>28158</td>\n      <td>28159</td>\n      <td>28160</td>\n    </tr>\n  </tbody>\n</table>\n<p>27720 rows × 4 columns</p>\n</div>"
     },
     "execution_count": 9,
     "metadata": {},
     "output_type": "execute_result"
    }
   ],
   "source": [
    "system.angles"
   ],
   "metadata": {
    "collapsed": false,
    "ExecuteTime": {
     "start_time": "2023-04-19T16:18:45.419372Z",
     "end_time": "2023-04-19T16:18:45.485484Z"
    }
   }
  },
  {
   "cell_type": "code",
   "execution_count": 10,
   "outputs": [
    {
     "data": {
      "text/plain": "-100.000000 100.000000  xlo xhi\n-100.000000 100.000000  ylo yhi\n-100.000000 100.000000  zlo zhi"
     },
     "execution_count": 10,
     "metadata": {},
     "output_type": "execute_result"
    }
   ],
   "source": [
    "system.box"
   ],
   "metadata": {
    "collapsed": false,
    "ExecuteTime": {
     "start_time": "2023-04-19T16:18:45.469638Z",
     "end_time": "2023-04-19T16:18:45.588250Z"
    }
   }
  },
  {
   "cell_type": "markdown",
   "source": [
    "## Process data"
   ],
   "metadata": {
    "collapsed": false
   }
  },
  {
   "cell_type": "markdown",
   "source": [
    "Join molecule id information"
   ],
   "metadata": {
    "collapsed": false
   }
  },
  {
   "cell_type": "code",
   "execution_count": 11,
   "outputs": [
    {
     "data": {
      "text/plain": "              t     id  type          x         y          z  ix  iy  iz  \\\n0             0      1     1   0.000000  0.000000   0.000000   0   0   0   \n1             0      2     1   0.351522  0.037976   0.903266   0   0   0   \n2             0      3     2   1.077680  0.458887   1.389510   0   0   0   \n3             0      4     2   1.089370  0.904661   2.250930   0   0   0   \n4             0      5     2   1.822100  1.533330   2.344580   0   0   0   \n...         ...    ...   ...        ...       ...        ...  ..  ..  ..   \n28155  38740000  28156     2  13.110800  8.458320  24.962800   0   0   0   \n28156  38740000  28157     2  12.185400  8.644680  24.839300   0   0   0   \n28157  38740000  28158     2  11.285700  8.564880  24.542500   0   0   0   \n28158  38740000  28159     2  10.526400  8.594050  23.981000   0   0   0   \n28159  38740000  28160     3   9.873710  8.602750  23.299100   0   0   0   \n\n       molecule-ID  \n0                1  \n1                1  \n2                1  \n3                1  \n4                1  \n...            ...  \n28155          220  \n28156          220  \n28157          220  \n28158          220  \n28159          220  \n\n[71132160 rows x 10 columns]",
      "text/html": "<div>\n<style scoped>\n    .dataframe tbody tr th:only-of-type {\n        vertical-align: middle;\n    }\n\n    .dataframe tbody tr th {\n        vertical-align: top;\n    }\n\n    .dataframe thead th {\n        text-align: right;\n    }\n</style>\n<table border=\"1\" class=\"dataframe\">\n  <thead>\n    <tr style=\"text-align: right;\">\n      <th></th>\n      <th>t</th>\n      <th>id</th>\n      <th>type</th>\n      <th>x</th>\n      <th>y</th>\n      <th>z</th>\n      <th>ix</th>\n      <th>iy</th>\n      <th>iz</th>\n      <th>molecule-ID</th>\n    </tr>\n  </thead>\n  <tbody>\n    <tr>\n      <th>0</th>\n      <td>0</td>\n      <td>1</td>\n      <td>1</td>\n      <td>0.000000</td>\n      <td>0.000000</td>\n      <td>0.000000</td>\n      <td>0</td>\n      <td>0</td>\n      <td>0</td>\n      <td>1</td>\n    </tr>\n    <tr>\n      <th>1</th>\n      <td>0</td>\n      <td>2</td>\n      <td>1</td>\n      <td>0.351522</td>\n      <td>0.037976</td>\n      <td>0.903266</td>\n      <td>0</td>\n      <td>0</td>\n      <td>0</td>\n      <td>1</td>\n    </tr>\n    <tr>\n      <th>2</th>\n      <td>0</td>\n      <td>3</td>\n      <td>2</td>\n      <td>1.077680</td>\n      <td>0.458887</td>\n      <td>1.389510</td>\n      <td>0</td>\n      <td>0</td>\n      <td>0</td>\n      <td>1</td>\n    </tr>\n    <tr>\n      <th>3</th>\n      <td>0</td>\n      <td>4</td>\n      <td>2</td>\n      <td>1.089370</td>\n      <td>0.904661</td>\n      <td>2.250930</td>\n      <td>0</td>\n      <td>0</td>\n      <td>0</td>\n      <td>1</td>\n    </tr>\n    <tr>\n      <th>4</th>\n      <td>0</td>\n      <td>5</td>\n      <td>2</td>\n      <td>1.822100</td>\n      <td>1.533330</td>\n      <td>2.344580</td>\n      <td>0</td>\n      <td>0</td>\n      <td>0</td>\n      <td>1</td>\n    </tr>\n    <tr>\n      <th>...</th>\n      <td>...</td>\n      <td>...</td>\n      <td>...</td>\n      <td>...</td>\n      <td>...</td>\n      <td>...</td>\n      <td>...</td>\n      <td>...</td>\n      <td>...</td>\n      <td>...</td>\n    </tr>\n    <tr>\n      <th>28155</th>\n      <td>38740000</td>\n      <td>28156</td>\n      <td>2</td>\n      <td>13.110800</td>\n      <td>8.458320</td>\n      <td>24.962800</td>\n      <td>0</td>\n      <td>0</td>\n      <td>0</td>\n      <td>220</td>\n    </tr>\n    <tr>\n      <th>28156</th>\n      <td>38740000</td>\n      <td>28157</td>\n      <td>2</td>\n      <td>12.185400</td>\n      <td>8.644680</td>\n      <td>24.839300</td>\n      <td>0</td>\n      <td>0</td>\n      <td>0</td>\n      <td>220</td>\n    </tr>\n    <tr>\n      <th>28157</th>\n      <td>38740000</td>\n      <td>28158</td>\n      <td>2</td>\n      <td>11.285700</td>\n      <td>8.564880</td>\n      <td>24.542500</td>\n      <td>0</td>\n      <td>0</td>\n      <td>0</td>\n      <td>220</td>\n    </tr>\n    <tr>\n      <th>28158</th>\n      <td>38740000</td>\n      <td>28159</td>\n      <td>2</td>\n      <td>10.526400</td>\n      <td>8.594050</td>\n      <td>23.981000</td>\n      <td>0</td>\n      <td>0</td>\n      <td>0</td>\n      <td>220</td>\n    </tr>\n    <tr>\n      <th>28159</th>\n      <td>38740000</td>\n      <td>28160</td>\n      <td>3</td>\n      <td>9.873710</td>\n      <td>8.602750</td>\n      <td>23.299100</td>\n      <td>0</td>\n      <td>0</td>\n      <td>0</td>\n      <td>220</td>\n    </tr>\n  </tbody>\n</table>\n<p>71132160 rows × 10 columns</p>\n</div>"
     },
     "execution_count": 11,
     "metadata": {},
     "output_type": "execute_result"
    }
   ],
   "source": [
    "df_trajectory = transform.join_raw_trajectory_df_with_system_data(\n",
    "    df_trajectory_raw, system\n",
    ")\n",
    "df_trajectory"
   ],
   "metadata": {
    "collapsed": false,
    "ExecuteTime": {
     "start_time": "2023-04-19T16:18:45.551515Z",
     "end_time": "2023-04-19T16:18:52.819071Z"
    }
   }
  },
  {
   "cell_type": "markdown",
   "source": [
    "Unfold coordinates"
   ],
   "metadata": {
    "collapsed": false
   }
  },
  {
   "cell_type": "code",
   "execution_count": 22,
   "outputs": [
    {
     "data": {
      "text/plain": "              t     id  type          x         y          z  ix  iy  iz  \\\n0             0      1     1   0.000000  0.000000   0.000000   0   0   0   \n1             0      2     1   0.351522  0.037976   0.903266   0   0   0   \n2             0      3     2   1.077680  0.458887   1.389510   0   0   0   \n3             0      4     2   1.089370  0.904661   2.250930   0   0   0   \n4             0      5     2   1.822100  1.533330   2.344580   0   0   0   \n...         ...    ...   ...        ...       ...        ...  ..  ..  ..   \n28155  38740000  28156     2  13.110800  8.458320  24.962800   0   0   0   \n28156  38740000  28157     2  12.185400  8.644680  24.839300   0   0   0   \n28157  38740000  28158     2  11.285700  8.564880  24.542500   0   0   0   \n28158  38740000  28159     2  10.526400  8.594050  23.981000   0   0   0   \n28159  38740000  28160     3   9.873710  8.602750  23.299100   0   0   0   \n\n       molecule-ID  \n0                1  \n1                1  \n2                1  \n3                1  \n4                1  \n...            ...  \n28155          220  \n28156          220  \n28157          220  \n28158          220  \n28159          220  \n\n[71132160 rows x 10 columns]",
      "text/html": "<div>\n<style scoped>\n    .dataframe tbody tr th:only-of-type {\n        vertical-align: middle;\n    }\n\n    .dataframe tbody tr th {\n        vertical-align: top;\n    }\n\n    .dataframe thead th {\n        text-align: right;\n    }\n</style>\n<table border=\"1\" class=\"dataframe\">\n  <thead>\n    <tr style=\"text-align: right;\">\n      <th></th>\n      <th>t</th>\n      <th>id</th>\n      <th>type</th>\n      <th>x</th>\n      <th>y</th>\n      <th>z</th>\n      <th>ix</th>\n      <th>iy</th>\n      <th>iz</th>\n      <th>molecule-ID</th>\n    </tr>\n  </thead>\n  <tbody>\n    <tr>\n      <th>0</th>\n      <td>0</td>\n      <td>1</td>\n      <td>1</td>\n      <td>0.000000</td>\n      <td>0.000000</td>\n      <td>0.000000</td>\n      <td>0</td>\n      <td>0</td>\n      <td>0</td>\n      <td>1</td>\n    </tr>\n    <tr>\n      <th>1</th>\n      <td>0</td>\n      <td>2</td>\n      <td>1</td>\n      <td>0.351522</td>\n      <td>0.037976</td>\n      <td>0.903266</td>\n      <td>0</td>\n      <td>0</td>\n      <td>0</td>\n      <td>1</td>\n    </tr>\n    <tr>\n      <th>2</th>\n      <td>0</td>\n      <td>3</td>\n      <td>2</td>\n      <td>1.077680</td>\n      <td>0.458887</td>\n      <td>1.389510</td>\n      <td>0</td>\n      <td>0</td>\n      <td>0</td>\n      <td>1</td>\n    </tr>\n    <tr>\n      <th>3</th>\n      <td>0</td>\n      <td>4</td>\n      <td>2</td>\n      <td>1.089370</td>\n      <td>0.904661</td>\n      <td>2.250930</td>\n      <td>0</td>\n      <td>0</td>\n      <td>0</td>\n      <td>1</td>\n    </tr>\n    <tr>\n      <th>4</th>\n      <td>0</td>\n      <td>5</td>\n      <td>2</td>\n      <td>1.822100</td>\n      <td>1.533330</td>\n      <td>2.344580</td>\n      <td>0</td>\n      <td>0</td>\n      <td>0</td>\n      <td>1</td>\n    </tr>\n    <tr>\n      <th>...</th>\n      <td>...</td>\n      <td>...</td>\n      <td>...</td>\n      <td>...</td>\n      <td>...</td>\n      <td>...</td>\n      <td>...</td>\n      <td>...</td>\n      <td>...</td>\n      <td>...</td>\n    </tr>\n    <tr>\n      <th>28155</th>\n      <td>38740000</td>\n      <td>28156</td>\n      <td>2</td>\n      <td>13.110800</td>\n      <td>8.458320</td>\n      <td>24.962800</td>\n      <td>0</td>\n      <td>0</td>\n      <td>0</td>\n      <td>220</td>\n    </tr>\n    <tr>\n      <th>28156</th>\n      <td>38740000</td>\n      <td>28157</td>\n      <td>2</td>\n      <td>12.185400</td>\n      <td>8.644680</td>\n      <td>24.839300</td>\n      <td>0</td>\n      <td>0</td>\n      <td>0</td>\n      <td>220</td>\n    </tr>\n    <tr>\n      <th>28157</th>\n      <td>38740000</td>\n      <td>28158</td>\n      <td>2</td>\n      <td>11.285700</td>\n      <td>8.564880</td>\n      <td>24.542500</td>\n      <td>0</td>\n      <td>0</td>\n      <td>0</td>\n      <td>220</td>\n    </tr>\n    <tr>\n      <th>28158</th>\n      <td>38740000</td>\n      <td>28159</td>\n      <td>2</td>\n      <td>10.526400</td>\n      <td>8.594050</td>\n      <td>23.981000</td>\n      <td>0</td>\n      <td>0</td>\n      <td>0</td>\n      <td>220</td>\n    </tr>\n    <tr>\n      <th>28159</th>\n      <td>38740000</td>\n      <td>28160</td>\n      <td>3</td>\n      <td>9.873710</td>\n      <td>8.602750</td>\n      <td>23.299100</td>\n      <td>0</td>\n      <td>0</td>\n      <td>0</td>\n      <td>220</td>\n    </tr>\n  </tbody>\n</table>\n<p>71132160 rows × 10 columns</p>\n</div>"
     },
     "execution_count": 22,
     "metadata": {},
     "output_type": "execute_result"
    }
   ],
   "source": [
    "df_trajectory_unfolded = transform.unfold_coordinates_df(df_trajectory, system)\n",
    "df_trajectory_unfolded"
   ],
   "metadata": {
    "collapsed": false,
    "ExecuteTime": {
     "start_time": "2023-04-19T16:26:32.367484Z",
     "end_time": "2023-04-19T16:26:42.506520Z"
    }
   }
  },
  {
   "cell_type": "markdown",
   "source": [
    "## Calculate and plot observables"
   ],
   "metadata": {
    "collapsed": false
   }
  },
  {
   "cell_type": "markdown",
   "source": [
    "### End-to-End distance $\\vec{R}$"
   ],
   "metadata": {
    "collapsed": false
   }
  },
  {
   "cell_type": "code",
   "execution_count": 13,
   "outputs": [
    {
     "data": {
      "text/plain": "VBox(children=(HBox(children=(IntProgress(value=0, description='0.00%', max=23146), Label(value='0 / 23146')))…",
      "application/vnd.jupyter.widget-view+json": {
       "version_major": 2,
       "version_minor": 0,
       "model_id": "0f363fd4e7b6434cbeb5bad2d897945f"
      }
     },
     "metadata": {},
     "output_type": "display_data"
    },
    {
     "data": {
      "text/plain": "                           R_x       R_y      R_z           R\nmolecule-ID t                                                \n1           0         65.54320  62.24900  61.8005  109.499547\n            100000    58.47300  62.49100  48.4201   98.329664\n            200000    57.85950  50.02520  52.4517   92.743858\n            300000    56.17000  52.39170  49.9179   91.606527\n            400000    60.86280  48.16940  54.3920   94.779012\n...                        ...       ...      ...         ...\n220         38700000   6.30479   9.79584  22.8842   25.678697\n            38710000   9.96888  17.28420  24.1629   31.336367\n            38720000   8.44850  15.21310  25.4330   30.816441\n            38730000   7.69795   8.79959  27.3807   29.772369\n            38740000   9.87371   8.60275  23.2991   26.727243\n\n[555500 rows x 4 columns]",
      "text/html": "<div>\n<style scoped>\n    .dataframe tbody tr th:only-of-type {\n        vertical-align: middle;\n    }\n\n    .dataframe tbody tr th {\n        vertical-align: top;\n    }\n\n    .dataframe thead th {\n        text-align: right;\n    }\n</style>\n<table border=\"1\" class=\"dataframe\">\n  <thead>\n    <tr style=\"text-align: right;\">\n      <th></th>\n      <th></th>\n      <th>R_x</th>\n      <th>R_y</th>\n      <th>R_z</th>\n      <th>R</th>\n    </tr>\n    <tr>\n      <th>molecule-ID</th>\n      <th>t</th>\n      <th></th>\n      <th></th>\n      <th></th>\n      <th></th>\n    </tr>\n  </thead>\n  <tbody>\n    <tr>\n      <th rowspan=\"5\" valign=\"top\">1</th>\n      <th>0</th>\n      <td>65.54320</td>\n      <td>62.24900</td>\n      <td>61.8005</td>\n      <td>109.499547</td>\n    </tr>\n    <tr>\n      <th>100000</th>\n      <td>58.47300</td>\n      <td>62.49100</td>\n      <td>48.4201</td>\n      <td>98.329664</td>\n    </tr>\n    <tr>\n      <th>200000</th>\n      <td>57.85950</td>\n      <td>50.02520</td>\n      <td>52.4517</td>\n      <td>92.743858</td>\n    </tr>\n    <tr>\n      <th>300000</th>\n      <td>56.17000</td>\n      <td>52.39170</td>\n      <td>49.9179</td>\n      <td>91.606527</td>\n    </tr>\n    <tr>\n      <th>400000</th>\n      <td>60.86280</td>\n      <td>48.16940</td>\n      <td>54.3920</td>\n      <td>94.779012</td>\n    </tr>\n    <tr>\n      <th>...</th>\n      <th>...</th>\n      <td>...</td>\n      <td>...</td>\n      <td>...</td>\n      <td>...</td>\n    </tr>\n    <tr>\n      <th rowspan=\"5\" valign=\"top\">220</th>\n      <th>38700000</th>\n      <td>6.30479</td>\n      <td>9.79584</td>\n      <td>22.8842</td>\n      <td>25.678697</td>\n    </tr>\n    <tr>\n      <th>38710000</th>\n      <td>9.96888</td>\n      <td>17.28420</td>\n      <td>24.1629</td>\n      <td>31.336367</td>\n    </tr>\n    <tr>\n      <th>38720000</th>\n      <td>8.44850</td>\n      <td>15.21310</td>\n      <td>25.4330</td>\n      <td>30.816441</td>\n    </tr>\n    <tr>\n      <th>38730000</th>\n      <td>7.69795</td>\n      <td>8.79959</td>\n      <td>27.3807</td>\n      <td>29.772369</td>\n    </tr>\n    <tr>\n      <th>38740000</th>\n      <td>9.87371</td>\n      <td>8.60275</td>\n      <td>23.2991</td>\n      <td>26.727243</td>\n    </tr>\n  </tbody>\n</table>\n<p>555500 rows × 4 columns</p>\n</div>"
     },
     "execution_count": 13,
     "metadata": {},
     "output_type": "execute_result"
    }
   ],
   "source": [
    "df_ete = transform.calc_end_to_end_df(df_trajectory_unfolded)\n",
    "df_ete"
   ],
   "metadata": {
    "collapsed": false,
    "ExecuteTime": {
     "start_time": "2023-04-19T16:19:02.547666Z",
     "end_time": "2023-04-19T16:23:49.170802Z"
    }
   }
  },
  {
   "cell_type": "code",
   "execution_count": 29,
   "outputs": [
    {
     "data": {
      "text/plain": "<Axes: xlabel='t'>"
     },
     "execution_count": 29,
     "metadata": {},
     "output_type": "execute_result"
    },
    {
     "data": {
      "text/plain": "<Figure size 640x480 with 1 Axes>",
      "image/png": "[encoded data removed]"
     },
     "metadata": {},
     "output_type": "display_data"
    }
   ],
   "source": [
    "df_ete.groupby(\"t\").sample(n=100).groupby(\"t\")[\"R\"].mean().plot()"
   ],
   "metadata": {
    "collapsed": false,
    "ExecuteTime": {
     "start_time": "2023-04-19T16:29:34.495633Z",
     "end_time": "2023-04-19T16:29:35.241791Z"
    }
   }
  },
  {
   "cell_type": "markdown",
   "source": [
    "### Change of end-to-end distance over time $g_4$\n",
    "\n",
    "$g_4(t) = \\langle (\\vec{R}(t) - \\vec{R}(0))^2 \\rangle$"
   ],
   "metadata": {
    "collapsed": false
   }
  },
  {
   "cell_type": "code",
   "execution_count": 18,
   "outputs": [
    {
     "data": {
      "text/plain": "t\n0                0.000000\n100000       15036.309002\n200000       27304.076754\n300000       38747.134533\n400000       48276.001890\n                ...      \n38700000    889748.857787\n38710000    887369.515839\n38720000    886906.761709\n38730000    893642.009703\n38740000    897524.878794\nLength: 2525, dtype: float64"
     },
     "execution_count": 18,
     "metadata": {},
     "output_type": "execute_result"
    }
   ],
   "source": [
    "df_ete_change = transform.calculate_ete_change_ens_avg_df(df_ete)\n",
    "df_ete_change"
   ],
   "metadata": {
    "collapsed": false,
    "ExecuteTime": {
     "start_time": "2023-04-19T16:24:01.954315Z",
     "end_time": "2023-04-19T16:24:05.864074Z"
    }
   }
  },
  {
   "cell_type": "code",
   "execution_count": 19,
   "outputs": [
    {
     "data": {
      "text/plain": "<Axes: xlabel='t'>"
     },
     "execution_count": 19,
     "metadata": {},
     "output_type": "execute_result"
    },
    {
     "data": {
      "text/plain": "<Figure size 640x480 with 1 Axes>",
      "image/png": "[encoded data removed]"
     },
     "metadata": {},
     "output_type": "display_data"
    }
   ],
   "source": [
    "df_ete_change.plot()"
   ],
   "metadata": {
    "collapsed": false,
    "ExecuteTime": {
     "start_time": "2023-04-19T16:24:05.857614Z",
     "end_time": "2023-04-19T16:24:06.210873Z"
    }
   }
  },
  {
   "cell_type": "markdown",
   "source": [
    "### Average distance between neighbours $l^2$\n",
    "$l^2 = \\langle (r_k - r_{k-1})^2 \\rangle $"
   ],
   "metadata": {
    "collapsed": false
   }
  },
  {
   "cell_type": "code",
   "execution_count": 20,
   "outputs": [
    {
     "data": {
      "text/plain": "0.9421349332079658"
     },
     "execution_count": 20,
     "metadata": {},
     "output_type": "execute_result"
    }
   ],
   "source": [
    "l_squared = transform.calculate_neigh_distance_avg_df(df_trajectory_unfolded)\n",
    "l_squared"
   ],
   "metadata": {
    "collapsed": false,
    "ExecuteTime": {
     "start_time": "2023-04-19T16:24:06.210725Z",
     "end_time": "2023-04-19T16:24:06.547143Z"
    }
   }
  },
  {
   "cell_type": "code",
   "execution_count": null,
   "outputs": [],
   "source": [],
   "metadata": {
    "collapsed": false
   }
  }
 ],
 "metadata": {
  "kernelspec": {
   "name": "polyflex-md-data-analysis",
   "language": "python",
   "display_name": "polyflex-md-data-analysis"
  },
  "language_info": {
   "codemirror_mode": {
    "name": "ipython",
    "version": 2
   },
   "file_extension": ".py",
   "mimetype": "text/x-python",
   "name": "python",
   "nbconvert_exporter": "python",
   "pygments_lexer": "ipython2",
   "version": "2.7.6"
  }
 },
 "nbformat": 4,
 "nbformat_minor": 0
}
