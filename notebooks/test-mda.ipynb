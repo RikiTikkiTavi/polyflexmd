{
 "cells": [
  {
   "cell_type": "code",
   "execution_count": 1,
   "id": "initial_id",
   "metadata": {
    "collapsed": true,
    "ExecuteTime": {
     "end_time": "2023-09-18T13:29:37.283215877Z",
     "start_time": "2023-09-18T13:29:36.664142038Z"
    }
   },
   "outputs": [],
   "source": [
    "import MDAnalysis\n",
    "import MDAnalysis.transformations"
   ]
  },
  {
   "cell_type": "code",
   "execution_count": 2,
   "id": "319c3db7b9fac959",
   "metadata": {
    "ExecuteTime": {
     "end_time": "2023-09-18T13:29:37.363008703Z",
     "start_time": "2023-09-18T13:29:37.287502710Z"
    }
   },
   "outputs": [
    {
     "data": {
      "text/plain": "<Universe with 512 atoms>"
     },
     "execution_count": 2,
     "metadata": {},
     "output_type": "execute_result"
    }
   ],
   "source": [
    "u = MDAnalysis.Universe(\n",
    "    \"/home/egor/Projects/polyflexmd/data/test-5-FENE-beadspring-vary-l_K-vary-d_end/e296c212/data/initial_system.data\",\n",
    "    \"/home/egor/Projects/polyflexmd/data/test-5-FENE-beadspring-vary-l_K-vary-d_end/e296c212/data/raw/i_kappa=1/j_d_end=1/polymer_relax-1-1.out\",\n",
    "    topology_format=\"DATA\",\n",
    "    format=\"LAMMPSDUMP\",\n",
    "    atom_style=\"id resid type x y z ix iy iz\"\n",
    ")\n",
    "\n",
    "workflow = [MDAnalysis.transformations.unwrap(u.atoms)]\n",
    "\n",
    "u.trajectory.add_transformations(*workflow)\n",
    "u"
   ]
  },
  {
   "cell_type": "code",
   "execution_count": 3,
   "outputs": [
    {
     "data": {
      "text/plain": "<AtomGroup with 128 atoms>"
     },
     "execution_count": 3,
     "metadata": {},
     "output_type": "execute_result"
    }
   ],
   "source": [
    "u.select_atoms(\"resid 1\")"
   ],
   "metadata": {
    "collapsed": false,
    "ExecuteTime": {
     "end_time": "2023-09-18T13:29:37.364188629Z",
     "start_time": "2023-09-18T13:29:37.354658484Z"
    }
   },
   "id": "e5afa7648ae55464"
  },
  {
   "cell_type": "code",
   "execution_count": null,
   "id": "dbca00d793ad4ccb",
   "metadata": {},
   "outputs": [],
   "source": []
  }
 ],
 "metadata": {
  "kernelspec": {
   "display_name": "Python 3 (ipykernel)",
   "language": "python",
   "name": "python3"
  },
  "language_info": {
   "codemirror_mode": {
    "name": "ipython",
    "version": 3
   },
   "file_extension": ".py",
   "mimetype": "text/x-python",
   "name": "python",
   "nbconvert_exporter": "python",
   "pygments_lexer": "ipython3",
   "version": "3.10.12"
  }
 },
 "nbformat": 4,
 "nbformat_minor": 5
}
