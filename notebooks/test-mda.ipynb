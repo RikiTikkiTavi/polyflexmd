{
 "cells": [
  {
   "cell_type": "code",
   "execution_count": 1,
   "id": "initial_id",
   "metadata": {
    "collapsed": true,
    "ExecuteTime": {
     "end_time": "2023-10-12T16:14:57.463039888Z",
     "start_time": "2023-10-12T16:14:56.549606937Z"
    }
   },
   "outputs": [
    {
     "name": "stderr",
     "output_type": "stream",
     "text": [
      "/beegfs/.global0/ws/s4610340-polyflexmd/polyflexmd/.venv/lib/python3.9/site-packages/tqdm/auto.py:21: TqdmWarning: IProgress not found. Please update jupyter and ipywidgets. See https://ipywidgets.readthedocs.io/en/stable/user_install.html\n",
      "  from .autonotebook import tqdm as notebook_tqdm\n"
     ]
    }
   ],
   "source": [
    "import MDAnalysis\n",
    "import MDAnalysis.transformations"
   ]
  },
  {
   "cell_type": "code",
   "execution_count": null,
   "id": "319c3db7b9fac959",
   "metadata": {
    "is_executing": true,
    "ExecuteTime": {
     "start_time": "2023-10-12T18:20:47.859779328Z"
    }
   },
   "outputs": [],
   "source": [
    "u = MDAnalysis.Universe(\n",
    "    \"/beegfs/ws/0/s4610340-polyflexmd/data/experiment_results/FENE-beadspring-free_chain-vary-l_K-vary-d_end/22-EEA1_short+Rab5_10x-lp_bonded_like-free_chain/ef6e4e76/data/raw/i_kappa=1/j_d_end=1/polymer-1-1.out\",\n",
    "    \"/beegfs/ws/0/s4610340-polyflexmd/data/experiment_results/FENE-beadspring-free_chain-vary-l_K-vary-d_end/22-EEA1_short+Rab5_10x-lp_bonded_like-free_chain/ef6e4e76/data/initial_system.data\",\n",
    "    topology_format=\"DATA\",\n",
    "    format=\"LAMMPSDUMP\",\n",
    "    atom_style=\"id resid type x y z ix iy iz\",\n",
    "    lammps_coordinate_convention=\"unscaled\",\n",
    "    unwrap_images=True\n",
    ")\n",
    "\n",
    "#workflow = [MDAnalysis.transformations.unwrap(u.atoms)]\n",
    "\n",
    "#u.trajectory.add_transformations(*workflow)\n",
    "u"
   ]
  },
  {
   "cell_type": "code",
   "execution_count": 8,
   "outputs": [
    {
     "name": "stdout",
     "output_type": "stream",
     "text": [
      "< Timestep 0 with unit cell dimensions [200. 200. 200.  90.  90.  90.] >\n"
     ]
    },
    {
     "data": {
      "text/plain": "array([[ 50.155  ,  78.9621 ,  95.66703],\n       [ 50.6765 ,  79.5068 ,  95.10534],\n       [ 50.9148 ,  80.4276 ,  94.8868 ],\n       ...,\n       [ 43.8185 ,  90.86397, 125.6129 ],\n       [ 44.6699 ,  90.90052, 125.1724 ],\n       [ 44.8305 ,  90.67684, 124.1919 ]], dtype=float32)"
     },
     "metadata": {},
     "output_type": "display_data"
    }
   ],
   "source": [
    "from MDAnalysis.coordinates.timestep import Timestep\n",
    "\n",
    "time_step: Timestep\n",
    "for time_step in u.trajectory:\n",
    "    print(time_step)\n",
    "    display(time_step.positions)\n",
    "    break"
   ],
   "metadata": {
    "collapsed": false,
    "ExecuteTime": {
     "end_time": "2023-10-12T18:18:52.522451594Z",
     "start_time": "2023-10-12T18:18:52.140461194Z"
    }
   },
   "id": "54f0113d0c0c282"
  },
  {
   "cell_type": "code",
   "execution_count": 3,
   "outputs": [
    {
     "data": {
      "text/plain": "<AtomGroup with 64 atoms>"
     },
     "execution_count": 3,
     "metadata": {},
     "output_type": "execute_result"
    }
   ],
   "source": [
    "u.select_atoms(\"resid 1\")"
   ],
   "metadata": {
    "collapsed": false,
    "ExecuteTime": {
     "end_time": "2023-10-12T18:16:49.394772967Z",
     "start_time": "2023-10-12T18:16:49.352528490Z"
    }
   },
   "id": "e5afa7648ae55464"
  },
  {
   "cell_type": "code",
   "execution_count": 4,
   "id": "dbca00d793ad4ccb",
   "metadata": {
    "ExecuteTime": {
     "end_time": "2023-10-12T18:17:19.625996832Z",
     "start_time": "2023-10-12T18:17:19.576531355Z"
    }
   },
   "outputs": [
    {
     "name": "stdout",
     "output_type": "stream",
     "text": [
      "<Atom 1: of type 1 resid 1 and segid SYSTEM>\n"
     ]
    }
   ],
   "source": [
    "for t in u.select_atoms(\"resid 1\"):\n",
    "    print(t)\n",
    "    break"
   ]
  },
  {
   "cell_type": "code",
   "execution_count": null,
   "outputs": [],
   "source": [],
   "metadata": {
    "collapsed": false
   },
   "id": "36ddcb5e5270fcf2"
  }
 ],
 "metadata": {
  "kernelspec": {
   "display_name": "Python 3 (ipykernel)",
   "language": "python",
   "name": "python3"
  },
  "language_info": {
   "codemirror_mode": {
    "name": "ipython",
    "version": 3
   },
   "file_extension": ".py",
   "mimetype": "text/x-python",
   "name": "python",
   "nbconvert_exporter": "python",
   "pygments_lexer": "ipython3",
   "version": "3.10.12"
  }
 },
 "nbformat": 4,
 "nbformat_minor": 5
}
