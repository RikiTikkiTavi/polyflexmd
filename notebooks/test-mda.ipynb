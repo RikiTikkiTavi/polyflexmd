{
 "cells": [
  {
   "cell_type": "code",
   "execution_count": 1,
   "id": "initial_id",
   "metadata": {
    "collapsed": true,
    "ExecuteTime": {
     "end_time": "2023-10-12T16:14:57.463039888Z",
     "start_time": "2023-10-12T16:14:56.549606937Z"
    }
   },
   "outputs": [
    {
     "name": "stderr",
     "output_type": "stream",
     "text": [
      "/beegfs/.global0/ws/s4610340-polyflexmd/polyflexmd/.venv/lib/python3.9/site-packages/tqdm/auto.py:21: TqdmWarning: IProgress not found. Please update jupyter and ipywidgets. See https://ipywidgets.readthedocs.io/en/stable/user_install.html\n",
      "  from .autonotebook import tqdm as notebook_tqdm\n"
     ]
    }
   ],
   "source": [
    "import MDAnalysis\n",
    "import MDAnalysis.transformations"
   ]
  },
  {
   "cell_type": "code",
   "execution_count": 2,
   "id": "319c3db7b9fac959",
   "metadata": {
    "ExecuteTime": {
     "end_time": "2023-10-12T16:19:01.656357290Z",
     "start_time": "2023-10-12T16:15:27.736887739Z"
    }
   },
   "outputs": [
    {
     "data": {
      "text/plain": "<Universe with 32000 atoms>"
     },
     "execution_count": 2,
     "metadata": {},
     "output_type": "execute_result"
    }
   ],
   "source": [
    "u = MDAnalysis.Universe(\n",
    "    \"/beegfs/ws/0/s4610340-polyflexmd/data/experiment_results/FENE-beadspring-free_chain-full_flex/20-full_flex-free_chain/ef6e4e76/data/initial_system.data\",\n",
    "    \"/beegfs/ws/0/s4610340-polyflexmd/data/experiment_results/FENE-beadspring-free_chain-full_flex/20-full_flex-free_chain/ef6e4e76/data/raw/polymer.out\",\n",
    "    topology_format=\"DATA\",\n",
    "    format=\"LAMMPSDUMP\",\n",
    "    atom_style=\"id resid type x y z ix iy iz\",\n",
    "    lammps_coordinate_convention=\"unscaled\",\n",
    "    unwrap_images=True\n",
    ")\n",
    "\n",
    "#workflow = [MDAnalysis.transformations.unwrap(u.atoms)]\n",
    "\n",
    "#u.trajectory.add_transformations(*workflow)\n",
    "u"
   ]
  },
  {
   "cell_type": "code",
   "execution_count": null,
   "outputs": [],
   "source": [
    "u.select_atoms(\"resid 1\")"
   ],
   "metadata": {
    "collapsed": false
   },
   "id": "e5afa7648ae55464"
  },
  {
   "cell_type": "code",
   "execution_count": null,
   "id": "dbca00d793ad4ccb",
   "metadata": {},
   "outputs": [],
   "source": []
  }
 ],
 "metadata": {
  "kernelspec": {
   "display_name": "Python 3 (ipykernel)",
   "language": "python",
   "name": "python3"
  },
  "language_info": {
   "codemirror_mode": {
    "name": "ipython",
    "version": 3
   },
   "file_extension": ".py",
   "mimetype": "text/x-python",
   "name": "python",
   "nbconvert_exporter": "python",
   "pygments_lexer": "ipython3",
   "version": "3.10.12"
  }
 },
 "nbformat": 4,
 "nbformat_minor": 5
}
