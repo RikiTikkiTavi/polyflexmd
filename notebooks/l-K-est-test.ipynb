{
 "cells": [
  {
   "cell_type": "code",
   "execution_count": 1,
   "metadata": {
    "collapsed": true,
    "ExecuteTime": {
     "end_time": "2023-07-03T19:23:21.371869582Z",
     "start_time": "2023-07-03T19:23:21.204793419Z"
    }
   },
   "outputs": [],
   "source": [
    "import pandas as pd\n",
    "import pathlib\n",
    "import polyflexmd.data_analysis.data.constants as data_constants\n",
    "import polyflexmd.data_analysis.transform.transform as transform\n",
    "import polyflexmd.data_analysis.theory.kremer_grest as kremer_grest\n",
    "import numpy as np"
   ]
  },
  {
   "cell_type": "code",
   "execution_count": 2,
   "outputs": [],
   "source": [
    "%load_ext autoreload\n",
    "%autoreload 2"
   ],
   "metadata": {
    "collapsed": false,
    "ExecuteTime": {
     "end_time": "2023-07-03T19:23:21.419354023Z",
     "start_time": "2023-07-03T19:23:21.375166652Z"
    }
   }
  },
  {
   "cell_type": "code",
   "execution_count": 3,
   "outputs": [],
   "source": [
    "PATH_DF_TRAJECTORY_PROCESSED = pathlib.Path(\"/home/egor/Projects/polyflexmd/data/trajectories_test.csv\")"
   ],
   "metadata": {
    "collapsed": false,
    "ExecuteTime": {
     "end_time": "2023-07-03T19:23:21.449753307Z",
     "start_time": "2023-07-03T19:23:21.412769380Z"
    }
   }
  },
  {
   "cell_type": "code",
   "execution_count": 4,
   "outputs": [
    {
     "data": {
      "text/plain": "                  t    id  type          x          y          z  molecule-ID  \\\n0         450010000     1     1   0.000000   0.000000   0.000000            1   \n1         450010000     2     1  -0.336178   0.186169   0.890632            1   \n2         450010000     3     2  -0.516345   0.398859   1.792500            1   \n3         450010000     4     2  -0.682514   0.663554   2.739000            1   \n4         450010000     5     2  -0.715175   0.949343   3.693260            1   \n...             ...   ...   ...        ...        ...        ...          ...   \n27199995  535000000  3196     2 -16.042000  33.235500 -39.390400           50   \n27199996  535000000  3197     2 -15.760300  33.960800 -39.969101           50   \n27199997  535000000  3198     2 -15.532800  34.590302 -40.663101           50   \n27199998  535000000  3199     2 -15.251300  35.347000 -41.266499           50   \n27199999  535000000  3200     3 -14.962400  36.150700 -41.782700           50   \n\n          kappa  \n0         190.2  \n1         190.2  \n2         190.2  \n3         190.2  \n4         190.2  \n...         ...  \n27199995  190.2  \n27199996  190.2  \n27199997  190.2  \n27199998  190.2  \n27199999  190.2  \n\n[27200000 rows x 8 columns]",
      "text/html": "<div>\n<style scoped>\n    .dataframe tbody tr th:only-of-type {\n        vertical-align: middle;\n    }\n\n    .dataframe tbody tr th {\n        vertical-align: top;\n    }\n\n    .dataframe thead th {\n        text-align: right;\n    }\n</style>\n<table border=\"1\" class=\"dataframe\">\n  <thead>\n    <tr style=\"text-align: right;\">\n      <th></th>\n      <th>t</th>\n      <th>id</th>\n      <th>type</th>\n      <th>x</th>\n      <th>y</th>\n      <th>z</th>\n      <th>molecule-ID</th>\n      <th>kappa</th>\n    </tr>\n  </thead>\n  <tbody>\n    <tr>\n      <th>0</th>\n      <td>450010000</td>\n      <td>1</td>\n      <td>1</td>\n      <td>0.000000</td>\n      <td>0.000000</td>\n      <td>0.000000</td>\n      <td>1</td>\n      <td>190.2</td>\n    </tr>\n    <tr>\n      <th>1</th>\n      <td>450010000</td>\n      <td>2</td>\n      <td>1</td>\n      <td>-0.336178</td>\n      <td>0.186169</td>\n      <td>0.890632</td>\n      <td>1</td>\n      <td>190.2</td>\n    </tr>\n    <tr>\n      <th>2</th>\n      <td>450010000</td>\n      <td>3</td>\n      <td>2</td>\n      <td>-0.516345</td>\n      <td>0.398859</td>\n      <td>1.792500</td>\n      <td>1</td>\n      <td>190.2</td>\n    </tr>\n    <tr>\n      <th>3</th>\n      <td>450010000</td>\n      <td>4</td>\n      <td>2</td>\n      <td>-0.682514</td>\n      <td>0.663554</td>\n      <td>2.739000</td>\n      <td>1</td>\n      <td>190.2</td>\n    </tr>\n    <tr>\n      <th>4</th>\n      <td>450010000</td>\n      <td>5</td>\n      <td>2</td>\n      <td>-0.715175</td>\n      <td>0.949343</td>\n      <td>3.693260</td>\n      <td>1</td>\n      <td>190.2</td>\n    </tr>\n    <tr>\n      <th>...</th>\n      <td>...</td>\n      <td>...</td>\n      <td>...</td>\n      <td>...</td>\n      <td>...</td>\n      <td>...</td>\n      <td>...</td>\n      <td>...</td>\n    </tr>\n    <tr>\n      <th>27199995</th>\n      <td>535000000</td>\n      <td>3196</td>\n      <td>2</td>\n      <td>-16.042000</td>\n      <td>33.235500</td>\n      <td>-39.390400</td>\n      <td>50</td>\n      <td>190.2</td>\n    </tr>\n    <tr>\n      <th>27199996</th>\n      <td>535000000</td>\n      <td>3197</td>\n      <td>2</td>\n      <td>-15.760300</td>\n      <td>33.960800</td>\n      <td>-39.969101</td>\n      <td>50</td>\n      <td>190.2</td>\n    </tr>\n    <tr>\n      <th>27199997</th>\n      <td>535000000</td>\n      <td>3198</td>\n      <td>2</td>\n      <td>-15.532800</td>\n      <td>34.590302</td>\n      <td>-40.663101</td>\n      <td>50</td>\n      <td>190.2</td>\n    </tr>\n    <tr>\n      <th>27199998</th>\n      <td>535000000</td>\n      <td>3199</td>\n      <td>2</td>\n      <td>-15.251300</td>\n      <td>35.347000</td>\n      <td>-41.266499</td>\n      <td>50</td>\n      <td>190.2</td>\n    </tr>\n    <tr>\n      <th>27199999</th>\n      <td>535000000</td>\n      <td>3200</td>\n      <td>3</td>\n      <td>-14.962400</td>\n      <td>36.150700</td>\n      <td>-41.782700</td>\n      <td>50</td>\n      <td>190.2</td>\n    </tr>\n  </tbody>\n</table>\n<p>27200000 rows × 8 columns</p>\n</div>"
     },
     "execution_count": 4,
     "metadata": {},
     "output_type": "execute_result"
    }
   ],
   "source": [
    "df_traj = pd.read_csv(\n",
    "        PATH_DF_TRAJECTORY_PROCESSED,\n",
    "        dtype={\n",
    "            **data_constants.RAW_TRAJECTORY_DF_COLUMN_TYPES,\n",
    "            \"molecule-ID\": np.ushort,\n",
    "            \"kappa\": \"category\",\n",
    "        }\n",
    "    )\n",
    "df_traj"
   ],
   "metadata": {
    "collapsed": false,
    "ExecuteTime": {
     "end_time": "2023-07-03T19:23:54.797143856Z",
     "start_time": "2023-07-03T19:23:22.286145699Z"
    }
   }
  },
  {
   "cell_type": "code",
   "execution_count": 10,
   "outputs": [],
   "source": [
    "N_beads = 64\n",
    "kappa = 190.2\n",
    "l_b = .97"
   ],
   "metadata": {
    "collapsed": false,
    "ExecuteTime": {
     "end_time": "2023-07-03T19:25:03.643400061Z",
     "start_time": "2023-07-03T19:25:03.595799746Z"
    }
   }
  },
  {
   "cell_type": "code",
   "execution_count": 11,
   "outputs": [
    {
     "data": {
      "text/plain": "368.018"
     },
     "execution_count": 11,
     "metadata": {},
     "output_type": "execute_result"
    }
   ],
   "source": [
    "l_k_theory = kremer_grest.bare_kuhn_length(kappa, l_b)\n",
    "l_k_theory"
   ],
   "metadata": {
    "collapsed": false,
    "ExecuteTime": {
     "end_time": "2023-07-03T19:25:04.181405705Z",
     "start_time": "2023-07-03T19:25:04.130475782Z"
    }
   }
  },
  {
   "cell_type": "code",
   "execution_count": 14,
   "outputs": [
    {
     "data": {
      "text/plain": "              l_K    d_l_K\nkappa                     \n190.2  382.772696  0.40718",
      "text/html": "<div>\n<style scoped>\n    .dataframe tbody tr th:only-of-type {\n        vertical-align: middle;\n    }\n\n    .dataframe tbody tr th {\n        vertical-align: top;\n    }\n\n    .dataframe thead th {\n        text-align: right;\n    }\n</style>\n<table border=\"1\" class=\"dataframe\">\n  <thead>\n    <tr style=\"text-align: right;\">\n      <th></th>\n      <th>l_K</th>\n      <th>d_l_K</th>\n    </tr>\n    <tr>\n      <th>kappa</th>\n      <th></th>\n      <th></th>\n    </tr>\n  </thead>\n  <tbody>\n    <tr>\n      <th>190.2</th>\n      <td>382.772696</td>\n      <td>0.40718</td>\n    </tr>\n  </tbody>\n</table>\n</div>"
     },
     "execution_count": 14,
     "metadata": {},
     "output_type": "execute_result"
    }
   ],
   "source": [
    "l_K_estimate = transform.estimate_kuhn_length_df(\n",
    "    df_trajectory=df_traj.loc[df_traj[\"molecule-ID\"] < 10],\n",
    "    group_by_params=[\"kappa\"],\n",
    "    N_beads=N_beads,\n",
    "    l_b=l_b,\n",
    "    n_processes=2\n",
    ")\n",
    "l_K_estimate"
   ],
   "metadata": {
    "collapsed": false,
    "ExecuteTime": {
     "end_time": "2023-07-03T19:29:31.241498735Z",
     "start_time": "2023-07-03T19:28:39.868640486Z"
    }
   }
  },
  {
   "cell_type": "code",
   "execution_count": null,
   "outputs": [],
   "source": [],
   "metadata": {
    "collapsed": false
   }
  }
 ],
 "metadata": {
  "kernelspec": {
   "display_name": "Python 3",
   "language": "python",
   "name": "python3"
  },
  "language_info": {
   "codemirror_mode": {
    "name": "ipython",
    "version": 2
   },
   "file_extension": ".py",
   "mimetype": "text/x-python",
   "name": "python",
   "nbconvert_exporter": "python",
   "pygments_lexer": "ipython2",
   "version": "2.7.6"
  }
 },
 "nbformat": 4,
 "nbformat_minor": 0
}
