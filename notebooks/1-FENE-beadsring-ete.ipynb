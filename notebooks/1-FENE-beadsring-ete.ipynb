{
 "cells": [
  {
   "cell_type": "markdown",
   "metadata": {
    "collapsed": false
   },
   "source": [
    "# FENE beadspring experiment data analysis"
   ]
  },
  {
   "cell_type": "code",
   "execution_count": 1,
   "metadata": {
    "ExecuteTime": {
     "end_time": "2023-04-19T16:12:53.927048Z",
     "start_time": "2023-04-19T16:12:52.028358Z"
    },
    "collapsed": false
   },
   "outputs": [],
   "source": [
    "import os\n",
    "\n",
    "import polyflexmd.data_analysis.data.read as read\n",
    "import polyflexmd.data_analysis.transform.transform as transform\n",
    "import pandas as pd\n",
    "import pathlib\n",
    "import matplotlib.pyplot as plt\n",
    "import numpy as np\n",
    "from pandarallel import pandarallel"
   ]
  },
  {
   "cell_type": "code",
   "execution_count": 2,
   "metadata": {
    "ExecuteTime": {
     "end_time": "2023-04-19T16:12:53.983931Z",
     "start_time": "2023-04-19T16:12:53.931345Z"
    },
    "collapsed": false
   },
   "outputs": [],
   "source": [
    "%load_ext autoreload\n",
    "%autoreload 2"
   ]
  },
  {
   "cell_type": "code",
   "execution_count": 3,
   "metadata": {
    "ExecuteTime": {
     "end_time": "2023-04-19T16:12:57.345599Z",
     "start_time": "2023-04-19T16:12:57.313993Z"
    },
    "collapsed": false
   },
   "outputs": [
    {
     "name": "stdout",
     "output_type": "stream",
     "text": [
      "INFO: Pandarallel will run on 24 workers.\n",
      "INFO: Pandarallel will use standard multiprocessing data transfer (pipe) to transfer data between the main process and workers.\n"
     ]
    }
   ],
   "source": [
    "pandarallel.initialize(\n",
    "    nb_workers=24,\n",
    "    progress_bar=True,\n",
    "    use_memory_fs=False\n",
    ")"
   ]
  },
  {
   "cell_type": "markdown",
   "metadata": {
    "collapsed": false
   },
   "source": [
    "## Read data"
   ]
  },
  {
   "cell_type": "code",
   "execution_count": null,
   "metadata": {
    "collapsed": false,
    "tags": [
     "parameters"
    ]
   },
   "outputs": [],
   "source": [
    "PATH_EXPERIMENT = \"/scratch/ws/0/s4610340-bt-eea1-md-workspace/data/experiment_results/FENE-beadspring/55f1793a\""
   ]
  },
  {
   "cell_type": "code",
   "execution_count": 4,
   "metadata": {
    "ExecuteTime": {
     "end_time": "2023-04-19T16:12:59.651031Z",
     "start_time": "2023-04-19T16:12:59.612093Z"
    },
    "collapsed": false
   },
   "outputs": [],
   "source": [
    "PATH_EXPERIMENT = pathlib.Path(PATH_EXPERIMENT)\n",
    "\n",
    "PATHS_TRAJECTORIES = [\n",
    "    PATH_EXPERIMENT / \"data/polymer_relax.out\",\n",
    "    PATH_EXPERIMENT / \"data/polymer.out\",\n",
    "]\n",
    "\n",
    "PATH_SYSTEM_DEF = PATH_EXPERIMENT / \"data/initial_system.data\""
   ]
  },
  {
   "cell_type": "markdown",
   "metadata": {
    "collapsed": false
   },
   "source": [
    "### Trajectory df"
   ]
  },
  {
   "cell_type": "code",
   "execution_count": 5,
   "metadata": {
    "ExecuteTime": {
     "end_time": "2023-04-19T16:18:44.377089Z",
     "start_time": "2023-04-19T16:13:02.252294Z"
    },
    "collapsed": false
   },
   "outputs": [
    {
     "data": {
      "text/html": [
       "<div>\n",
       "<style scoped>\n",
       "    .dataframe tbody tr th:only-of-type {\n",
       "        vertical-align: middle;\n",
       "    }\n",
       "\n",
       "    .dataframe tbody tr th {\n",
       "        vertical-align: top;\n",
       "    }\n",
       "\n",
       "    .dataframe thead th {\n",
       "        text-align: right;\n",
       "    }\n",
       "</style>\n",
       "<table border=\"1\" class=\"dataframe\">\n",
       "  <thead>\n",
       "    <tr style=\"text-align: right;\">\n",
       "      <th></th>\n",
       "      <th>t</th>\n",
       "      <th>id</th>\n",
       "      <th>type</th>\n",
       "      <th>x</th>\n",
       "      <th>y</th>\n",
       "      <th>z</th>\n",
       "      <th>ix</th>\n",
       "      <th>iy</th>\n",
       "      <th>iz</th>\n",
       "    </tr>\n",
       "  </thead>\n",
       "  <tbody>\n",
       "    <tr>\n",
       "      <th>0</th>\n",
       "      <td>0</td>\n",
       "      <td>1</td>\n",
       "      <td>1</td>\n",
       "      <td>0.000000</td>\n",
       "      <td>0.000000</td>\n",
       "      <td>0.000000</td>\n",
       "      <td>0</td>\n",
       "      <td>0</td>\n",
       "      <td>0</td>\n",
       "    </tr>\n",
       "    <tr>\n",
       "      <th>1</th>\n",
       "      <td>0</td>\n",
       "      <td>2</td>\n",
       "      <td>1</td>\n",
       "      <td>-0.468830</td>\n",
       "      <td>-0.882494</td>\n",
       "      <td>0.037444</td>\n",
       "      <td>0</td>\n",
       "      <td>0</td>\n",
       "      <td>0</td>\n",
       "    </tr>\n",
       "    <tr>\n",
       "      <th>2</th>\n",
       "      <td>0</td>\n",
       "      <td>3</td>\n",
       "      <td>2</td>\n",
       "      <td>-0.423779</td>\n",
       "      <td>-0.970236</td>\n",
       "      <td>1.032570</td>\n",
       "      <td>0</td>\n",
       "      <td>0</td>\n",
       "      <td>0</td>\n",
       "    </tr>\n",
       "    <tr>\n",
       "      <th>3</th>\n",
       "      <td>0</td>\n",
       "      <td>4</td>\n",
       "      <td>2</td>\n",
       "      <td>-0.074626</td>\n",
       "      <td>-1.884670</td>\n",
       "      <td>0.827882</td>\n",
       "      <td>0</td>\n",
       "      <td>0</td>\n",
       "      <td>0</td>\n",
       "    </tr>\n",
       "    <tr>\n",
       "      <th>4</th>\n",
       "      <td>0</td>\n",
       "      <td>5</td>\n",
       "      <td>2</td>\n",
       "      <td>-0.117715</td>\n",
       "      <td>-1.744990</td>\n",
       "      <td>1.817140</td>\n",
       "      <td>0</td>\n",
       "      <td>0</td>\n",
       "      <td>0</td>\n",
       "    </tr>\n",
       "    <tr>\n",
       "      <th>...</th>\n",
       "      <td>...</td>\n",
       "      <td>...</td>\n",
       "      <td>...</td>\n",
       "      <td>...</td>\n",
       "      <td>...</td>\n",
       "      <td>...</td>\n",
       "      <td>...</td>\n",
       "      <td>...</td>\n",
       "      <td>...</td>\n",
       "    </tr>\n",
       "    <tr>\n",
       "      <th>2555</th>\n",
       "      <td>45000000</td>\n",
       "      <td>2556</td>\n",
       "      <td>2</td>\n",
       "      <td>16.834600</td>\n",
       "      <td>-10.829500</td>\n",
       "      <td>-12.841700</td>\n",
       "      <td>0</td>\n",
       "      <td>0</td>\n",
       "      <td>0</td>\n",
       "    </tr>\n",
       "    <tr>\n",
       "      <th>2556</th>\n",
       "      <td>45000000</td>\n",
       "      <td>2557</td>\n",
       "      <td>2</td>\n",
       "      <td>17.640900</td>\n",
       "      <td>-11.288900</td>\n",
       "      <td>-12.509300</td>\n",
       "      <td>0</td>\n",
       "      <td>0</td>\n",
       "      <td>0</td>\n",
       "    </tr>\n",
       "    <tr>\n",
       "      <th>2557</th>\n",
       "      <td>45000000</td>\n",
       "      <td>2558</td>\n",
       "      <td>2</td>\n",
       "      <td>18.297400</td>\n",
       "      <td>-11.795700</td>\n",
       "      <td>-12.052400</td>\n",
       "      <td>0</td>\n",
       "      <td>0</td>\n",
       "      <td>0</td>\n",
       "    </tr>\n",
       "    <tr>\n",
       "      <th>2558</th>\n",
       "      <td>45000000</td>\n",
       "      <td>2559</td>\n",
       "      <td>2</td>\n",
       "      <td>18.728000</td>\n",
       "      <td>-12.621000</td>\n",
       "      <td>-11.710500</td>\n",
       "      <td>0</td>\n",
       "      <td>0</td>\n",
       "      <td>0</td>\n",
       "    </tr>\n",
       "    <tr>\n",
       "      <th>2559</th>\n",
       "      <td>45000000</td>\n",
       "      <td>2560</td>\n",
       "      <td>3</td>\n",
       "      <td>19.423700</td>\n",
       "      <td>-13.273900</td>\n",
       "      <td>-11.487800</td>\n",
       "      <td>0</td>\n",
       "      <td>0</td>\n",
       "      <td>0</td>\n",
       "    </tr>\n",
       "  </tbody>\n",
       "</table>\n",
       "<p>8069120 rows × 9 columns</p>\n",
       "</div>"
      ],
      "text/plain": [
       "             t    id  type          x          y          z  ix  iy  iz\n",
       "0            0     1     1   0.000000   0.000000   0.000000   0   0   0\n",
       "1            0     2     1  -0.468830  -0.882494   0.037444   0   0   0\n",
       "2            0     3     2  -0.423779  -0.970236   1.032570   0   0   0\n",
       "3            0     4     2  -0.074626  -1.884670   0.827882   0   0   0\n",
       "4            0     5     2  -0.117715  -1.744990   1.817140   0   0   0\n",
       "...        ...   ...   ...        ...        ...        ...  ..  ..  ..\n",
       "2555  45000000  2556     2  16.834600 -10.829500 -12.841700   0   0   0\n",
       "2556  45000000  2557     2  17.640900 -11.288900 -12.509300   0   0   0\n",
       "2557  45000000  2558     2  18.297400 -11.795700 -12.052400   0   0   0\n",
       "2558  45000000  2559     2  18.728000 -12.621000 -11.710500   0   0   0\n",
       "2559  45000000  2560     3  19.423700 -13.273900 -11.487800   0   0   0\n",
       "\n",
       "[8069120 rows x 9 columns]"
      ]
     },
     "execution_count": 5,
     "metadata": {},
     "output_type": "execute_result"
    }
   ],
   "source": [
    "df_trajectory_raw = read.read_multiple_raw_trajectory_dfs(PATHS_TRAJECTORIES)\n",
    "df_trajectory_raw"
   ]
  },
  {
   "cell_type": "markdown",
   "metadata": {
    "collapsed": false
   },
   "source": [
    "### System def"
   ]
  },
  {
   "cell_type": "code",
   "execution_count": 6,
   "metadata": {
    "ExecuteTime": {
     "end_time": "2023-04-19T16:18:45.364133Z",
     "start_time": "2023-04-19T16:18:44.352717Z"
    },
    "collapsed": false
   },
   "outputs": [
    {
     "data": {
      "text/html": [
       "<div>\n",
       "<style scoped>\n",
       "    .dataframe tbody tr th:only-of-type {\n",
       "        vertical-align: middle;\n",
       "    }\n",
       "\n",
       "    .dataframe tbody tr th {\n",
       "        vertical-align: top;\n",
       "    }\n",
       "\n",
       "    .dataframe thead th {\n",
       "        text-align: right;\n",
       "    }\n",
       "</style>\n",
       "<table border=\"1\" class=\"dataframe\">\n",
       "  <thead>\n",
       "    <tr style=\"text-align: right;\">\n",
       "      <th></th>\n",
       "      <th>molecule-ID</th>\n",
       "      <th>type</th>\n",
       "      <th>x</th>\n",
       "      <th>y</th>\n",
       "      <th>z</th>\n",
       "      <th>ix</th>\n",
       "      <th>iy</th>\n",
       "      <th>iz</th>\n",
       "    </tr>\n",
       "  </thead>\n",
       "  <tbody>\n",
       "    <tr>\n",
       "      <th>1</th>\n",
       "      <td>1</td>\n",
       "      <td>1</td>\n",
       "      <td>0.000000</td>\n",
       "      <td>0.000000</td>\n",
       "      <td>0.000000</td>\n",
       "      <td>0</td>\n",
       "      <td>0</td>\n",
       "      <td>0</td>\n",
       "    </tr>\n",
       "    <tr>\n",
       "      <th>2</th>\n",
       "      <td>1</td>\n",
       "      <td>1</td>\n",
       "      <td>-0.468830</td>\n",
       "      <td>-0.882494</td>\n",
       "      <td>0.037444</td>\n",
       "      <td>0</td>\n",
       "      <td>0</td>\n",
       "      <td>0</td>\n",
       "    </tr>\n",
       "    <tr>\n",
       "      <th>3</th>\n",
       "      <td>1</td>\n",
       "      <td>2</td>\n",
       "      <td>-0.423779</td>\n",
       "      <td>-0.970236</td>\n",
       "      <td>1.032568</td>\n",
       "      <td>0</td>\n",
       "      <td>0</td>\n",
       "      <td>0</td>\n",
       "    </tr>\n",
       "    <tr>\n",
       "      <th>4</th>\n",
       "      <td>1</td>\n",
       "      <td>2</td>\n",
       "      <td>-0.074626</td>\n",
       "      <td>-1.884673</td>\n",
       "      <td>0.827882</td>\n",
       "      <td>0</td>\n",
       "      <td>0</td>\n",
       "      <td>0</td>\n",
       "    </tr>\n",
       "    <tr>\n",
       "      <th>5</th>\n",
       "      <td>1</td>\n",
       "      <td>2</td>\n",
       "      <td>-0.117715</td>\n",
       "      <td>-1.744995</td>\n",
       "      <td>1.817141</td>\n",
       "      <td>0</td>\n",
       "      <td>0</td>\n",
       "      <td>0</td>\n",
       "    </tr>\n",
       "    <tr>\n",
       "      <th>...</th>\n",
       "      <td>...</td>\n",
       "      <td>...</td>\n",
       "      <td>...</td>\n",
       "      <td>...</td>\n",
       "      <td>...</td>\n",
       "      <td>...</td>\n",
       "      <td>...</td>\n",
       "      <td>...</td>\n",
       "    </tr>\n",
       "    <tr>\n",
       "      <th>2556</th>\n",
       "      <td>20</td>\n",
       "      <td>2</td>\n",
       "      <td>-4.071141</td>\n",
       "      <td>4.105128</td>\n",
       "      <td>-8.884395</td>\n",
       "      <td>0</td>\n",
       "      <td>0</td>\n",
       "      <td>0</td>\n",
       "    </tr>\n",
       "    <tr>\n",
       "      <th>2557</th>\n",
       "      <td>20</td>\n",
       "      <td>2</td>\n",
       "      <td>-3.448422</td>\n",
       "      <td>3.879265</td>\n",
       "      <td>-8.135258</td>\n",
       "      <td>0</td>\n",
       "      <td>0</td>\n",
       "      <td>0</td>\n",
       "    </tr>\n",
       "    <tr>\n",
       "      <th>2558</th>\n",
       "      <td>20</td>\n",
       "      <td>2</td>\n",
       "      <td>-3.578386</td>\n",
       "      <td>3.785366</td>\n",
       "      <td>-9.122321</td>\n",
       "      <td>0</td>\n",
       "      <td>0</td>\n",
       "      <td>0</td>\n",
       "    </tr>\n",
       "    <tr>\n",
       "      <th>2559</th>\n",
       "      <td>20</td>\n",
       "      <td>2</td>\n",
       "      <td>-3.644464</td>\n",
       "      <td>3.916408</td>\n",
       "      <td>-8.133148</td>\n",
       "      <td>0</td>\n",
       "      <td>0</td>\n",
       "      <td>0</td>\n",
       "    </tr>\n",
       "    <tr>\n",
       "      <th>2560</th>\n",
       "      <td>20</td>\n",
       "      <td>3</td>\n",
       "      <td>-3.963169</td>\n",
       "      <td>3.045098</td>\n",
       "      <td>-7.759992</td>\n",
       "      <td>0</td>\n",
       "      <td>0</td>\n",
       "      <td>0</td>\n",
       "    </tr>\n",
       "  </tbody>\n",
       "</table>\n",
       "<p>2560 rows × 8 columns</p>\n",
       "</div>"
      ],
      "text/plain": [
       "      molecule-ID  type         x         y         z  ix  iy  iz\n",
       "1               1     1  0.000000  0.000000  0.000000   0   0   0\n",
       "2               1     1 -0.468830 -0.882494  0.037444   0   0   0\n",
       "3               1     2 -0.423779 -0.970236  1.032568   0   0   0\n",
       "4               1     2 -0.074626 -1.884673  0.827882   0   0   0\n",
       "5               1     2 -0.117715 -1.744995  1.817141   0   0   0\n",
       "...           ...   ...       ...       ...       ...  ..  ..  ..\n",
       "2556           20     2 -4.071141  4.105128 -8.884395   0   0   0\n",
       "2557           20     2 -3.448422  3.879265 -8.135258   0   0   0\n",
       "2558           20     2 -3.578386  3.785366 -9.122321   0   0   0\n",
       "2559           20     2 -3.644464  3.916408 -8.133148   0   0   0\n",
       "2560           20     3 -3.963169  3.045098 -7.759992   0   0   0\n",
       "\n",
       "[2560 rows x 8 columns]"
      ]
     },
     "execution_count": 6,
     "metadata": {},
     "output_type": "execute_result"
    }
   ],
   "source": [
    "system = read.read_lammps_system_data(PATH_SYSTEM_DEF)\n",
    "system.atoms"
   ]
  },
  {
   "cell_type": "code",
   "execution_count": 7,
   "metadata": {
    "ExecuteTime": {
     "end_time": "2023-04-19T16:18:45.443122Z",
     "start_time": "2023-04-19T16:18:45.365618Z"
    },
    "collapsed": false
   },
   "outputs": [
    {
     "data": {
      "text/html": [
       "<div>\n",
       "<style scoped>\n",
       "    .dataframe tbody tr th:only-of-type {\n",
       "        vertical-align: middle;\n",
       "    }\n",
       "\n",
       "    .dataframe tbody tr th {\n",
       "        vertical-align: top;\n",
       "    }\n",
       "\n",
       "    .dataframe thead th {\n",
       "        text-align: right;\n",
       "    }\n",
       "</style>\n",
       "<table border=\"1\" class=\"dataframe\">\n",
       "  <thead>\n",
       "    <tr style=\"text-align: right;\">\n",
       "      <th></th>\n",
       "      <th>type</th>\n",
       "      <th>atom1</th>\n",
       "      <th>atom2</th>\n",
       "    </tr>\n",
       "  </thead>\n",
       "  <tbody>\n",
       "    <tr>\n",
       "      <th>1</th>\n",
       "      <td>1</td>\n",
       "      <td>1</td>\n",
       "      <td>2</td>\n",
       "    </tr>\n",
       "    <tr>\n",
       "      <th>2</th>\n",
       "      <td>1</td>\n",
       "      <td>2</td>\n",
       "      <td>3</td>\n",
       "    </tr>\n",
       "    <tr>\n",
       "      <th>3</th>\n",
       "      <td>1</td>\n",
       "      <td>3</td>\n",
       "      <td>4</td>\n",
       "    </tr>\n",
       "    <tr>\n",
       "      <th>4</th>\n",
       "      <td>1</td>\n",
       "      <td>4</td>\n",
       "      <td>5</td>\n",
       "    </tr>\n",
       "    <tr>\n",
       "      <th>5</th>\n",
       "      <td>1</td>\n",
       "      <td>5</td>\n",
       "      <td>6</td>\n",
       "    </tr>\n",
       "    <tr>\n",
       "      <th>...</th>\n",
       "      <td>...</td>\n",
       "      <td>...</td>\n",
       "      <td>...</td>\n",
       "    </tr>\n",
       "    <tr>\n",
       "      <th>2536</th>\n",
       "      <td>1</td>\n",
       "      <td>2555</td>\n",
       "      <td>2556</td>\n",
       "    </tr>\n",
       "    <tr>\n",
       "      <th>2537</th>\n",
       "      <td>1</td>\n",
       "      <td>2556</td>\n",
       "      <td>2557</td>\n",
       "    </tr>\n",
       "    <tr>\n",
       "      <th>2538</th>\n",
       "      <td>1</td>\n",
       "      <td>2557</td>\n",
       "      <td>2558</td>\n",
       "    </tr>\n",
       "    <tr>\n",
       "      <th>2539</th>\n",
       "      <td>1</td>\n",
       "      <td>2558</td>\n",
       "      <td>2559</td>\n",
       "    </tr>\n",
       "    <tr>\n",
       "      <th>2540</th>\n",
       "      <td>1</td>\n",
       "      <td>2559</td>\n",
       "      <td>2560</td>\n",
       "    </tr>\n",
       "  </tbody>\n",
       "</table>\n",
       "<p>2540 rows × 3 columns</p>\n",
       "</div>"
      ],
      "text/plain": [
       "      type  atom1  atom2\n",
       "1        1      1      2\n",
       "2        1      2      3\n",
       "3        1      3      4\n",
       "4        1      4      5\n",
       "5        1      5      6\n",
       "...    ...    ...    ...\n",
       "2536     1   2555   2556\n",
       "2537     1   2556   2557\n",
       "2538     1   2557   2558\n",
       "2539     1   2558   2559\n",
       "2540     1   2559   2560\n",
       "\n",
       "[2540 rows x 3 columns]"
      ]
     },
     "execution_count": 7,
     "metadata": {},
     "output_type": "execute_result"
    }
   ],
   "source": [
    "system.bonds"
   ]
  },
  {
   "cell_type": "code",
   "execution_count": 8,
   "metadata": {
    "ExecuteTime": {
     "end_time": "2023-04-19T16:18:45.485484Z",
     "start_time": "2023-04-19T16:18:45.419372Z"
    },
    "collapsed": false
   },
   "outputs": [
    {
     "data": {
      "text/html": [
       "<div>\n",
       "<style scoped>\n",
       "    .dataframe tbody tr th:only-of-type {\n",
       "        vertical-align: middle;\n",
       "    }\n",
       "\n",
       "    .dataframe tbody tr th {\n",
       "        vertical-align: top;\n",
       "    }\n",
       "\n",
       "    .dataframe thead th {\n",
       "        text-align: right;\n",
       "    }\n",
       "</style>\n",
       "<table border=\"1\" class=\"dataframe\">\n",
       "  <thead>\n",
       "    <tr style=\"text-align: right;\">\n",
       "      <th></th>\n",
       "      <th>type</th>\n",
       "      <th>atom1</th>\n",
       "      <th>atom2</th>\n",
       "      <th>atom3</th>\n",
       "    </tr>\n",
       "  </thead>\n",
       "  <tbody>\n",
       "    <tr>\n",
       "      <th>1</th>\n",
       "      <td>1</td>\n",
       "      <td>1</td>\n",
       "      <td>2</td>\n",
       "      <td>3</td>\n",
       "    </tr>\n",
       "    <tr>\n",
       "      <th>2</th>\n",
       "      <td>1</td>\n",
       "      <td>2</td>\n",
       "      <td>3</td>\n",
       "      <td>4</td>\n",
       "    </tr>\n",
       "    <tr>\n",
       "      <th>3</th>\n",
       "      <td>1</td>\n",
       "      <td>3</td>\n",
       "      <td>4</td>\n",
       "      <td>5</td>\n",
       "    </tr>\n",
       "    <tr>\n",
       "      <th>4</th>\n",
       "      <td>1</td>\n",
       "      <td>4</td>\n",
       "      <td>5</td>\n",
       "      <td>6</td>\n",
       "    </tr>\n",
       "    <tr>\n",
       "      <th>5</th>\n",
       "      <td>1</td>\n",
       "      <td>5</td>\n",
       "      <td>6</td>\n",
       "      <td>7</td>\n",
       "    </tr>\n",
       "    <tr>\n",
       "      <th>...</th>\n",
       "      <td>...</td>\n",
       "      <td>...</td>\n",
       "      <td>...</td>\n",
       "      <td>...</td>\n",
       "    </tr>\n",
       "    <tr>\n",
       "      <th>2516</th>\n",
       "      <td>1</td>\n",
       "      <td>2554</td>\n",
       "      <td>2555</td>\n",
       "      <td>2556</td>\n",
       "    </tr>\n",
       "    <tr>\n",
       "      <th>2517</th>\n",
       "      <td>1</td>\n",
       "      <td>2555</td>\n",
       "      <td>2556</td>\n",
       "      <td>2557</td>\n",
       "    </tr>\n",
       "    <tr>\n",
       "      <th>2518</th>\n",
       "      <td>1</td>\n",
       "      <td>2556</td>\n",
       "      <td>2557</td>\n",
       "      <td>2558</td>\n",
       "    </tr>\n",
       "    <tr>\n",
       "      <th>2519</th>\n",
       "      <td>1</td>\n",
       "      <td>2557</td>\n",
       "      <td>2558</td>\n",
       "      <td>2559</td>\n",
       "    </tr>\n",
       "    <tr>\n",
       "      <th>2520</th>\n",
       "      <td>1</td>\n",
       "      <td>2558</td>\n",
       "      <td>2559</td>\n",
       "      <td>2560</td>\n",
       "    </tr>\n",
       "  </tbody>\n",
       "</table>\n",
       "<p>2520 rows × 4 columns</p>\n",
       "</div>"
      ],
      "text/plain": [
       "      type  atom1  atom2  atom3\n",
       "1        1      1      2      3\n",
       "2        1      2      3      4\n",
       "3        1      3      4      5\n",
       "4        1      4      5      6\n",
       "5        1      5      6      7\n",
       "...    ...    ...    ...    ...\n",
       "2516     1   2554   2555   2556\n",
       "2517     1   2555   2556   2557\n",
       "2518     1   2556   2557   2558\n",
       "2519     1   2557   2558   2559\n",
       "2520     1   2558   2559   2560\n",
       "\n",
       "[2520 rows x 4 columns]"
      ]
     },
     "execution_count": 8,
     "metadata": {},
     "output_type": "execute_result"
    }
   ],
   "source": [
    "system.angles"
   ]
  },
  {
   "cell_type": "code",
   "execution_count": 9,
   "metadata": {
    "ExecuteTime": {
     "end_time": "2023-04-19T16:18:45.588250Z",
     "start_time": "2023-04-19T16:18:45.469638Z"
    },
    "collapsed": false
   },
   "outputs": [
    {
     "data": {
      "text/plain": [
       "-100.000000 100.000000  xlo xhi\n",
       "-100.000000 100.000000  ylo yhi\n",
       "-100.000000 100.000000  zlo zhi"
      ]
     },
     "execution_count": 9,
     "metadata": {},
     "output_type": "execute_result"
    }
   ],
   "source": [
    "system.box"
   ]
  },
  {
   "cell_type": "markdown",
   "metadata": {
    "collapsed": false
   },
   "source": [
    "## Process data"
   ]
  },
  {
   "cell_type": "markdown",
   "metadata": {
    "collapsed": false
   },
   "source": [
    "Join molecule id information"
   ]
  },
  {
   "cell_type": "code",
   "execution_count": 10,
   "metadata": {
    "ExecuteTime": {
     "end_time": "2023-04-19T16:18:52.819071Z",
     "start_time": "2023-04-19T16:18:45.551515Z"
    },
    "collapsed": false
   },
   "outputs": [
    {
     "data": {
      "text/html": [
       "<div>\n",
       "<style scoped>\n",
       "    .dataframe tbody tr th:only-of-type {\n",
       "        vertical-align: middle;\n",
       "    }\n",
       "\n",
       "    .dataframe tbody tr th {\n",
       "        vertical-align: top;\n",
       "    }\n",
       "\n",
       "    .dataframe thead th {\n",
       "        text-align: right;\n",
       "    }\n",
       "</style>\n",
       "<table border=\"1\" class=\"dataframe\">\n",
       "  <thead>\n",
       "    <tr style=\"text-align: right;\">\n",
       "      <th></th>\n",
       "      <th>t</th>\n",
       "      <th>id</th>\n",
       "      <th>type</th>\n",
       "      <th>x</th>\n",
       "      <th>y</th>\n",
       "      <th>z</th>\n",
       "      <th>ix</th>\n",
       "      <th>iy</th>\n",
       "      <th>iz</th>\n",
       "      <th>molecule-ID</th>\n",
       "    </tr>\n",
       "  </thead>\n",
       "  <tbody>\n",
       "    <tr>\n",
       "      <th>0</th>\n",
       "      <td>0</td>\n",
       "      <td>1</td>\n",
       "      <td>1</td>\n",
       "      <td>0.000000</td>\n",
       "      <td>0.000000</td>\n",
       "      <td>0.000000</td>\n",
       "      <td>0</td>\n",
       "      <td>0</td>\n",
       "      <td>0</td>\n",
       "      <td>1</td>\n",
       "    </tr>\n",
       "    <tr>\n",
       "      <th>1</th>\n",
       "      <td>0</td>\n",
       "      <td>2</td>\n",
       "      <td>1</td>\n",
       "      <td>-0.468830</td>\n",
       "      <td>-0.882494</td>\n",
       "      <td>0.037444</td>\n",
       "      <td>0</td>\n",
       "      <td>0</td>\n",
       "      <td>0</td>\n",
       "      <td>1</td>\n",
       "    </tr>\n",
       "    <tr>\n",
       "      <th>2</th>\n",
       "      <td>0</td>\n",
       "      <td>3</td>\n",
       "      <td>2</td>\n",
       "      <td>-0.423779</td>\n",
       "      <td>-0.970236</td>\n",
       "      <td>1.032570</td>\n",
       "      <td>0</td>\n",
       "      <td>0</td>\n",
       "      <td>0</td>\n",
       "      <td>1</td>\n",
       "    </tr>\n",
       "    <tr>\n",
       "      <th>3</th>\n",
       "      <td>0</td>\n",
       "      <td>4</td>\n",
       "      <td>2</td>\n",
       "      <td>-0.074626</td>\n",
       "      <td>-1.884670</td>\n",
       "      <td>0.827882</td>\n",
       "      <td>0</td>\n",
       "      <td>0</td>\n",
       "      <td>0</td>\n",
       "      <td>1</td>\n",
       "    </tr>\n",
       "    <tr>\n",
       "      <th>4</th>\n",
       "      <td>0</td>\n",
       "      <td>5</td>\n",
       "      <td>2</td>\n",
       "      <td>-0.117715</td>\n",
       "      <td>-1.744990</td>\n",
       "      <td>1.817140</td>\n",
       "      <td>0</td>\n",
       "      <td>0</td>\n",
       "      <td>0</td>\n",
       "      <td>1</td>\n",
       "    </tr>\n",
       "    <tr>\n",
       "      <th>...</th>\n",
       "      <td>...</td>\n",
       "      <td>...</td>\n",
       "      <td>...</td>\n",
       "      <td>...</td>\n",
       "      <td>...</td>\n",
       "      <td>...</td>\n",
       "      <td>...</td>\n",
       "      <td>...</td>\n",
       "      <td>...</td>\n",
       "      <td>...</td>\n",
       "    </tr>\n",
       "    <tr>\n",
       "      <th>2555</th>\n",
       "      <td>45000000</td>\n",
       "      <td>2556</td>\n",
       "      <td>2</td>\n",
       "      <td>16.834600</td>\n",
       "      <td>-10.829500</td>\n",
       "      <td>-12.841700</td>\n",
       "      <td>0</td>\n",
       "      <td>0</td>\n",
       "      <td>0</td>\n",
       "      <td>20</td>\n",
       "    </tr>\n",
       "    <tr>\n",
       "      <th>2556</th>\n",
       "      <td>45000000</td>\n",
       "      <td>2557</td>\n",
       "      <td>2</td>\n",
       "      <td>17.640900</td>\n",
       "      <td>-11.288900</td>\n",
       "      <td>-12.509300</td>\n",
       "      <td>0</td>\n",
       "      <td>0</td>\n",
       "      <td>0</td>\n",
       "      <td>20</td>\n",
       "    </tr>\n",
       "    <tr>\n",
       "      <th>2557</th>\n",
       "      <td>45000000</td>\n",
       "      <td>2558</td>\n",
       "      <td>2</td>\n",
       "      <td>18.297400</td>\n",
       "      <td>-11.795700</td>\n",
       "      <td>-12.052400</td>\n",
       "      <td>0</td>\n",
       "      <td>0</td>\n",
       "      <td>0</td>\n",
       "      <td>20</td>\n",
       "    </tr>\n",
       "    <tr>\n",
       "      <th>2558</th>\n",
       "      <td>45000000</td>\n",
       "      <td>2559</td>\n",
       "      <td>2</td>\n",
       "      <td>18.728000</td>\n",
       "      <td>-12.621000</td>\n",
       "      <td>-11.710500</td>\n",
       "      <td>0</td>\n",
       "      <td>0</td>\n",
       "      <td>0</td>\n",
       "      <td>20</td>\n",
       "    </tr>\n",
       "    <tr>\n",
       "      <th>2559</th>\n",
       "      <td>45000000</td>\n",
       "      <td>2560</td>\n",
       "      <td>3</td>\n",
       "      <td>19.423700</td>\n",
       "      <td>-13.273900</td>\n",
       "      <td>-11.487800</td>\n",
       "      <td>0</td>\n",
       "      <td>0</td>\n",
       "      <td>0</td>\n",
       "      <td>20</td>\n",
       "    </tr>\n",
       "  </tbody>\n",
       "</table>\n",
       "<p>8069120 rows × 10 columns</p>\n",
       "</div>"
      ],
      "text/plain": [
       "             t    id  type          x          y          z  ix  iy  iz  \\\n",
       "0            0     1     1   0.000000   0.000000   0.000000   0   0   0   \n",
       "1            0     2     1  -0.468830  -0.882494   0.037444   0   0   0   \n",
       "2            0     3     2  -0.423779  -0.970236   1.032570   0   0   0   \n",
       "3            0     4     2  -0.074626  -1.884670   0.827882   0   0   0   \n",
       "4            0     5     2  -0.117715  -1.744990   1.817140   0   0   0   \n",
       "...        ...   ...   ...        ...        ...        ...  ..  ..  ..   \n",
       "2555  45000000  2556     2  16.834600 -10.829500 -12.841700   0   0   0   \n",
       "2556  45000000  2557     2  17.640900 -11.288900 -12.509300   0   0   0   \n",
       "2557  45000000  2558     2  18.297400 -11.795700 -12.052400   0   0   0   \n",
       "2558  45000000  2559     2  18.728000 -12.621000 -11.710500   0   0   0   \n",
       "2559  45000000  2560     3  19.423700 -13.273900 -11.487800   0   0   0   \n",
       "\n",
       "      molecule-ID  \n",
       "0               1  \n",
       "1               1  \n",
       "2               1  \n",
       "3               1  \n",
       "4               1  \n",
       "...           ...  \n",
       "2555           20  \n",
       "2556           20  \n",
       "2557           20  \n",
       "2558           20  \n",
       "2559           20  \n",
       "\n",
       "[8069120 rows x 10 columns]"
      ]
     },
     "execution_count": 10,
     "metadata": {},
     "output_type": "execute_result"
    }
   ],
   "source": [
    "df_trajectory = transform.join_raw_trajectory_df_with_system_data(\n",
    "    df_trajectory_raw, system\n",
    ")\n",
    "df_trajectory"
   ]
  },
  {
   "cell_type": "markdown",
   "metadata": {
    "collapsed": false
   },
   "source": [
    "Unfold coordinates"
   ]
  },
  {
   "cell_type": "code",
   "execution_count": 11,
   "metadata": {
    "ExecuteTime": {
     "end_time": "2023-04-19T16:26:42.506520Z",
     "start_time": "2023-04-19T16:26:32.367484Z"
    },
    "collapsed": false
   },
   "outputs": [
    {
     "data": {
      "text/html": [
       "<div>\n",
       "<style scoped>\n",
       "    .dataframe tbody tr th:only-of-type {\n",
       "        vertical-align: middle;\n",
       "    }\n",
       "\n",
       "    .dataframe tbody tr th {\n",
       "        vertical-align: top;\n",
       "    }\n",
       "\n",
       "    .dataframe thead th {\n",
       "        text-align: right;\n",
       "    }\n",
       "</style>\n",
       "<table border=\"1\" class=\"dataframe\">\n",
       "  <thead>\n",
       "    <tr style=\"text-align: right;\">\n",
       "      <th></th>\n",
       "      <th>t</th>\n",
       "      <th>id</th>\n",
       "      <th>type</th>\n",
       "      <th>x</th>\n",
       "      <th>y</th>\n",
       "      <th>z</th>\n",
       "      <th>ix</th>\n",
       "      <th>iy</th>\n",
       "      <th>iz</th>\n",
       "      <th>molecule-ID</th>\n",
       "    </tr>\n",
       "  </thead>\n",
       "  <tbody>\n",
       "    <tr>\n",
       "      <th>0</th>\n",
       "      <td>0</td>\n",
       "      <td>1</td>\n",
       "      <td>1</td>\n",
       "      <td>0.000000</td>\n",
       "      <td>0.000000</td>\n",
       "      <td>0.000000</td>\n",
       "      <td>0</td>\n",
       "      <td>0</td>\n",
       "      <td>0</td>\n",
       "      <td>1</td>\n",
       "    </tr>\n",
       "    <tr>\n",
       "      <th>1</th>\n",
       "      <td>0</td>\n",
       "      <td>2</td>\n",
       "      <td>1</td>\n",
       "      <td>-0.468830</td>\n",
       "      <td>-0.882494</td>\n",
       "      <td>0.037444</td>\n",
       "      <td>0</td>\n",
       "      <td>0</td>\n",
       "      <td>0</td>\n",
       "      <td>1</td>\n",
       "    </tr>\n",
       "    <tr>\n",
       "      <th>2</th>\n",
       "      <td>0</td>\n",
       "      <td>3</td>\n",
       "      <td>2</td>\n",
       "      <td>-0.423779</td>\n",
       "      <td>-0.970236</td>\n",
       "      <td>1.032570</td>\n",
       "      <td>0</td>\n",
       "      <td>0</td>\n",
       "      <td>0</td>\n",
       "      <td>1</td>\n",
       "    </tr>\n",
       "    <tr>\n",
       "      <th>3</th>\n",
       "      <td>0</td>\n",
       "      <td>4</td>\n",
       "      <td>2</td>\n",
       "      <td>-0.074626</td>\n",
       "      <td>-1.884670</td>\n",
       "      <td>0.827882</td>\n",
       "      <td>0</td>\n",
       "      <td>0</td>\n",
       "      <td>0</td>\n",
       "      <td>1</td>\n",
       "    </tr>\n",
       "    <tr>\n",
       "      <th>4</th>\n",
       "      <td>0</td>\n",
       "      <td>5</td>\n",
       "      <td>2</td>\n",
       "      <td>-0.117715</td>\n",
       "      <td>-1.744990</td>\n",
       "      <td>1.817140</td>\n",
       "      <td>0</td>\n",
       "      <td>0</td>\n",
       "      <td>0</td>\n",
       "      <td>1</td>\n",
       "    </tr>\n",
       "    <tr>\n",
       "      <th>...</th>\n",
       "      <td>...</td>\n",
       "      <td>...</td>\n",
       "      <td>...</td>\n",
       "      <td>...</td>\n",
       "      <td>...</td>\n",
       "      <td>...</td>\n",
       "      <td>...</td>\n",
       "      <td>...</td>\n",
       "      <td>...</td>\n",
       "      <td>...</td>\n",
       "    </tr>\n",
       "    <tr>\n",
       "      <th>2555</th>\n",
       "      <td>45000000</td>\n",
       "      <td>2556</td>\n",
       "      <td>2</td>\n",
       "      <td>16.834600</td>\n",
       "      <td>-10.829500</td>\n",
       "      <td>-12.841700</td>\n",
       "      <td>0</td>\n",
       "      <td>0</td>\n",
       "      <td>0</td>\n",
       "      <td>20</td>\n",
       "    </tr>\n",
       "    <tr>\n",
       "      <th>2556</th>\n",
       "      <td>45000000</td>\n",
       "      <td>2557</td>\n",
       "      <td>2</td>\n",
       "      <td>17.640900</td>\n",
       "      <td>-11.288900</td>\n",
       "      <td>-12.509300</td>\n",
       "      <td>0</td>\n",
       "      <td>0</td>\n",
       "      <td>0</td>\n",
       "      <td>20</td>\n",
       "    </tr>\n",
       "    <tr>\n",
       "      <th>2557</th>\n",
       "      <td>45000000</td>\n",
       "      <td>2558</td>\n",
       "      <td>2</td>\n",
       "      <td>18.297400</td>\n",
       "      <td>-11.795700</td>\n",
       "      <td>-12.052400</td>\n",
       "      <td>0</td>\n",
       "      <td>0</td>\n",
       "      <td>0</td>\n",
       "      <td>20</td>\n",
       "    </tr>\n",
       "    <tr>\n",
       "      <th>2558</th>\n",
       "      <td>45000000</td>\n",
       "      <td>2559</td>\n",
       "      <td>2</td>\n",
       "      <td>18.728000</td>\n",
       "      <td>-12.621000</td>\n",
       "      <td>-11.710500</td>\n",
       "      <td>0</td>\n",
       "      <td>0</td>\n",
       "      <td>0</td>\n",
       "      <td>20</td>\n",
       "    </tr>\n",
       "    <tr>\n",
       "      <th>2559</th>\n",
       "      <td>45000000</td>\n",
       "      <td>2560</td>\n",
       "      <td>3</td>\n",
       "      <td>19.423700</td>\n",
       "      <td>-13.273900</td>\n",
       "      <td>-11.487800</td>\n",
       "      <td>0</td>\n",
       "      <td>0</td>\n",
       "      <td>0</td>\n",
       "      <td>20</td>\n",
       "    </tr>\n",
       "  </tbody>\n",
       "</table>\n",
       "<p>8069120 rows × 10 columns</p>\n",
       "</div>"
      ],
      "text/plain": [
       "             t    id  type          x          y          z  ix  iy  iz  \\\n",
       "0            0     1     1   0.000000   0.000000   0.000000   0   0   0   \n",
       "1            0     2     1  -0.468830  -0.882494   0.037444   0   0   0   \n",
       "2            0     3     2  -0.423779  -0.970236   1.032570   0   0   0   \n",
       "3            0     4     2  -0.074626  -1.884670   0.827882   0   0   0   \n",
       "4            0     5     2  -0.117715  -1.744990   1.817140   0   0   0   \n",
       "...        ...   ...   ...        ...        ...        ...  ..  ..  ..   \n",
       "2555  45000000  2556     2  16.834600 -10.829500 -12.841700   0   0   0   \n",
       "2556  45000000  2557     2  17.640900 -11.288900 -12.509300   0   0   0   \n",
       "2557  45000000  2558     2  18.297400 -11.795700 -12.052400   0   0   0   \n",
       "2558  45000000  2559     2  18.728000 -12.621000 -11.710500   0   0   0   \n",
       "2559  45000000  2560     3  19.423700 -13.273900 -11.487800   0   0   0   \n",
       "\n",
       "      molecule-ID  \n",
       "0               1  \n",
       "1               1  \n",
       "2               1  \n",
       "3               1  \n",
       "4               1  \n",
       "...           ...  \n",
       "2555           20  \n",
       "2556           20  \n",
       "2557           20  \n",
       "2558           20  \n",
       "2559           20  \n",
       "\n",
       "[8069120 rows x 10 columns]"
      ]
     },
     "execution_count": 11,
     "metadata": {},
     "output_type": "execute_result"
    }
   ],
   "source": [
    "df_trajectory_unfolded = transform.unfold_coordinates_df(df_trajectory, system)\n",
    "df_trajectory_unfolded"
   ]
  },
  {
   "cell_type": "markdown",
   "metadata": {
    "collapsed": false
   },
   "source": [
    "## Calculate and plot observables"
   ]
  },
  {
   "cell_type": "markdown",
   "metadata": {
    "collapsed": false
   },
   "source": [
    "### End-to-End distance $\\vec{R}$"
   ]
  },
  {
   "cell_type": "code",
   "execution_count": 12,
   "metadata": {
    "ExecuteTime": {
     "end_time": "2023-04-19T16:23:49.170802Z",
     "start_time": "2023-04-19T16:19:02.547666Z"
    },
    "collapsed": false
   },
   "outputs": [
    {
     "data": {
      "application/vnd.jupyter.widget-view+json": {
       "model_id": "8a598c70a987471fa8b12ae6ddbb77a0",
       "version_major": 2,
       "version_minor": 0
      },
      "text/plain": [
       "VBox(children=(HBox(children=(IntProgress(value=0, description='0.00%', max=2626), Label(value='0 / 2626'))), …"
      ]
     },
     "metadata": {},
     "output_type": "display_data"
    },
    {
     "data": {
      "text/html": [
       "<div>\n",
       "<style scoped>\n",
       "    .dataframe tbody tr th:only-of-type {\n",
       "        vertical-align: middle;\n",
       "    }\n",
       "\n",
       "    .dataframe tbody tr th {\n",
       "        vertical-align: top;\n",
       "    }\n",
       "\n",
       "    .dataframe thead th {\n",
       "        text-align: right;\n",
       "    }\n",
       "</style>\n",
       "<table border=\"1\" class=\"dataframe\">\n",
       "  <thead>\n",
       "    <tr style=\"text-align: right;\">\n",
       "      <th></th>\n",
       "      <th></th>\n",
       "      <th>R_x</th>\n",
       "      <th>R_y</th>\n",
       "      <th>R_z</th>\n",
       "      <th>R</th>\n",
       "    </tr>\n",
       "    <tr>\n",
       "      <th>molecule-ID</th>\n",
       "      <th>t</th>\n",
       "      <th></th>\n",
       "      <th></th>\n",
       "      <th></th>\n",
       "      <th></th>\n",
       "    </tr>\n",
       "  </thead>\n",
       "  <tbody>\n",
       "    <tr>\n",
       "      <th rowspan=\"5\" valign=\"top\">1</th>\n",
       "      <th>0</th>\n",
       "      <td>1.14267</td>\n",
       "      <td>-4.886210</td>\n",
       "      <td>2.39807</td>\n",
       "      <td>5.561608</td>\n",
       "    </tr>\n",
       "    <tr>\n",
       "      <th>100000</th>\n",
       "      <td>7.29783</td>\n",
       "      <td>-11.702500</td>\n",
       "      <td>4.16974</td>\n",
       "      <td>14.408107</td>\n",
       "    </tr>\n",
       "    <tr>\n",
       "      <th>200000</th>\n",
       "      <td>12.58900</td>\n",
       "      <td>4.521730</td>\n",
       "      <td>-4.82776</td>\n",
       "      <td>14.220979</td>\n",
       "    </tr>\n",
       "    <tr>\n",
       "      <th>300000</th>\n",
       "      <td>4.51194</td>\n",
       "      <td>-0.832617</td>\n",
       "      <td>4.95435</td>\n",
       "      <td>6.752513</td>\n",
       "    </tr>\n",
       "    <tr>\n",
       "      <th>400000</th>\n",
       "      <td>-1.34364</td>\n",
       "      <td>4.433760</td>\n",
       "      <td>-16.19060</td>\n",
       "      <td>16.840402</td>\n",
       "    </tr>\n",
       "    <tr>\n",
       "      <th>...</th>\n",
       "      <th>...</th>\n",
       "      <td>...</td>\n",
       "      <td>...</td>\n",
       "      <td>...</td>\n",
       "      <td>...</td>\n",
       "    </tr>\n",
       "    <tr>\n",
       "      <th rowspan=\"5\" valign=\"top\">20</th>\n",
       "      <th>44960000</th>\n",
       "      <td>21.86880</td>\n",
       "      <td>-9.261280</td>\n",
       "      <td>-12.34550</td>\n",
       "      <td>26.766156</td>\n",
       "    </tr>\n",
       "    <tr>\n",
       "      <th>44970000</th>\n",
       "      <td>16.45250</td>\n",
       "      <td>-13.460700</td>\n",
       "      <td>-12.42560</td>\n",
       "      <td>24.622566</td>\n",
       "    </tr>\n",
       "    <tr>\n",
       "      <th>44980000</th>\n",
       "      <td>13.94080</td>\n",
       "      <td>-10.347600</td>\n",
       "      <td>-11.38860</td>\n",
       "      <td>20.763404</td>\n",
       "    </tr>\n",
       "    <tr>\n",
       "      <th>44990000</th>\n",
       "      <td>16.23400</td>\n",
       "      <td>-13.655400</td>\n",
       "      <td>-13.02510</td>\n",
       "      <td>24.893090</td>\n",
       "    </tr>\n",
       "    <tr>\n",
       "      <th>45000000</th>\n",
       "      <td>19.42370</td>\n",
       "      <td>-13.273900</td>\n",
       "      <td>-11.48780</td>\n",
       "      <td>26.181025</td>\n",
       "    </tr>\n",
       "  </tbody>\n",
       "</table>\n",
       "<p>63020 rows × 4 columns</p>\n",
       "</div>"
      ],
      "text/plain": [
       "                           R_x        R_y       R_z          R\n",
       "molecule-ID t                                                 \n",
       "1           0          1.14267  -4.886210   2.39807   5.561608\n",
       "            100000     7.29783 -11.702500   4.16974  14.408107\n",
       "            200000    12.58900   4.521730  -4.82776  14.220979\n",
       "            300000     4.51194  -0.832617   4.95435   6.752513\n",
       "            400000    -1.34364   4.433760 -16.19060  16.840402\n",
       "...                        ...        ...       ...        ...\n",
       "20          44960000  21.86880  -9.261280 -12.34550  26.766156\n",
       "            44970000  16.45250 -13.460700 -12.42560  24.622566\n",
       "            44980000  13.94080 -10.347600 -11.38860  20.763404\n",
       "            44990000  16.23400 -13.655400 -13.02510  24.893090\n",
       "            45000000  19.42370 -13.273900 -11.48780  26.181025\n",
       "\n",
       "[63020 rows x 4 columns]"
      ]
     },
     "execution_count": 12,
     "metadata": {},
     "output_type": "execute_result"
    }
   ],
   "source": [
    "df_ete = transform.calc_end_to_end_df(df_trajectory_unfolded)\n",
    "df_ete"
   ]
  },
  {
   "cell_type": "code",
   "execution_count": 18,
   "metadata": {
    "ExecuteTime": {
     "end_time": "2023-04-19T16:29:35.241791Z",
     "start_time": "2023-04-19T16:29:34.495633Z"
    },
    "collapsed": false
   },
   "outputs": [
    {
     "data": {
      "text/plain": [
       "<Axes: title={'center': 'End-to-end distance $R$ over time.'}, xlabel='t', ylabel='$R$'>"
      ]
     },
     "execution_count": 18,
     "metadata": {},
     "output_type": "execute_result"
    },
    {
     "data": {
      "image/png": "[encoded data removed]",
      "text/plain": [
       "<Figure size 640x480 with 1 Axes>"
      ]
     },
     "metadata": {},
     "output_type": "display_data"
    }
   ],
   "source": [
    "df_ete.groupby(\"t\")[\"R\"].mean().plot(title=\"End-to-end distance $R$ over time.\", ylabel=\"$R$\")"
   ]
  },
  {
   "cell_type": "markdown",
   "metadata": {
    "collapsed": false
   },
   "source": [
    "### Change of end-to-end distance over time $g_4$\n",
    "\n",
    "$g_4(t) = \\langle (\\vec{R}(t) - \\vec{R}(0))^2 \\rangle$"
   ]
  },
  {
   "cell_type": "code",
   "execution_count": 15,
   "metadata": {
    "ExecuteTime": {
     "end_time": "2023-04-19T16:24:05.864074Z",
     "start_time": "2023-04-19T16:24:01.954315Z"
    },
    "collapsed": false
   },
   "outputs": [
    {
     "data": {
      "text/plain": [
       "t\n",
       "0              0.000000\n",
       "100000       121.531119\n",
       "200000       201.645579\n",
       "300000       282.784511\n",
       "400000       273.102929\n",
       "               ...     \n",
       "44960000    1767.155203\n",
       "44970000    1821.696934\n",
       "44980000    1808.913207\n",
       "44990000    1813.622412\n",
       "45000000    1677.263368\n",
       "Length: 3151, dtype: float64"
      ]
     },
     "execution_count": 15,
     "metadata": {},
     "output_type": "execute_result"
    }
   ],
   "source": [
    "df_ete_change = transform.calculate_ete_change_ens_avg_df(df_ete)\n",
    "df_ete_change"
   ]
  },
  {
   "cell_type": "code",
   "execution_count": 21,
   "metadata": {
    "ExecuteTime": {
     "end_time": "2023-04-19T16:24:06.210873Z",
     "start_time": "2023-04-19T16:24:05.857614Z"
    },
    "collapsed": false
   },
   "outputs": [
    {
     "data": {
      "text/plain": [
       "<Axes: title={'center': '$\\\\langle (\\\\vec{R}(t) - \\\\vec{R}(0))^2 \\\\rangle$'}, xlabel='t', ylabel='$\\\\langle (\\\\vec{R}(t) - \\\\vec{R}(0))^2 \\\\rangle$'>"
      ]
     },
     "execution_count": 21,
     "metadata": {},
     "output_type": "execute_result"
    },
    {
     "data": {
      "image/png": "[encoded data removed]",
      "text/plain": [
       "<Figure size 640x480 with 1 Axes>"
      ]
     },
     "metadata": {},
     "output_type": "display_data"
    }
   ],
   "source": [
    "df_ete_change.plot(title=r\"$\\langle (\\vec{R}(t) - \\vec{R}(0))^2 \\rangle$\",\n",
    "                   ylabel=r\"$\\langle (\\vec{R}(t) - \\vec{R}(0))^2 \\rangle$\")"
   ]
  },
  {
   "cell_type": "markdown",
   "metadata": {
    "collapsed": false
   },
   "source": [
    "### Average distance between neighbours $l^2$\n",
    "$l^2 = \\langle (r_k - r_{k-1})^2 \\rangle $"
   ]
  },
  {
   "cell_type": "code",
   "execution_count": 17,
   "metadata": {
    "ExecuteTime": {
     "end_time": "2023-04-19T16:24:06.547143Z",
     "start_time": "2023-04-19T16:24:06.210725Z"
    },
    "collapsed": false
   },
   "outputs": [
    {
     "data": {
      "text/plain": [
       "0.9451951140204373"
      ]
     },
     "execution_count": 17,
     "metadata": {},
     "output_type": "execute_result"
    }
   ],
   "source": [
    "l_squared = transform.calculate_neigh_distance_avg_df(df_trajectory_unfolded)\n",
    "l_squared"
   ]
  },
  {
   "cell_type": "code",
   "execution_count": null,
   "metadata": {
    "collapsed": false
   },
   "outputs": [],
   "source": []
  }
 ],
 "metadata": {
  "kernelspec": {
   "display_name": "polyflex-md-data-analysis",
   "language": "python",
   "name": "polyflex-md-data-analysis"
  },
  "language_info": {
   "codemirror_mode": {
    "name": "ipython",
    "version": 2
   },
   "file_extension": ".py",
   "mimetype": "text/x-python",
   "name": "python",
   "nbconvert_exporter": "python",
   "pygments_lexer": "ipython2",
   "version": "2.7.6"
  }
 },
 "nbformat": 4,
 "nbformat_minor": 0
}
