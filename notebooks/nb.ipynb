{
 "cells": [
  {
   "cell_type": "code",
   "execution_count": 7,
   "metadata": {
    "collapsed": true,
    "ExecuteTime": {
     "end_time": "2023-07-14T21:26:33.894967585Z",
     "start_time": "2023-07-14T21:26:33.847363652Z"
    }
   },
   "outputs": [],
   "source": [
    "import pathlib\n",
    "import typing\n",
    "\n",
    "import dask\n",
    "import dask.array\n",
    "import dask.dataframe\n",
    "import dask.bag\n",
    "import polyflexmd.data_analysis.data.read as read\n",
    "import polyflexmd.data_analysis.data.constants as constants\n",
    "import polyflexmd.data_analysis.transform.transform as transform\n",
    "import polyflexmd.data_analysis.pipelines.trajectory\n",
    "\n",
    "import pandas as pd\n",
    "\n",
    "import re\n",
    "\n",
    "import MDAnalysis as mda"
   ]
  },
  {
   "cell_type": "code",
   "execution_count": 57,
   "outputs": [
    {
     "data": {
      "text/plain": "[Delayed('list-1044d4bae61963cf2c95e58538f18008')]"
     },
     "execution_count": 57,
     "metadata": {},
     "output_type": "execute_result"
    }
   ],
   "source": [
    "import dask.utils\n",
    "dask.bag.read_text(\n",
    "    \"/home/egor/Projects/polyflexmd/data/test-5-FENE-beadspring-vary-l_K-vary-d_end/e296c212/data/raw/i_kappa=1/j_d_end=1/polymer-1-1.out\",\n",
    "    collection=False\n",
    ")"
   ],
   "metadata": {
    "collapsed": false,
    "ExecuteTime": {
     "end_time": "2023-07-14T23:19:16.674582553Z",
     "start_time": "2023-07-14T23:19:15.327427184Z"
    }
   }
  },
  {
   "cell_type": "code",
   "execution_count": 2,
   "outputs": [],
   "source": [
    "%load_ext autoreload\n",
    "%autoreload 2"
   ],
   "metadata": {
    "collapsed": false,
    "ExecuteTime": {
     "end_time": "2023-07-14T21:25:42.691660940Z",
     "start_time": "2023-07-14T21:25:42.642313503Z"
    }
   }
  },
  {
   "cell_type": "code",
   "execution_count": 14,
   "outputs": [
    {
     "data": {
      "text/plain": "[PosixPath('/home/egor/Projects/polyflexmd/data/test-5-FENE-beadspring-vary-l_K-vary-d_end/e296c212/data/raw/i_kappa=2/j_d_end=1/polymer-2-1.out'),\n PosixPath('/home/egor/Projects/polyflexmd/data/test-5-FENE-beadspring-vary-l_K-vary-d_end/e296c212/data/raw/i_kappa=2/j_d_end=2/polymer-2-2.out')]"
     },
     "execution_count": 14,
     "metadata": {},
     "output_type": "execute_result"
    }
   ],
   "source": [
    "paths_trajs = [\n",
    "    pathlib.Path(\n",
    "        \"/home/egor/Projects/polyflexmd/data/test-5-FENE-beadspring-vary-l_K-vary-d_end/e296c212/data/raw/i_kappa=2/j_d_end=1/polymer-2-1.out\"),\n",
    "    pathlib.Path(\n",
    "        \"/home/egor/Projects/polyflexmd/data/test-5-FENE-beadspring-vary-l_K-vary-d_end/e296c212/data/raw/i_kappa=2/j_d_end=2/polymer-2-2.out\")\n",
    "]\n",
    "paths_trajs"
   ],
   "metadata": {
    "collapsed": false,
    "ExecuteTime": {
     "end_time": "2023-07-14T21:34:33.943417109Z",
     "start_time": "2023-07-14T21:34:33.879018168Z"
    }
   }
  },
  {
   "cell_type": "code",
   "execution_count": 48,
   "outputs": [
    {
     "ename": "ValueError",
     "evalue": "invalid literal for int() with base 10: '508      bonds\\n'",
     "output_type": "error",
     "traceback": [
      "\u001B[0;31m---------------------------------------------------------------------------\u001B[0m",
      "\u001B[0;31mValueError\u001B[0m                                Traceback (most recent call last)",
      "Cell \u001B[0;32mIn[48], line 3\u001B[0m\n\u001B[1;32m      1\u001B[0m topology \u001B[38;5;241m=\u001B[39m \u001B[43mmda\u001B[49m\u001B[38;5;241;43m.\u001B[39;49m\u001B[43mtopology\u001B[49m\u001B[38;5;241;43m.\u001B[39;49m\u001B[43mLAMMPSParser\u001B[49m\u001B[38;5;241;43m.\u001B[39;49m\u001B[43mLammpsDumpParser\u001B[49m\u001B[43m(\u001B[49m\n\u001B[1;32m      2\u001B[0m \u001B[43m    \u001B[49m\u001B[38;5;124;43m\"\u001B[39;49m\u001B[38;5;124;43m/home/egor/Projects/polyflexmd/data/test-5-FENE-beadspring-vary-l_K-vary-d_end/e296c212/data/initial_system.data\u001B[39;49m\u001B[38;5;124;43m\"\u001B[39;49m\n\u001B[0;32m----> 3\u001B[0m \u001B[43m)\u001B[49m\u001B[38;5;241;43m.\u001B[39;49m\u001B[43mparse\u001B[49m\u001B[43m(\u001B[49m\u001B[43m)\u001B[49m\n\u001B[1;32m      4\u001B[0m topology\u001B[38;5;241m.\u001B[39mbonds\n",
      "File \u001B[0;32m~/Projects/polyflexmd/.venv/lib/python3.10/site-packages/MDAnalysis/topology/LAMMPSParser.py:604\u001B[0m, in \u001B[0;36mLammpsDumpParser.parse\u001B[0;34m(self, **kwargs)\u001B[0m\n\u001B[1;32m    601\u001B[0m fin\u001B[38;5;241m.\u001B[39mreadline()  \u001B[38;5;66;03m# 0\u001B[39;00m\n\u001B[1;32m    603\u001B[0m fin\u001B[38;5;241m.\u001B[39mreadline()  \u001B[38;5;66;03m# ITEM NUMBER OF ATOMS\u001B[39;00m\n\u001B[0;32m--> 604\u001B[0m natoms \u001B[38;5;241m=\u001B[39m \u001B[38;5;28;43mint\u001B[39;49m\u001B[43m(\u001B[49m\u001B[43mfin\u001B[49m\u001B[38;5;241;43m.\u001B[39;49m\u001B[43mreadline\u001B[49m\u001B[43m(\u001B[49m\u001B[43m)\u001B[49m\u001B[43m)\u001B[49m\n\u001B[1;32m    606\u001B[0m fin\u001B[38;5;241m.\u001B[39mreadline()  \u001B[38;5;66;03m# ITEM BOX\u001B[39;00m\n\u001B[1;32m    607\u001B[0m fin\u001B[38;5;241m.\u001B[39mreadline()  \u001B[38;5;66;03m# x\u001B[39;00m\n",
      "\u001B[0;31mValueError\u001B[0m: invalid literal for int() with base 10: '508      bonds\\n'"
     ]
    }
   ],
   "source": [
    "topology = mda.topology.LAMMPSParser.DATAParser(\n",
    "    \"/home/egor/Projects/polyflexmd/data/test-5-FENE-beadspring-vary-l_K-vary-d_end/e296c212/data/initial_system.data\"\n",
    ").parse()\n",
    "topology.bonds"
   ],
   "metadata": {
    "collapsed": false,
    "ExecuteTime": {
     "end_time": "2023-07-14T22:11:19.039471614Z",
     "start_time": "2023-07-14T22:11:18.940678582Z"
    }
   }
  },
  {
   "cell_type": "code",
   "execution_count": 5,
   "outputs": [],
   "source": [
    "system = read.read_lammps_system_data(pathlib.Path(\n",
    "    \"/home/egor/Projects/polyflexmd/data/test-5-FENE-beadspring-vary-l_K-vary-d_end/e296c212/data/initial_system.data\"))"
   ],
   "metadata": {
    "collapsed": false,
    "ExecuteTime": {
     "end_time": "2023-07-14T21:26:02.962015285Z",
     "start_time": "2023-07-14T21:26:02.909756454Z"
    }
   }
  },
  {
   "cell_type": "code",
   "execution_count": 17,
   "outputs": [
    {
     "data": {
      "text/plain": "     molecule-ID  type          x         y         z  ix  iy  iz\n1              1     1   0.000000  0.000000  0.000000   0   0   0\n2              1     1  -0.159927 -0.017451 -0.956566   0   0   0\n3              1     2  -0.086992 -0.765936 -0.343908   0   0   0\n4              1     2   0.059319  0.029401 -0.879569   0   0   0\n5              1     2   0.514538  0.823298 -0.558005   0   0   0\n..           ...   ...        ...       ...       ...  ..  ..  ..\n508            4     2  11.500683 -0.771811 -0.504867   0   0   0\n509            4     2  10.579229 -0.598039 -0.753109   0   0   0\n510            4     2  10.236980 -1.059966  0.028165   0   0   0\n511            4     2  10.520269 -1.676332  0.721519   0   0   0\n512            4     3  10.065055 -0.965932  1.200070   0   0   0\n\n[512 rows x 8 columns]",
      "text/html": "<div>\n<style scoped>\n    .dataframe tbody tr th:only-of-type {\n        vertical-align: middle;\n    }\n\n    .dataframe tbody tr th {\n        vertical-align: top;\n    }\n\n    .dataframe thead th {\n        text-align: right;\n    }\n</style>\n<table border=\"1\" class=\"dataframe\">\n  <thead>\n    <tr style=\"text-align: right;\">\n      <th></th>\n      <th>molecule-ID</th>\n      <th>type</th>\n      <th>x</th>\n      <th>y</th>\n      <th>z</th>\n      <th>ix</th>\n      <th>iy</th>\n      <th>iz</th>\n    </tr>\n  </thead>\n  <tbody>\n    <tr>\n      <th>1</th>\n      <td>1</td>\n      <td>1</td>\n      <td>0.000000</td>\n      <td>0.000000</td>\n      <td>0.000000</td>\n      <td>0</td>\n      <td>0</td>\n      <td>0</td>\n    </tr>\n    <tr>\n      <th>2</th>\n      <td>1</td>\n      <td>1</td>\n      <td>-0.159927</td>\n      <td>-0.017451</td>\n      <td>-0.956566</td>\n      <td>0</td>\n      <td>0</td>\n      <td>0</td>\n    </tr>\n    <tr>\n      <th>3</th>\n      <td>1</td>\n      <td>2</td>\n      <td>-0.086992</td>\n      <td>-0.765936</td>\n      <td>-0.343908</td>\n      <td>0</td>\n      <td>0</td>\n      <td>0</td>\n    </tr>\n    <tr>\n      <th>4</th>\n      <td>1</td>\n      <td>2</td>\n      <td>0.059319</td>\n      <td>0.029401</td>\n      <td>-0.879569</td>\n      <td>0</td>\n      <td>0</td>\n      <td>0</td>\n    </tr>\n    <tr>\n      <th>5</th>\n      <td>1</td>\n      <td>2</td>\n      <td>0.514538</td>\n      <td>0.823298</td>\n      <td>-0.558005</td>\n      <td>0</td>\n      <td>0</td>\n      <td>0</td>\n    </tr>\n    <tr>\n      <th>...</th>\n      <td>...</td>\n      <td>...</td>\n      <td>...</td>\n      <td>...</td>\n      <td>...</td>\n      <td>...</td>\n      <td>...</td>\n      <td>...</td>\n    </tr>\n    <tr>\n      <th>508</th>\n      <td>4</td>\n      <td>2</td>\n      <td>11.500683</td>\n      <td>-0.771811</td>\n      <td>-0.504867</td>\n      <td>0</td>\n      <td>0</td>\n      <td>0</td>\n    </tr>\n    <tr>\n      <th>509</th>\n      <td>4</td>\n      <td>2</td>\n      <td>10.579229</td>\n      <td>-0.598039</td>\n      <td>-0.753109</td>\n      <td>0</td>\n      <td>0</td>\n      <td>0</td>\n    </tr>\n    <tr>\n      <th>510</th>\n      <td>4</td>\n      <td>2</td>\n      <td>10.236980</td>\n      <td>-1.059966</td>\n      <td>0.028165</td>\n      <td>0</td>\n      <td>0</td>\n      <td>0</td>\n    </tr>\n    <tr>\n      <th>511</th>\n      <td>4</td>\n      <td>2</td>\n      <td>10.520269</td>\n      <td>-1.676332</td>\n      <td>0.721519</td>\n      <td>0</td>\n      <td>0</td>\n      <td>0</td>\n    </tr>\n    <tr>\n      <th>512</th>\n      <td>4</td>\n      <td>3</td>\n      <td>10.065055</td>\n      <td>-0.965932</td>\n      <td>1.200070</td>\n      <td>0</td>\n      <td>0</td>\n      <td>0</td>\n    </tr>\n  </tbody>\n</table>\n<p>512 rows × 8 columns</p>\n</div>"
     },
     "execution_count": 17,
     "metadata": {},
     "output_type": "execute_result"
    }
   ],
   "source": [
    "system.atoms"
   ],
   "metadata": {
    "collapsed": false,
    "ExecuteTime": {
     "end_time": "2023-07-14T21:37:27.818601711Z",
     "start_time": "2023-07-14T21:37:27.757402458Z"
    }
   }
  },
  {
   "cell_type": "code",
   "execution_count": null,
   "outputs": [],
   "source": [],
   "metadata": {
    "collapsed": false
   }
  },
  {
   "cell_type": "code",
   "execution_count": 13,
   "outputs": [
    {
     "data": {
      "text/plain": "                                       row  \\\n0                         ITEM: TIMESTEP\\n   \n1                                1000000\\n   \n2                  ITEM: NUMBER OF ATOMS\\n   \n3                                    512\\n   \n4              ITEM: BOX BOUNDS pp pp pp\\n   \n..                                     ...   \n95   87 2 17.669 -2.46987 -6.22782 0 0 0\\n   \n96  88 2 16.9546 -1.81579 -6.48717 0 0 0\\n   \n97   89 2 16.343 -1.71131 -7.26439 0 0 0\\n   \n98   90 2 16.3116 -1.4149 -8.14843 0 0 0\\n   \n99    91 2 16.2794 -1.214 -9.08199 0 0 0\\n   \n\n                                                 path  \n0   /home/egor/Projects/polyflexmd/data/test-5-FEN...  \n1   /home/egor/Projects/polyflexmd/data/test-5-FEN...  \n2   /home/egor/Projects/polyflexmd/data/test-5-FEN...  \n3   /home/egor/Projects/polyflexmd/data/test-5-FEN...  \n4   /home/egor/Projects/polyflexmd/data/test-5-FEN...  \n..                                                ...  \n95  /home/egor/Projects/polyflexmd/data/test-5-FEN...  \n96  /home/egor/Projects/polyflexmd/data/test-5-FEN...  \n97  /home/egor/Projects/polyflexmd/data/test-5-FEN...  \n98  /home/egor/Projects/polyflexmd/data/test-5-FEN...  \n99  /home/egor/Projects/polyflexmd/data/test-5-FEN...  \n\n[100 rows x 2 columns]",
      "text/html": "<div>\n<style scoped>\n    .dataframe tbody tr th:only-of-type {\n        vertical-align: middle;\n    }\n\n    .dataframe tbody tr th {\n        vertical-align: top;\n    }\n\n    .dataframe thead th {\n        text-align: right;\n    }\n</style>\n<table border=\"1\" class=\"dataframe\">\n  <thead>\n    <tr style=\"text-align: right;\">\n      <th></th>\n      <th>row</th>\n      <th>path</th>\n    </tr>\n  </thead>\n  <tbody>\n    <tr>\n      <th>0</th>\n      <td>ITEM: TIMESTEP\\n</td>\n      <td>/home/egor/Projects/polyflexmd/data/test-5-FEN...</td>\n    </tr>\n    <tr>\n      <th>1</th>\n      <td>1000000\\n</td>\n      <td>/home/egor/Projects/polyflexmd/data/test-5-FEN...</td>\n    </tr>\n    <tr>\n      <th>2</th>\n      <td>ITEM: NUMBER OF ATOMS\\n</td>\n      <td>/home/egor/Projects/polyflexmd/data/test-5-FEN...</td>\n    </tr>\n    <tr>\n      <th>3</th>\n      <td>512\\n</td>\n      <td>/home/egor/Projects/polyflexmd/data/test-5-FEN...</td>\n    </tr>\n    <tr>\n      <th>4</th>\n      <td>ITEM: BOX BOUNDS pp pp pp\\n</td>\n      <td>/home/egor/Projects/polyflexmd/data/test-5-FEN...</td>\n    </tr>\n    <tr>\n      <th>...</th>\n      <td>...</td>\n      <td>...</td>\n    </tr>\n    <tr>\n      <th>95</th>\n      <td>87 2 17.669 -2.46987 -6.22782 0 0 0\\n</td>\n      <td>/home/egor/Projects/polyflexmd/data/test-5-FEN...</td>\n    </tr>\n    <tr>\n      <th>96</th>\n      <td>88 2 16.9546 -1.81579 -6.48717 0 0 0\\n</td>\n      <td>/home/egor/Projects/polyflexmd/data/test-5-FEN...</td>\n    </tr>\n    <tr>\n      <th>97</th>\n      <td>89 2 16.343 -1.71131 -7.26439 0 0 0\\n</td>\n      <td>/home/egor/Projects/polyflexmd/data/test-5-FEN...</td>\n    </tr>\n    <tr>\n      <th>98</th>\n      <td>90 2 16.3116 -1.4149 -8.14843 0 0 0\\n</td>\n      <td>/home/egor/Projects/polyflexmd/data/test-5-FEN...</td>\n    </tr>\n    <tr>\n      <th>99</th>\n      <td>91 2 16.2794 -1.214 -9.08199 0 0 0\\n</td>\n      <td>/home/egor/Projects/polyflexmd/data/test-5-FEN...</td>\n    </tr>\n  </tbody>\n</table>\n<p>100 rows × 2 columns</p>\n</div>"
     },
     "execution_count": 13,
     "metadata": {},
     "output_type": "execute_result"
    }
   ],
   "source": [
    "df_bag = dask.bag.read_text(paths_trajs, linedelimiter=\"\\n\", blocksize=\"128MiB\", include_path=True).to_dataframe(\n",
    "    columns=[\"row\", \"path\"]).head(100)\n",
    "df_bag"
   ],
   "metadata": {
    "collapsed": false,
    "ExecuteTime": {
     "end_time": "2023-07-13T14:39:54.446203252Z",
     "start_time": "2023-07-13T14:39:53.465940118Z"
    }
   }
  },
  {
   "cell_type": "code",
   "execution_count": 24,
   "outputs": [
    {
     "name": "stdout",
     "output_type": "stream",
     "text": [
      "Reading [VariableTrajectoryPath(variables=[('kappa', 1.0), ('d_end', 1.2)], possible_values=[], paths=[PosixPath('/home/egor/Projects/polyflexmd/data/test-5-FENE-beadspring-vary-l_K-vary-d_end/e296c212/data/raw/i_kappa=2/j_d_end=1/polymer-2-1.out')]), VariableTrajectoryPath(variables=[('kappa', 1.0), ('d_end', 1.4)], possible_values=[], paths=[PosixPath('/home/egor/Projects/polyflexmd/data/test-5-FENE-beadspring-vary-l_K-vary-d_end/e296c212/data/raw/i_kappa=2/j_d_end=2/polymer-2-2.out')])]...\n"
     ]
    },
    {
     "data": {
      "text/plain": "          id  type          x         y         z  ix  iy  iz  kappa  d_end\nt                                                                          \n1000000    1     1   0.000000   0.00000   0.00000   0   0   0    1.0    1.4\n1000000  162     2 -13.374000   7.13641 -10.26180   0   0   0    1.0    1.2\n1000000  163     2 -12.423400   7.13054  -9.91717   0   0   0    1.0    1.2\n1000000  164     2 -11.614300   6.97447  -9.50037   0   0   0    1.0    1.2\n1000000  165     2 -10.982700   6.46110  -9.02570   0   0   0    1.0    1.2\n...      ...   ...        ...       ...       ...  ..  ..  ..    ...    ...\n2000000    4     2  -0.397928   1.57091  -1.87166   0   0   0    1.0    1.2\n2000000    5     2  -0.499559   2.47456  -2.05904   0   0   0    1.0    1.2\n2000000    6     2  -0.495117   3.11698  -1.33814   0   0   0    1.0    1.2\n2000000  512     3  -4.498880  13.45160   8.68453   0   0   0    1.0    1.2\n2000000  512     3  11.230700 -14.73030  -4.48350   0   0   0    1.0    1.4\n\n[103424 rows x 10 columns]",
      "text/html": "<div>\n<style scoped>\n    .dataframe tbody tr th:only-of-type {\n        vertical-align: middle;\n    }\n\n    .dataframe tbody tr th {\n        vertical-align: top;\n    }\n\n    .dataframe thead th {\n        text-align: right;\n    }\n</style>\n<table border=\"1\" class=\"dataframe\">\n  <thead>\n    <tr style=\"text-align: right;\">\n      <th></th>\n      <th>id</th>\n      <th>type</th>\n      <th>x</th>\n      <th>y</th>\n      <th>z</th>\n      <th>ix</th>\n      <th>iy</th>\n      <th>iz</th>\n      <th>kappa</th>\n      <th>d_end</th>\n    </tr>\n    <tr>\n      <th>t</th>\n      <th></th>\n      <th></th>\n      <th></th>\n      <th></th>\n      <th></th>\n      <th></th>\n      <th></th>\n      <th></th>\n      <th></th>\n      <th></th>\n    </tr>\n  </thead>\n  <tbody>\n    <tr>\n      <th>1000000</th>\n      <td>1</td>\n      <td>1</td>\n      <td>0.000000</td>\n      <td>0.00000</td>\n      <td>0.00000</td>\n      <td>0</td>\n      <td>0</td>\n      <td>0</td>\n      <td>1.0</td>\n      <td>1.4</td>\n    </tr>\n    <tr>\n      <th>1000000</th>\n      <td>162</td>\n      <td>2</td>\n      <td>-13.374000</td>\n      <td>7.13641</td>\n      <td>-10.26180</td>\n      <td>0</td>\n      <td>0</td>\n      <td>0</td>\n      <td>1.0</td>\n      <td>1.2</td>\n    </tr>\n    <tr>\n      <th>1000000</th>\n      <td>163</td>\n      <td>2</td>\n      <td>-12.423400</td>\n      <td>7.13054</td>\n      <td>-9.91717</td>\n      <td>0</td>\n      <td>0</td>\n      <td>0</td>\n      <td>1.0</td>\n      <td>1.2</td>\n    </tr>\n    <tr>\n      <th>1000000</th>\n      <td>164</td>\n      <td>2</td>\n      <td>-11.614300</td>\n      <td>6.97447</td>\n      <td>-9.50037</td>\n      <td>0</td>\n      <td>0</td>\n      <td>0</td>\n      <td>1.0</td>\n      <td>1.2</td>\n    </tr>\n    <tr>\n      <th>1000000</th>\n      <td>165</td>\n      <td>2</td>\n      <td>-10.982700</td>\n      <td>6.46110</td>\n      <td>-9.02570</td>\n      <td>0</td>\n      <td>0</td>\n      <td>0</td>\n      <td>1.0</td>\n      <td>1.2</td>\n    </tr>\n    <tr>\n      <th>...</th>\n      <td>...</td>\n      <td>...</td>\n      <td>...</td>\n      <td>...</td>\n      <td>...</td>\n      <td>...</td>\n      <td>...</td>\n      <td>...</td>\n      <td>...</td>\n      <td>...</td>\n    </tr>\n    <tr>\n      <th>2000000</th>\n      <td>4</td>\n      <td>2</td>\n      <td>-0.397928</td>\n      <td>1.57091</td>\n      <td>-1.87166</td>\n      <td>0</td>\n      <td>0</td>\n      <td>0</td>\n      <td>1.0</td>\n      <td>1.2</td>\n    </tr>\n    <tr>\n      <th>2000000</th>\n      <td>5</td>\n      <td>2</td>\n      <td>-0.499559</td>\n      <td>2.47456</td>\n      <td>-2.05904</td>\n      <td>0</td>\n      <td>0</td>\n      <td>0</td>\n      <td>1.0</td>\n      <td>1.2</td>\n    </tr>\n    <tr>\n      <th>2000000</th>\n      <td>6</td>\n      <td>2</td>\n      <td>-0.495117</td>\n      <td>3.11698</td>\n      <td>-1.33814</td>\n      <td>0</td>\n      <td>0</td>\n      <td>0</td>\n      <td>1.0</td>\n      <td>1.2</td>\n    </tr>\n    <tr>\n      <th>2000000</th>\n      <td>512</td>\n      <td>3</td>\n      <td>-4.498880</td>\n      <td>13.45160</td>\n      <td>8.68453</td>\n      <td>0</td>\n      <td>0</td>\n      <td>0</td>\n      <td>1.0</td>\n      <td>1.2</td>\n    </tr>\n    <tr>\n      <th>2000000</th>\n      <td>512</td>\n      <td>3</td>\n      <td>11.230700</td>\n      <td>-14.73030</td>\n      <td>-4.48350</td>\n      <td>0</td>\n      <td>0</td>\n      <td>0</td>\n      <td>1.0</td>\n      <td>1.4</td>\n    </tr>\n  </tbody>\n</table>\n<p>103424 rows × 10 columns</p>\n</div>"
     },
     "execution_count": 24,
     "metadata": {},
     "output_type": "execute_result"
    }
   ],
   "source": [
    "def process_timestep(df: dask.dataframe.DataFrame, path_to_var: dict[str, read.VariableTrajectoryPath]):\n",
    "\n",
    "    timestep = df.iloc[1][0]\n",
    "    columns = df.iloc[8][0].split()[2:]\n",
    "\n",
    "    path = df.iloc[0][\"path\"]\n",
    "    variable_names, variable_values = zip(*path_to_var[path].variables)\n",
    "\n",
    "    header = [\"t\", *columns, *variable_names]\n",
    "    rows = []\n",
    "\n",
    "    for _, row in df.iloc[9:].iterrows():\n",
    "        values = row[\"row\"].split()\n",
    "        values.insert(0, timestep)\n",
    "        values.extend(variable_values)\n",
    "        rows.append(values)\n",
    "\n",
    "    return pd.DataFrame(rows, columns=header).astype(constants.RAW_TRAJECTORY_DF_COLUMN_TYPES)\n",
    "\n",
    "\n",
    "def read_lammps_trajectories(\n",
    "        paths: list[read.VariableTrajectoryPath],\n",
    "        column_types: dict = constants.RAW_TRAJECTORY_DF_COLUMN_TYPES,\n",
    "        time_steps_per_partition: int = 100000,\n",
    ") -> dask.dataframe.DataFrame:\n",
    "    print(f\"Reading {paths}...\")\n",
    "\n",
    "    paths_d = {str(vtp_path): vtp for vtp in paths for vtp_path in vtp.paths}\n",
    "    variable_names = (name for name, _ in paths[0].variables)\n",
    "    paths = [p for vtp in paths for p in vtp.paths]\n",
    "\n",
    "    df_bag = dask.bag.read_text(paths, linedelimiter=\"\\n\", blocksize=\"128MiB\", include_path=True).to_dataframe(columns=[\"row\", \"path\"])\n",
    "\n",
    "    index = df_bag[\"row\"].str.contains(\"ITEM: TIMESTEP\").cumsum()\n",
    "    df_bag[\"i\"] = index\n",
    "    df_bag = df_bag.set_index(\"i\", sorted=True, sort=False).repartition(divisions=index.unique().compute().sort_values().tolist())\n",
    "    df_bag.persist()\n",
    "\n",
    "    columns = df_bag.loc[df_bag[\"row\"].str.contains(\"ITEM: ATOMS\")].head(1).iloc[0][\"row\"].split()[2:]\n",
    "    columns.insert(0, \"t\")\n",
    "\n",
    "    df: dask.dataframe.DataFrame = df_bag.groupby([\"i\", \"path\"]).apply(\n",
    "        process_timestep,\n",
    "        path_to_var=paths_d,\n",
    "        meta=pd.DataFrame(columns=[*columns, *variable_names]).astype(column_types)\n",
    "    )\n",
    "    #print(f\"Indexing dataframe from {path}...\")\n",
    "    divisions = df[\"t\"].loc[df[\"t\"] % time_steps_per_partition == 0].unique().compute().sort_values().tolist()\n",
    "    df = df.set_index(\"t\", divisions=divisions)\n",
    "\n",
    "    return df\n",
    "\n",
    "vtps = [\n",
    "    read.VariableTrajectoryPath(\n",
    "        variables=[(\"kappa\", 1.0), (\"d_end\", 1.2)],\n",
    "        possible_values=[],\n",
    "        paths=[pathlib.Path(\"/home/egor/Projects/polyflexmd/data/test-5-FENE-beadspring-vary-l_K-vary-d_end/e296c212/data/raw/i_kappa=2/j_d_end=1/polymer-2-1.out\")]\n",
    "    ),\n",
    "    read.VariableTrajectoryPath(\n",
    "        variables=[(\"kappa\", 1.0), (\"d_end\", 1.4)],\n",
    "        possible_values=[],\n",
    "        paths=[pathlib.Path(\"/home/egor/Projects/polyflexmd/data/test-5-FENE-beadspring-vary-l_K-vary-d_end/e296c212/data/raw/i_kappa=2/j_d_end=2/polymer-2-2.out\")]\n",
    "    )\n",
    "]\n",
    "read_lammps_trajectory(vtps).compute()"
   ],
   "metadata": {
    "collapsed": false,
    "ExecuteTime": {
     "end_time": "2023-07-13T15:33:58.568202374Z",
     "start_time": "2023-07-13T15:33:34.981067516Z"
    }
   }
  },
  {
   "cell_type": "code",
   "execution_count": 11,
   "outputs": [
    {
     "ename": "NotImplementedError",
     "evalue": "Iteration of DataFrameGroupBy objects requires computing the groups which may be slow. You probably want to use 'apply' to execute a function for all the columns. To access individual groups, use 'get_group'. To list all the group names, use 'df[<group column>].unique().compute()'.",
     "output_type": "error",
     "traceback": [
      "\u001B[0;31m---------------------------------------------------------------------------\u001B[0m",
      "\u001B[0;31mNotImplementedError\u001B[0m                       Traceback (most recent call last)",
      "Cell \u001B[0;32mIn[11], line 1\u001B[0m\n\u001B[0;32m----> 1\u001B[0m \u001B[38;5;28;43mnext\u001B[39;49m\u001B[43m(\u001B[49m\u001B[43mread_lammps_custom_trajectory_file_generator\u001B[49m\u001B[43m(\u001B[49m\u001B[43mpath\u001B[49m\u001B[38;5;241;43m=\u001B[39;49m\u001B[43mpathlib\u001B[49m\u001B[38;5;241;43m.\u001B[39;49m\u001B[43mPath\u001B[49m\u001B[43m(\u001B[49m\n\u001B[1;32m      2\u001B[0m \u001B[43m    \u001B[49m\u001B[38;5;124;43m\"\u001B[39;49m\u001B[38;5;124;43m/home/egor/Projects/polyflexmd/data/test-5-FENE-beadspring-vary-l_K-vary-d_end/e296c212/data/raw/i_kappa=2/j_d_end=1/polymer-2-1.out\u001B[39;49m\u001B[38;5;124;43m\"\u001B[39;49m\n\u001B[1;32m      3\u001B[0m \u001B[43m)\u001B[49m\u001B[43m,\u001B[49m\u001B[43mcolumn_types\u001B[49m\u001B[38;5;241;43m=\u001B[39;49m\u001B[43mconstants\u001B[49m\u001B[38;5;241;43m.\u001B[39;49m\u001B[43mRAW_TRAJECTORY_DF_COLUMN_TYPES\u001B[49m\n\u001B[1;32m      4\u001B[0m \u001B[43m)\u001B[49m\u001B[43m)\u001B[49m\n",
      "Cell \u001B[0;32mIn[10], line 22\u001B[0m, in \u001B[0;36mread_lammps_custom_trajectory_file_generator\u001B[0;34m(path, column_types)\u001B[0m\n\u001B[1;32m     19\u001B[0m     data \u001B[38;5;241m=\u001B[39m df\u001B[38;5;241m.\u001B[39miloc[\u001B[38;5;241m6\u001B[39m:]\u001B[38;5;241m.\u001B[39mapply(\u001B[38;5;28;01mlambda\u001B[39;00m x: x\u001B[38;5;241m.\u001B[39mstr\u001B[38;5;241m.\u001B[39msplit(), axis\u001B[38;5;241m=\u001B[39m\u001B[38;5;241m0\u001B[39m)\u001B[38;5;241m.\u001B[39mto_records(index\u001B[38;5;241m=\u001B[39m\u001B[38;5;28;01mFalse\u001B[39;00m, column_dtypes\u001B[38;5;241m=\u001B[39mcolumn_types)\n\u001B[1;32m     20\u001B[0m     \u001B[38;5;28;01myield\u001B[39;00m header, data\n\u001B[0;32m---> 22\u001B[0m \u001B[38;5;28;01mfor\u001B[39;00m _, df \u001B[38;5;129;01min\u001B[39;00m df_bag\u001B[38;5;241m.\u001B[39mgroupby(df_bag[\u001B[38;5;241m0\u001B[39m]\u001B[38;5;241m.\u001B[39mstr\u001B[38;5;241m.\u001B[39mcontains(\u001B[38;5;124m\"\u001B[39m\u001B[38;5;124mITEM: TIMESTEP\u001B[39m\u001B[38;5;124m\"\u001B[39m)\u001B[38;5;241m.\u001B[39mcumsum()):\n\u001B[1;32m     23\u001B[0m     \u001B[38;5;28;01myield from\u001B[39;00m process_timestep(df)\n",
      "File \u001B[0;32m~/Projects/polyflexmd/.venv/lib/python3.10/site-packages/dask/dataframe/groupby.py:1495\u001B[0m, in \u001B[0;36m_GroupBy.__iter__\u001B[0;34m(self)\u001B[0m\n\u001B[1;32m   1494\u001B[0m \u001B[38;5;28;01mdef\u001B[39;00m \u001B[38;5;21m__iter__\u001B[39m(\u001B[38;5;28mself\u001B[39m):\n\u001B[0;32m-> 1495\u001B[0m     \u001B[38;5;28;01mraise\u001B[39;00m \u001B[38;5;167;01mNotImplementedError\u001B[39;00m(\n\u001B[1;32m   1496\u001B[0m         \u001B[38;5;124m\"\u001B[39m\u001B[38;5;124mIteration of DataFrameGroupBy objects requires computing the groups which \u001B[39m\u001B[38;5;124m\"\u001B[39m\n\u001B[1;32m   1497\u001B[0m         \u001B[38;5;124m\"\u001B[39m\u001B[38;5;124mmay be slow. You probably want to use \u001B[39m\u001B[38;5;124m'\u001B[39m\u001B[38;5;124mapply\u001B[39m\u001B[38;5;124m'\u001B[39m\u001B[38;5;124m to execute a function for \u001B[39m\u001B[38;5;124m\"\u001B[39m\n\u001B[1;32m   1498\u001B[0m         \u001B[38;5;124m\"\u001B[39m\u001B[38;5;124mall the columns. To access individual groups, use \u001B[39m\u001B[38;5;124m'\u001B[39m\u001B[38;5;124mget_group\u001B[39m\u001B[38;5;124m'\u001B[39m\u001B[38;5;124m. To list \u001B[39m\u001B[38;5;124m\"\u001B[39m\n\u001B[1;32m   1499\u001B[0m         \u001B[38;5;124m\"\u001B[39m\u001B[38;5;124mall the group names, use \u001B[39m\u001B[38;5;124m'\u001B[39m\u001B[38;5;124mdf[<group column>].unique().compute()\u001B[39m\u001B[38;5;124m'\u001B[39m\u001B[38;5;124m.\u001B[39m\u001B[38;5;124m\"\u001B[39m\n\u001B[1;32m   1500\u001B[0m     )\n",
      "\u001B[0;31mNotImplementedError\u001B[0m: Iteration of DataFrameGroupBy objects requires computing the groups which may be slow. You probably want to use 'apply' to execute a function for all the columns. To access individual groups, use 'get_group'. To list all the group names, use 'df[<group column>].unique().compute()'."
     ]
    }
   ],
   "source": [
    "next(read_lammps_custom_trajectory_file_generator(path=pathlib.Path(p),\n",
    "                                                  column_types=constants.RAW_TRAJECTORY_DF_COLUMN_TYPES\n",
    "                                                  ))"
   ],
   "metadata": {
    "collapsed": false,
    "ExecuteTime": {
     "end_time": "2023-07-11T23:15:50.436709698Z",
     "start_time": "2023-07-11T23:15:49.179045728Z"
    }
   }
  },
  {
   "cell_type": "code",
   "execution_count": 78,
   "outputs": [
    {
     "data": {
      "text/plain": "t      NaN\nid     NaN\ntype   NaN\nx      NaN\ny      NaN\nz      NaN\nix     NaN\niy     NaN\niz     NaN\ndtype: float64"
     },
     "execution_count": 78,
     "metadata": {},
     "output_type": "execute_result"
    }
   ],
   "source": [],
   "metadata": {
    "collapsed": false,
    "ExecuteTime": {
     "end_time": "2023-07-11T23:52:12.163980941Z",
     "start_time": "2023-07-11T23:52:12.117160399Z"
    }
   }
  },
  {
   "cell_type": "code",
   "execution_count": 8,
   "outputs": [
    {
     "name": "stdout",
     "output_type": "stream",
     "text": [
      "Reading paths [PosixPath('/home/egor/Projects/polyflexmd/data/test-5-FENE-beadspring-vary-l_K-vary-d_end/e296c212/data/raw/i_kappa=1/j_d_end=1/polymer_relax-1-1.out'), PosixPath('/home/egor/Projects/polyflexmd/data/test-5-FENE-beadspring-vary-l_K-vary-d_end/e296c212/data/raw/i_kappa=1/j_d_end=1/polymer-1-1.out')] ...\n",
      "Joining ...\n",
      "Unfolding coordinates...\n",
      "Reading paths [PosixPath('/home/egor/Projects/polyflexmd/data/test-5-FENE-beadspring-vary-l_K-vary-d_end/e296c212/data/raw/i_kappa=1/j_d_end=2/polymer_relax-1-2.out'), PosixPath('/home/egor/Projects/polyflexmd/data/test-5-FENE-beadspring-vary-l_K-vary-d_end/e296c212/data/raw/i_kappa=1/j_d_end=2/polymer-1-2.out')] ...\n",
      "Joining ...\n",
      "Unfolding coordinates...\n",
      "Reading paths [PosixPath('/home/egor/Projects/polyflexmd/data/test-5-FENE-beadspring-vary-l_K-vary-d_end/e296c212/data/raw/i_kappa=1/j_d_end=3/polymer_relax-1-3.out'), PosixPath('/home/egor/Projects/polyflexmd/data/test-5-FENE-beadspring-vary-l_K-vary-d_end/e296c212/data/raw/i_kappa=1/j_d_end=3/polymer-1-3.out')] ...\n",
      "Joining ...\n",
      "Unfolding coordinates...\n",
      "Reading paths [PosixPath('/home/egor/Projects/polyflexmd/data/test-5-FENE-beadspring-vary-l_K-vary-d_end/e296c212/data/raw/i_kappa=2/j_d_end=1/polymer_relax-2-1.out'), PosixPath('/home/egor/Projects/polyflexmd/data/test-5-FENE-beadspring-vary-l_K-vary-d_end/e296c212/data/raw/i_kappa=2/j_d_end=1/polymer-2-1.out')] ...\n",
      "Joining ...\n",
      "Unfolding coordinates...\n",
      "Reading paths [PosixPath('/home/egor/Projects/polyflexmd/data/test-5-FENE-beadspring-vary-l_K-vary-d_end/e296c212/data/raw/i_kappa=2/j_d_end=2/polymer_relax-2-2.out'), PosixPath('/home/egor/Projects/polyflexmd/data/test-5-FENE-beadspring-vary-l_K-vary-d_end/e296c212/data/raw/i_kappa=2/j_d_end=2/polymer-2-2.out')] ...\n",
      "Joining ...\n",
      "Unfolding coordinates...\n",
      "Reading paths [PosixPath('/home/egor/Projects/polyflexmd/data/test-5-FENE-beadspring-vary-l_K-vary-d_end/e296c212/data/raw/i_kappa=2/j_d_end=3/polymer_relax-2-3.out'), PosixPath('/home/egor/Projects/polyflexmd/data/test-5-FENE-beadspring-vary-l_K-vary-d_end/e296c212/data/raw/i_kappa=2/j_d_end=3/polymer-2-3.out')] ...\n",
      "Joining ...\n",
      "Unfolding coordinates...\n"
     ]
    },
    {
     "data": {
      "text/plain": "Dask DataFrame Structure:\n                      t      id   type        x        y        z molecule-ID            kappa            d_end\nnpartitions=672                                                                                                \n                 uint64  uint16  uint8  float64  float64  float64      uint16  category[known]  category[known]\n                    ...     ...    ...      ...      ...      ...         ...              ...              ...\n...                 ...     ...    ...      ...      ...      ...         ...              ...              ...\n                    ...     ...    ...      ...      ...      ...         ...              ...              ...\n                    ...     ...    ...      ...      ...      ...         ...              ...              ...\nDask Name: concat, 128 graph layers",
      "text/html": "<div><strong>Dask DataFrame Structure:</strong></div>\n<div>\n<style scoped>\n    .dataframe tbody tr th:only-of-type {\n        vertical-align: middle;\n    }\n\n    .dataframe tbody tr th {\n        vertical-align: top;\n    }\n\n    .dataframe thead th {\n        text-align: right;\n    }\n</style>\n<table border=\"1\" class=\"dataframe\">\n  <thead>\n    <tr style=\"text-align: right;\">\n      <th></th>\n      <th>t</th>\n      <th>id</th>\n      <th>type</th>\n      <th>x</th>\n      <th>y</th>\n      <th>z</th>\n      <th>molecule-ID</th>\n      <th>kappa</th>\n      <th>d_end</th>\n    </tr>\n    <tr>\n      <th>npartitions=672</th>\n      <th></th>\n      <th></th>\n      <th></th>\n      <th></th>\n      <th></th>\n      <th></th>\n      <th></th>\n      <th></th>\n      <th></th>\n    </tr>\n  </thead>\n  <tbody>\n    <tr>\n      <th></th>\n      <td>uint64</td>\n      <td>uint16</td>\n      <td>uint8</td>\n      <td>float64</td>\n      <td>float64</td>\n      <td>float64</td>\n      <td>uint16</td>\n      <td>category[known]</td>\n      <td>category[known]</td>\n    </tr>\n    <tr>\n      <th></th>\n      <td>...</td>\n      <td>...</td>\n      <td>...</td>\n      <td>...</td>\n      <td>...</td>\n      <td>...</td>\n      <td>...</td>\n      <td>...</td>\n      <td>...</td>\n    </tr>\n    <tr>\n      <th>...</th>\n      <td>...</td>\n      <td>...</td>\n      <td>...</td>\n      <td>...</td>\n      <td>...</td>\n      <td>...</td>\n      <td>...</td>\n      <td>...</td>\n      <td>...</td>\n    </tr>\n    <tr>\n      <th></th>\n      <td>...</td>\n      <td>...</td>\n      <td>...</td>\n      <td>...</td>\n      <td>...</td>\n      <td>...</td>\n      <td>...</td>\n      <td>...</td>\n      <td>...</td>\n    </tr>\n    <tr>\n      <th></th>\n      <td>...</td>\n      <td>...</td>\n      <td>...</td>\n      <td>...</td>\n      <td>...</td>\n      <td>...</td>\n      <td>...</td>\n      <td>...</td>\n      <td>...</td>\n    </tr>\n  </tbody>\n</table>\n</div>\n<div>Dask Name: concat, 128 graph layers</div>"
     },
     "execution_count": 8,
     "metadata": {},
     "output_type": "execute_result"
    }
   ],
   "source": [
    "kappas = [1.0 + i * 5 for i in range(2)]\n",
    "d_ends = [1.2 + i * 0.2 for i in range(3)]\n",
    "\n",
    "df_trajectories = polyflexmd.data_analysis.pipelines.trajectory.read_and_process_trajectories(\n",
    "    trajectories=polyflexmd.data_analysis.data.read.get_experiment_trajectories_paths(\n",
    "        experiment_raw_data_path=pathlib.Path(\n",
    "            \"/home/egor/Projects/polyflexmd/data/test-5-FENE-beadspring-vary-l_K-vary-d_end/e296c212/data/raw\"),\n",
    "        style=\"l_K+d_end\",\n",
    "        kappas=kappas,\n",
    "        d_ends=d_ends,\n",
    "        read_relax=True\n",
    "    ),\n",
    "    system=system\n",
    ")\n",
    "\n",
    "df_trajectories"
   ],
   "metadata": {
    "collapsed": false,
    "ExecuteTime": {
     "end_time": "2023-07-11T20:07:16.014099456Z",
     "start_time": "2023-07-11T20:06:49.074838058Z"
    }
   }
  },
  {
   "cell_type": "code",
   "execution_count": 14,
   "outputs": [
    {
     "data": {
      "text/plain": "['/home/egor/Projects/polyflexmd/data/test-5-FENE-beadspring-vary-l_K-vary-d_end/e296c212/data/processed/trajectories.csv']"
     },
     "execution_count": 14,
     "metadata": {},
     "output_type": "execute_result"
    }
   ],
   "source": [
    "df_trajectories.to_csv(\n",
    "    \"/home/egor/Projects/polyflexmd/data/test-5-FENE-beadspring-vary-l_K-vary-d_end/e296c212/data/processed/trajectories.csv\",\n",
    "    single_file=True, index=False)"
   ],
   "metadata": {
    "collapsed": false,
    "ExecuteTime": {
     "end_time": "2023-07-11T20:15:48.501746001Z",
     "start_time": "2023-07-11T20:15:18.571753733Z"
    }
   }
  },
  {
   "cell_type": "code",
   "execution_count": 12,
   "outputs": [
    {
     "ename": "ValueError",
     "evalue": "Metadata inference failed in `groupby.apply(lambda)`.\n\nYou have supplied a custom function and Dask is unable to \ndetermine the type of output that that function returns. \n\nTo resolve this please provide a meta= keyword.\nThe docstring of the Dask function you ran should have more information.\n\nOriginal error is below:\n------------------------\nIndexError('single positional indexer is out-of-bounds')\n\nTraceback:\n---------\n  File \"/home/egor/Projects/polyflexmd/.venv/lib/python3.10/site-packages/dask/dataframe/utils.py\", line 193, in raise_on_meta_error\n    yield\n  File \"/home/egor/Projects/polyflexmd/.venv/lib/python3.10/site-packages/dask/dataframe/groupby.py\", line 2489, in apply\n    meta = self._meta_nonempty.apply(func, *meta_args, **meta_kwargs)\n  File \"/home/egor/Projects/polyflexmd/.venv/lib/python3.10/site-packages/pandas/core/groupby/groupby.py\", line 1353, in apply\n    result = self._python_apply_general(f, self._selected_obj)\n  File \"/home/egor/Projects/polyflexmd/.venv/lib/python3.10/site-packages/pandas/core/groupby/groupby.py\", line 1402, in _python_apply_general\n    values, mutated = self.grouper.apply(f, data, self.axis)\n  File \"/home/egor/Projects/polyflexmd/.venv/lib/python3.10/site-packages/pandas/core/groupby/ops.py\", line 767, in apply\n    res = f(group)\n  File \"/home/egor/Projects/polyflexmd/src/polyflexmd/data_analysis/transform/transform.py\", line 102, in <lambda>\n    return gb.apply(lambda dfg: dfg.groupby([\"t\"]).apply(calculate_end_to_end))\n  File \"/home/egor/Projects/polyflexmd/.venv/lib/python3.10/site-packages/pandas/core/groupby/groupby.py\", line 1353, in apply\n    result = self._python_apply_general(f, self._selected_obj)\n  File \"/home/egor/Projects/polyflexmd/.venv/lib/python3.10/site-packages/pandas/core/groupby/groupby.py\", line 1402, in _python_apply_general\n    values, mutated = self.grouper.apply(f, data, self.axis)\n  File \"/home/egor/Projects/polyflexmd/.venv/lib/python3.10/site-packages/pandas/core/groupby/ops.py\", line 767, in apply\n    res = f(group)\n  File \"/home/egor/Projects/polyflexmd/src/polyflexmd/data_analysis/transform/transform.py\", line 66, in calculate_end_to_end\n    leaf_atom_data: pd.Series = molecule_traj_step_df_unf \\\n  File \"/home/egor/Projects/polyflexmd/.venv/lib/python3.10/site-packages/pandas/core/indexing.py\", line 1103, in __getitem__\n    return self._getitem_axis(maybe_callable, axis=axis)\n  File \"/home/egor/Projects/polyflexmd/.venv/lib/python3.10/site-packages/pandas/core/indexing.py\", line 1656, in _getitem_axis\n    self._validate_integer(key, axis)\n  File \"/home/egor/Projects/polyflexmd/.venv/lib/python3.10/site-packages/pandas/core/indexing.py\", line 1589, in _validate_integer\n    raise IndexError(\"single positional indexer is out-of-bounds\")\n",
     "output_type": "error",
     "traceback": [
      "\u001B[0;31m---------------------------------------------------------------------------\u001B[0m",
      "\u001B[0;31mIndexError\u001B[0m                                Traceback (most recent call last)",
      "File \u001B[0;32m~/Projects/polyflexmd/.venv/lib/python3.10/site-packages/dask/dataframe/utils.py:193\u001B[0m, in \u001B[0;36mraise_on_meta_error\u001B[0;34m(funcname, udf)\u001B[0m\n\u001B[1;32m    192\u001B[0m \u001B[38;5;28;01mtry\u001B[39;00m:\n\u001B[0;32m--> 193\u001B[0m     \u001B[38;5;28;01myield\u001B[39;00m\n\u001B[1;32m    194\u001B[0m \u001B[38;5;28;01mexcept\u001B[39;00m \u001B[38;5;167;01mException\u001B[39;00m \u001B[38;5;28;01mas\u001B[39;00m e:\n",
      "File \u001B[0;32m~/Projects/polyflexmd/.venv/lib/python3.10/site-packages/dask/dataframe/groupby.py:2489\u001B[0m, in \u001B[0;36m_GroupBy.apply\u001B[0;34m(self, func, *args, **kwargs)\u001B[0m\n\u001B[1;32m   2488\u001B[0m     meta_args, meta_kwargs \u001B[38;5;241m=\u001B[39m _extract_meta((args, kwargs), nonempty\u001B[38;5;241m=\u001B[39m\u001B[38;5;28;01mTrue\u001B[39;00m)\n\u001B[0;32m-> 2489\u001B[0m     meta \u001B[38;5;241m=\u001B[39m \u001B[38;5;28;43mself\u001B[39;49m\u001B[38;5;241;43m.\u001B[39;49m\u001B[43m_meta_nonempty\u001B[49m\u001B[38;5;241;43m.\u001B[39;49m\u001B[43mapply\u001B[49m\u001B[43m(\u001B[49m\u001B[43mfunc\u001B[49m\u001B[43m,\u001B[49m\u001B[43m \u001B[49m\u001B[38;5;241;43m*\u001B[39;49m\u001B[43mmeta_args\u001B[49m\u001B[43m,\u001B[49m\u001B[43m \u001B[49m\u001B[38;5;241;43m*\u001B[39;49m\u001B[38;5;241;43m*\u001B[39;49m\u001B[43mmeta_kwargs\u001B[49m\u001B[43m)\u001B[49m\n\u001B[1;32m   2491\u001B[0m msg \u001B[38;5;241m=\u001B[39m (\n\u001B[1;32m   2492\u001B[0m     \u001B[38;5;124m\"\u001B[39m\u001B[38;5;124m`meta` is not specified, inferred from partial data. \u001B[39m\u001B[38;5;124m\"\u001B[39m\n\u001B[1;32m   2493\u001B[0m     \u001B[38;5;124m\"\u001B[39m\u001B[38;5;124mPlease provide `meta` if the result is unexpected.\u001B[39m\u001B[38;5;130;01m\\n\u001B[39;00m\u001B[38;5;124m\"\u001B[39m\n\u001B[0;32m   (...)\u001B[0m\n\u001B[1;32m   2496\u001B[0m     \u001B[38;5;124m\"\u001B[39m\u001B[38;5;124m  or:     .apply(func, meta=(\u001B[39m\u001B[38;5;124m'\u001B[39m\u001B[38;5;124mx\u001B[39m\u001B[38;5;124m'\u001B[39m\u001B[38;5;124m, \u001B[39m\u001B[38;5;124m'\u001B[39m\u001B[38;5;124mf8\u001B[39m\u001B[38;5;124m'\u001B[39m\u001B[38;5;124m))            for series result\u001B[39m\u001B[38;5;124m\"\u001B[39m\n\u001B[1;32m   2497\u001B[0m )\n",
      "File \u001B[0;32m~/Projects/polyflexmd/.venv/lib/python3.10/site-packages/pandas/core/groupby/groupby.py:1353\u001B[0m, in \u001B[0;36mGroupBy.apply\u001B[0;34m(self, func, *args, **kwargs)\u001B[0m\n\u001B[1;32m   1352\u001B[0m \u001B[38;5;28;01mtry\u001B[39;00m:\n\u001B[0;32m-> 1353\u001B[0m     result \u001B[38;5;241m=\u001B[39m \u001B[38;5;28;43mself\u001B[39;49m\u001B[38;5;241;43m.\u001B[39;49m\u001B[43m_python_apply_general\u001B[49m\u001B[43m(\u001B[49m\u001B[43mf\u001B[49m\u001B[43m,\u001B[49m\u001B[43m \u001B[49m\u001B[38;5;28;43mself\u001B[39;49m\u001B[38;5;241;43m.\u001B[39;49m\u001B[43m_selected_obj\u001B[49m\u001B[43m)\u001B[49m\n\u001B[1;32m   1354\u001B[0m \u001B[38;5;28;01mexcept\u001B[39;00m \u001B[38;5;167;01mTypeError\u001B[39;00m:\n\u001B[1;32m   1355\u001B[0m     \u001B[38;5;66;03m# gh-20949\u001B[39;00m\n\u001B[1;32m   1356\u001B[0m     \u001B[38;5;66;03m# try again, with .apply acting as a filtering\u001B[39;00m\n\u001B[0;32m   (...)\u001B[0m\n\u001B[1;32m   1360\u001B[0m     \u001B[38;5;66;03m# fails on *some* columns, e.g. a numeric operation\u001B[39;00m\n\u001B[1;32m   1361\u001B[0m     \u001B[38;5;66;03m# on a string grouper column\u001B[39;00m\n",
      "File \u001B[0;32m~/Projects/polyflexmd/.venv/lib/python3.10/site-packages/pandas/core/groupby/groupby.py:1402\u001B[0m, in \u001B[0;36mGroupBy._python_apply_general\u001B[0;34m(self, f, data, not_indexed_same, is_transform, is_agg)\u001B[0m\n\u001B[1;32m   1376\u001B[0m \u001B[38;5;250m\u001B[39m\u001B[38;5;124;03m\"\"\"\u001B[39;00m\n\u001B[1;32m   1377\u001B[0m \u001B[38;5;124;03mApply function f in python space\u001B[39;00m\n\u001B[1;32m   1378\u001B[0m \n\u001B[0;32m   (...)\u001B[0m\n\u001B[1;32m   1400\u001B[0m \u001B[38;5;124;03m    data after applying f\u001B[39;00m\n\u001B[1;32m   1401\u001B[0m \u001B[38;5;124;03m\"\"\"\u001B[39;00m\n\u001B[0;32m-> 1402\u001B[0m values, mutated \u001B[38;5;241m=\u001B[39m \u001B[38;5;28;43mself\u001B[39;49m\u001B[38;5;241;43m.\u001B[39;49m\u001B[43mgrouper\u001B[49m\u001B[38;5;241;43m.\u001B[39;49m\u001B[43mapply\u001B[49m\u001B[43m(\u001B[49m\u001B[43mf\u001B[49m\u001B[43m,\u001B[49m\u001B[43m \u001B[49m\u001B[43mdata\u001B[49m\u001B[43m,\u001B[49m\u001B[43m \u001B[49m\u001B[38;5;28;43mself\u001B[39;49m\u001B[38;5;241;43m.\u001B[39;49m\u001B[43maxis\u001B[49m\u001B[43m)\u001B[49m\n\u001B[1;32m   1403\u001B[0m \u001B[38;5;28;01mif\u001B[39;00m not_indexed_same \u001B[38;5;129;01mis\u001B[39;00m \u001B[38;5;28;01mNone\u001B[39;00m:\n",
      "File \u001B[0;32m~/Projects/polyflexmd/.venv/lib/python3.10/site-packages/pandas/core/groupby/ops.py:767\u001B[0m, in \u001B[0;36mBaseGrouper.apply\u001B[0;34m(self, f, data, axis)\u001B[0m\n\u001B[1;32m    766\u001B[0m group_axes \u001B[38;5;241m=\u001B[39m group\u001B[38;5;241m.\u001B[39maxes\n\u001B[0;32m--> 767\u001B[0m res \u001B[38;5;241m=\u001B[39m \u001B[43mf\u001B[49m\u001B[43m(\u001B[49m\u001B[43mgroup\u001B[49m\u001B[43m)\u001B[49m\n\u001B[1;32m    768\u001B[0m \u001B[38;5;28;01mif\u001B[39;00m \u001B[38;5;129;01mnot\u001B[39;00m mutated \u001B[38;5;129;01mand\u001B[39;00m \u001B[38;5;129;01mnot\u001B[39;00m _is_indexed_like(res, group_axes, axis):\n",
      "File \u001B[0;32m~/Projects/polyflexmd/src/polyflexmd/data_analysis/transform/transform.py:102\u001B[0m, in \u001B[0;36mcalc_end_to_end_df.<locals>.<lambda>\u001B[0;34m(dfg)\u001B[0m\n\u001B[1;32m    101\u001B[0m \u001B[38;5;28;01melse\u001B[39;00m:\n\u001B[0;32m--> 102\u001B[0m     \u001B[38;5;28;01mreturn\u001B[39;00m gb\u001B[38;5;241m.\u001B[39mapply(\u001B[38;5;28;01mlambda\u001B[39;00m dfg: \u001B[43mdfg\u001B[49m\u001B[38;5;241;43m.\u001B[39;49m\u001B[43mgroupby\u001B[49m\u001B[43m(\u001B[49m\u001B[43m[\u001B[49m\u001B[38;5;124;43m\"\u001B[39;49m\u001B[38;5;124;43mt\u001B[39;49m\u001B[38;5;124;43m\"\u001B[39;49m\u001B[43m]\u001B[49m\u001B[43m)\u001B[49m\u001B[38;5;241;43m.\u001B[39;49m\u001B[43mapply\u001B[49m\u001B[43m(\u001B[49m\u001B[43mcalculate_end_to_end\u001B[49m\u001B[43m)\u001B[49m)\n",
      "File \u001B[0;32m~/Projects/polyflexmd/.venv/lib/python3.10/site-packages/pandas/core/groupby/groupby.py:1353\u001B[0m, in \u001B[0;36mGroupBy.apply\u001B[0;34m(self, func, *args, **kwargs)\u001B[0m\n\u001B[1;32m   1352\u001B[0m \u001B[38;5;28;01mtry\u001B[39;00m:\n\u001B[0;32m-> 1353\u001B[0m     result \u001B[38;5;241m=\u001B[39m \u001B[38;5;28;43mself\u001B[39;49m\u001B[38;5;241;43m.\u001B[39;49m\u001B[43m_python_apply_general\u001B[49m\u001B[43m(\u001B[49m\u001B[43mf\u001B[49m\u001B[43m,\u001B[49m\u001B[43m \u001B[49m\u001B[38;5;28;43mself\u001B[39;49m\u001B[38;5;241;43m.\u001B[39;49m\u001B[43m_selected_obj\u001B[49m\u001B[43m)\u001B[49m\n\u001B[1;32m   1354\u001B[0m \u001B[38;5;28;01mexcept\u001B[39;00m \u001B[38;5;167;01mTypeError\u001B[39;00m:\n\u001B[1;32m   1355\u001B[0m     \u001B[38;5;66;03m# gh-20949\u001B[39;00m\n\u001B[1;32m   1356\u001B[0m     \u001B[38;5;66;03m# try again, with .apply acting as a filtering\u001B[39;00m\n\u001B[0;32m   (...)\u001B[0m\n\u001B[1;32m   1360\u001B[0m     \u001B[38;5;66;03m# fails on *some* columns, e.g. a numeric operation\u001B[39;00m\n\u001B[1;32m   1361\u001B[0m     \u001B[38;5;66;03m# on a string grouper column\u001B[39;00m\n",
      "File \u001B[0;32m~/Projects/polyflexmd/.venv/lib/python3.10/site-packages/pandas/core/groupby/groupby.py:1402\u001B[0m, in \u001B[0;36mGroupBy._python_apply_general\u001B[0;34m(self, f, data, not_indexed_same, is_transform, is_agg)\u001B[0m\n\u001B[1;32m   1376\u001B[0m \u001B[38;5;250m\u001B[39m\u001B[38;5;124;03m\"\"\"\u001B[39;00m\n\u001B[1;32m   1377\u001B[0m \u001B[38;5;124;03mApply function f in python space\u001B[39;00m\n\u001B[1;32m   1378\u001B[0m \n\u001B[0;32m   (...)\u001B[0m\n\u001B[1;32m   1400\u001B[0m \u001B[38;5;124;03m    data after applying f\u001B[39;00m\n\u001B[1;32m   1401\u001B[0m \u001B[38;5;124;03m\"\"\"\u001B[39;00m\n\u001B[0;32m-> 1402\u001B[0m values, mutated \u001B[38;5;241m=\u001B[39m \u001B[38;5;28;43mself\u001B[39;49m\u001B[38;5;241;43m.\u001B[39;49m\u001B[43mgrouper\u001B[49m\u001B[38;5;241;43m.\u001B[39;49m\u001B[43mapply\u001B[49m\u001B[43m(\u001B[49m\u001B[43mf\u001B[49m\u001B[43m,\u001B[49m\u001B[43m \u001B[49m\u001B[43mdata\u001B[49m\u001B[43m,\u001B[49m\u001B[43m \u001B[49m\u001B[38;5;28;43mself\u001B[39;49m\u001B[38;5;241;43m.\u001B[39;49m\u001B[43maxis\u001B[49m\u001B[43m)\u001B[49m\n\u001B[1;32m   1403\u001B[0m \u001B[38;5;28;01mif\u001B[39;00m not_indexed_same \u001B[38;5;129;01mis\u001B[39;00m \u001B[38;5;28;01mNone\u001B[39;00m:\n",
      "File \u001B[0;32m~/Projects/polyflexmd/.venv/lib/python3.10/site-packages/pandas/core/groupby/ops.py:767\u001B[0m, in \u001B[0;36mBaseGrouper.apply\u001B[0;34m(self, f, data, axis)\u001B[0m\n\u001B[1;32m    766\u001B[0m group_axes \u001B[38;5;241m=\u001B[39m group\u001B[38;5;241m.\u001B[39maxes\n\u001B[0;32m--> 767\u001B[0m res \u001B[38;5;241m=\u001B[39m \u001B[43mf\u001B[49m\u001B[43m(\u001B[49m\u001B[43mgroup\u001B[49m\u001B[43m)\u001B[49m\n\u001B[1;32m    768\u001B[0m \u001B[38;5;28;01mif\u001B[39;00m \u001B[38;5;129;01mnot\u001B[39;00m mutated \u001B[38;5;129;01mand\u001B[39;00m \u001B[38;5;129;01mnot\u001B[39;00m _is_indexed_like(res, group_axes, axis):\n",
      "File \u001B[0;32m~/Projects/polyflexmd/src/polyflexmd/data_analysis/transform/transform.py:66\u001B[0m, in \u001B[0;36mcalculate_end_to_end\u001B[0;34m(molecule_traj_step_df_unf)\u001B[0m\n\u001B[1;32m     61\u001B[0m root_atom_data: pd\u001B[38;5;241m.\u001B[39mSeries \u001B[38;5;241m=\u001B[39m molecule_traj_step_df_unf \\\n\u001B[1;32m     62\u001B[0m     \u001B[38;5;241m.\u001B[39mloc[molecule_traj_step_df_unf[\u001B[38;5;124m\"\u001B[39m\u001B[38;5;124mtype\u001B[39m\u001B[38;5;124m\"\u001B[39m] \u001B[38;5;241m==\u001B[39m AtomGroup\u001B[38;5;241m.\u001B[39mROOT\u001B[38;5;241m.\u001B[39mvalue] \\\n\u001B[1;32m     63\u001B[0m     \u001B[38;5;241m.\u001B[39msort_values(\u001B[38;5;124m\"\u001B[39m\u001B[38;5;124mid\u001B[39m\u001B[38;5;124m\"\u001B[39m, ascending\u001B[38;5;241m=\u001B[39m\u001B[38;5;28;01mTrue\u001B[39;00m) \\\n\u001B[1;32m     64\u001B[0m     \u001B[38;5;241m.\u001B[39miloc[\u001B[38;5;241m0\u001B[39m]\n\u001B[0;32m---> 66\u001B[0m leaf_atom_data: pd\u001B[38;5;241m.\u001B[39mSeries \u001B[38;5;241m=\u001B[39m \u001B[43mmolecule_traj_step_df_unf\u001B[49m\u001B[43m \u001B[49m\u001B[43m\\\u001B[49m\n\u001B[1;32m     67\u001B[0m \u001B[43m    \u001B[49m\u001B[38;5;241;43m.\u001B[39;49m\u001B[43mloc\u001B[49m\u001B[43m[\u001B[49m\u001B[43mmolecule_traj_step_df_unf\u001B[49m\u001B[43m[\u001B[49m\u001B[38;5;124;43m\"\u001B[39;49m\u001B[38;5;124;43mtype\u001B[39;49m\u001B[38;5;124;43m\"\u001B[39;49m\u001B[43m]\u001B[49m\u001B[43m \u001B[49m\u001B[38;5;241;43m==\u001B[39;49m\u001B[43m \u001B[49m\u001B[43mAtomGroup\u001B[49m\u001B[38;5;241;43m.\u001B[39;49m\u001B[43mLEAF\u001B[49m\u001B[38;5;241;43m.\u001B[39;49m\u001B[43mvalue\u001B[49m\u001B[43m]\u001B[49m\u001B[43m \u001B[49m\u001B[43m\\\u001B[49m\n\u001B[1;32m     68\u001B[0m \u001B[43m    \u001B[49m\u001B[38;5;241;43m.\u001B[39;49m\u001B[43msort_values\u001B[49m\u001B[43m(\u001B[49m\u001B[38;5;124;43m\"\u001B[39;49m\u001B[38;5;124;43mid\u001B[39;49m\u001B[38;5;124;43m\"\u001B[39;49m\u001B[43m,\u001B[49m\u001B[43m \u001B[49m\u001B[43mascending\u001B[49m\u001B[38;5;241;43m=\u001B[39;49m\u001B[38;5;28;43;01mFalse\u001B[39;49;00m\u001B[43m)\u001B[49m\u001B[43m \u001B[49m\u001B[43m\\\u001B[49m\n\u001B[1;32m     69\u001B[0m \u001B[43m    \u001B[49m\u001B[38;5;241;43m.\u001B[39;49m\u001B[43miloc\u001B[49m\u001B[43m[\u001B[49m\u001B[38;5;241;43m0\u001B[39;49m\u001B[43m]\u001B[49m\n\u001B[1;32m     71\u001B[0m dimensions \u001B[38;5;241m=\u001B[39m [\u001B[38;5;124m'\u001B[39m\u001B[38;5;124mx\u001B[39m\u001B[38;5;124m'\u001B[39m, \u001B[38;5;124m'\u001B[39m\u001B[38;5;124my\u001B[39m\u001B[38;5;124m'\u001B[39m, \u001B[38;5;124m'\u001B[39m\u001B[38;5;124mz\u001B[39m\u001B[38;5;124m'\u001B[39m]\n",
      "File \u001B[0;32m~/Projects/polyflexmd/.venv/lib/python3.10/site-packages/pandas/core/indexing.py:1103\u001B[0m, in \u001B[0;36m_LocationIndexer.__getitem__\u001B[0;34m(self, key)\u001B[0m\n\u001B[1;32m   1102\u001B[0m maybe_callable \u001B[38;5;241m=\u001B[39m com\u001B[38;5;241m.\u001B[39mapply_if_callable(key, \u001B[38;5;28mself\u001B[39m\u001B[38;5;241m.\u001B[39mobj)\n\u001B[0;32m-> 1103\u001B[0m \u001B[38;5;28;01mreturn\u001B[39;00m \u001B[38;5;28;43mself\u001B[39;49m\u001B[38;5;241;43m.\u001B[39;49m\u001B[43m_getitem_axis\u001B[49m\u001B[43m(\u001B[49m\u001B[43mmaybe_callable\u001B[49m\u001B[43m,\u001B[49m\u001B[43m \u001B[49m\u001B[43maxis\u001B[49m\u001B[38;5;241;43m=\u001B[39;49m\u001B[43maxis\u001B[49m\u001B[43m)\u001B[49m\n",
      "File \u001B[0;32m~/Projects/polyflexmd/.venv/lib/python3.10/site-packages/pandas/core/indexing.py:1656\u001B[0m, in \u001B[0;36m_iLocIndexer._getitem_axis\u001B[0;34m(self, key, axis)\u001B[0m\n\u001B[1;32m   1655\u001B[0m \u001B[38;5;66;03m# validate the location\u001B[39;00m\n\u001B[0;32m-> 1656\u001B[0m \u001B[38;5;28;43mself\u001B[39;49m\u001B[38;5;241;43m.\u001B[39;49m\u001B[43m_validate_integer\u001B[49m\u001B[43m(\u001B[49m\u001B[43mkey\u001B[49m\u001B[43m,\u001B[49m\u001B[43m \u001B[49m\u001B[43maxis\u001B[49m\u001B[43m)\u001B[49m\n\u001B[1;32m   1658\u001B[0m \u001B[38;5;28;01mreturn\u001B[39;00m \u001B[38;5;28mself\u001B[39m\u001B[38;5;241m.\u001B[39mobj\u001B[38;5;241m.\u001B[39m_ixs(key, axis\u001B[38;5;241m=\u001B[39maxis)\n",
      "File \u001B[0;32m~/Projects/polyflexmd/.venv/lib/python3.10/site-packages/pandas/core/indexing.py:1589\u001B[0m, in \u001B[0;36m_iLocIndexer._validate_integer\u001B[0;34m(self, key, axis)\u001B[0m\n\u001B[1;32m   1588\u001B[0m \u001B[38;5;28;01mif\u001B[39;00m key \u001B[38;5;241m>\u001B[39m\u001B[38;5;241m=\u001B[39m len_axis \u001B[38;5;129;01mor\u001B[39;00m key \u001B[38;5;241m<\u001B[39m \u001B[38;5;241m-\u001B[39mlen_axis:\n\u001B[0;32m-> 1589\u001B[0m     \u001B[38;5;28;01mraise\u001B[39;00m \u001B[38;5;167;01mIndexError\u001B[39;00m(\u001B[38;5;124m\"\u001B[39m\u001B[38;5;124msingle positional indexer is out-of-bounds\u001B[39m\u001B[38;5;124m\"\u001B[39m)\n",
      "\u001B[0;31mIndexError\u001B[0m: single positional indexer is out-of-bounds",
      "\nThe above exception was the direct cause of the following exception:\n",
      "\u001B[0;31mValueError\u001B[0m                                Traceback (most recent call last)",
      "Cell \u001B[0;32mIn[12], line 1\u001B[0m\n\u001B[0;32m----> 1\u001B[0m df_ete \u001B[38;5;241m=\u001B[39m \u001B[43mtransform\u001B[49m\u001B[38;5;241;43m.\u001B[39;49m\u001B[43mcalc_end_to_end_df\u001B[49m\u001B[43m(\u001B[49m\n\u001B[1;32m      2\u001B[0m \u001B[43m    \u001B[49m\u001B[43mdf_trajectories\u001B[49m\u001B[43m,\u001B[49m\n\u001B[1;32m      3\u001B[0m \u001B[43m    \u001B[49m\u001B[43mgroup_by_params\u001B[49m\u001B[38;5;241;43m=\u001B[39;49m\u001B[43m[\u001B[49m\u001B[38;5;124;43m\"\u001B[39;49m\u001B[38;5;124;43mkappa\u001B[39;49m\u001B[38;5;124;43m\"\u001B[39;49m\u001B[43m,\u001B[49m\u001B[43m \u001B[49m\u001B[38;5;124;43m\"\u001B[39;49m\u001B[38;5;124;43md_end\u001B[39;49m\u001B[38;5;124;43m\"\u001B[39;49m\u001B[43m]\u001B[49m\u001B[43m,\u001B[49m\n\u001B[1;32m      4\u001B[0m \u001B[43m    \u001B[49m\u001B[43mparallel\u001B[49m\u001B[38;5;241;43m=\u001B[39;49m\u001B[38;5;28;43;01mFalse\u001B[39;49;00m\n\u001B[1;32m      5\u001B[0m \u001B[43m)\u001B[49m\n\u001B[1;32m      6\u001B[0m df_ete\n",
      "File \u001B[0;32m~/Projects/polyflexmd/src/polyflexmd/data_analysis/transform/transform.py:102\u001B[0m, in \u001B[0;36mcalc_end_to_end_df\u001B[0;34m(trajectory_df_unfolded, group_by_params, parallel)\u001B[0m\n\u001B[1;32m    100\u001B[0m     \u001B[38;5;28;01mreturn\u001B[39;00m gb\u001B[38;5;241m.\u001B[39mparallel_apply(\u001B[38;5;28;01mlambda\u001B[39;00m dfg: dfg\u001B[38;5;241m.\u001B[39mgroupby([\u001B[38;5;124m\"\u001B[39m\u001B[38;5;124mt\u001B[39m\u001B[38;5;124m\"\u001B[39m])\u001B[38;5;241m.\u001B[39mapply(calculate_end_to_end))\n\u001B[1;32m    101\u001B[0m \u001B[38;5;28;01melse\u001B[39;00m:\n\u001B[0;32m--> 102\u001B[0m     \u001B[38;5;28;01mreturn\u001B[39;00m \u001B[43mgb\u001B[49m\u001B[38;5;241;43m.\u001B[39;49m\u001B[43mapply\u001B[49m\u001B[43m(\u001B[49m\u001B[38;5;28;43;01mlambda\u001B[39;49;00m\u001B[43m \u001B[49m\u001B[43mdfg\u001B[49m\u001B[43m:\u001B[49m\u001B[43m \u001B[49m\u001B[43mdfg\u001B[49m\u001B[38;5;241;43m.\u001B[39;49m\u001B[43mgroupby\u001B[49m\u001B[43m(\u001B[49m\u001B[43m[\u001B[49m\u001B[38;5;124;43m\"\u001B[39;49m\u001B[38;5;124;43mt\u001B[39;49m\u001B[38;5;124;43m\"\u001B[39;49m\u001B[43m]\u001B[49m\u001B[43m)\u001B[49m\u001B[38;5;241;43m.\u001B[39;49m\u001B[43mapply\u001B[49m\u001B[43m(\u001B[49m\u001B[43mcalculate_end_to_end\u001B[49m\u001B[43m)\u001B[49m\u001B[43m)\u001B[49m\n",
      "File \u001B[0;32m~/Projects/polyflexmd/.venv/lib/python3.10/site-packages/dask/dataframe/groupby.py:2487\u001B[0m, in \u001B[0;36m_GroupBy.apply\u001B[0;34m(self, func, *args, **kwargs)\u001B[0m\n\u001B[1;32m   2484\u001B[0m meta \u001B[38;5;241m=\u001B[39m kwargs\u001B[38;5;241m.\u001B[39mget(\u001B[38;5;124m\"\u001B[39m\u001B[38;5;124mmeta\u001B[39m\u001B[38;5;124m\"\u001B[39m, no_default)\n\u001B[1;32m   2486\u001B[0m \u001B[38;5;28;01mif\u001B[39;00m meta \u001B[38;5;129;01mis\u001B[39;00m no_default:\n\u001B[0;32m-> 2487\u001B[0m     \u001B[38;5;28;01mwith\u001B[39;00m raise_on_meta_error(\u001B[38;5;124mf\u001B[39m\u001B[38;5;124m\"\u001B[39m\u001B[38;5;124mgroupby.apply(\u001B[39m\u001B[38;5;132;01m{\u001B[39;00mfuncname(func)\u001B[38;5;132;01m}\u001B[39;00m\u001B[38;5;124m)\u001B[39m\u001B[38;5;124m\"\u001B[39m, udf\u001B[38;5;241m=\u001B[39m\u001B[38;5;28;01mTrue\u001B[39;00m):\n\u001B[1;32m   2488\u001B[0m         meta_args, meta_kwargs \u001B[38;5;241m=\u001B[39m _extract_meta((args, kwargs), nonempty\u001B[38;5;241m=\u001B[39m\u001B[38;5;28;01mTrue\u001B[39;00m)\n\u001B[1;32m   2489\u001B[0m         meta \u001B[38;5;241m=\u001B[39m \u001B[38;5;28mself\u001B[39m\u001B[38;5;241m.\u001B[39m_meta_nonempty\u001B[38;5;241m.\u001B[39mapply(func, \u001B[38;5;241m*\u001B[39mmeta_args, \u001B[38;5;241m*\u001B[39m\u001B[38;5;241m*\u001B[39mmeta_kwargs)\n",
      "File \u001B[0;32m/usr/lib/python3.10/contextlib.py:153\u001B[0m, in \u001B[0;36m_GeneratorContextManager.__exit__\u001B[0;34m(self, typ, value, traceback)\u001B[0m\n\u001B[1;32m    151\u001B[0m     value \u001B[38;5;241m=\u001B[39m typ()\n\u001B[1;32m    152\u001B[0m \u001B[38;5;28;01mtry\u001B[39;00m:\n\u001B[0;32m--> 153\u001B[0m     \u001B[38;5;28;43mself\u001B[39;49m\u001B[38;5;241;43m.\u001B[39;49m\u001B[43mgen\u001B[49m\u001B[38;5;241;43m.\u001B[39;49m\u001B[43mthrow\u001B[49m\u001B[43m(\u001B[49m\u001B[43mtyp\u001B[49m\u001B[43m,\u001B[49m\u001B[43m \u001B[49m\u001B[43mvalue\u001B[49m\u001B[43m,\u001B[49m\u001B[43m \u001B[49m\u001B[43mtraceback\u001B[49m\u001B[43m)\u001B[49m\n\u001B[1;32m    154\u001B[0m \u001B[38;5;28;01mexcept\u001B[39;00m \u001B[38;5;167;01mStopIteration\u001B[39;00m \u001B[38;5;28;01mas\u001B[39;00m exc:\n\u001B[1;32m    155\u001B[0m     \u001B[38;5;66;03m# Suppress StopIteration *unless* it's the same exception that\u001B[39;00m\n\u001B[1;32m    156\u001B[0m     \u001B[38;5;66;03m# was passed to throw().  This prevents a StopIteration\u001B[39;00m\n\u001B[1;32m    157\u001B[0m     \u001B[38;5;66;03m# raised inside the \"with\" statement from being suppressed.\u001B[39;00m\n\u001B[1;32m    158\u001B[0m     \u001B[38;5;28;01mreturn\u001B[39;00m exc \u001B[38;5;129;01mis\u001B[39;00m \u001B[38;5;129;01mnot\u001B[39;00m value\n",
      "File \u001B[0;32m~/Projects/polyflexmd/.venv/lib/python3.10/site-packages/dask/dataframe/utils.py:214\u001B[0m, in \u001B[0;36mraise_on_meta_error\u001B[0;34m(funcname, udf)\u001B[0m\n\u001B[1;32m    205\u001B[0m msg \u001B[38;5;241m+\u001B[39m\u001B[38;5;241m=\u001B[39m (\n\u001B[1;32m    206\u001B[0m     \u001B[38;5;124m\"\u001B[39m\u001B[38;5;124mOriginal error is below:\u001B[39m\u001B[38;5;130;01m\\n\u001B[39;00m\u001B[38;5;124m\"\u001B[39m\n\u001B[1;32m    207\u001B[0m     \u001B[38;5;124m\"\u001B[39m\u001B[38;5;124m------------------------\u001B[39m\u001B[38;5;130;01m\\n\u001B[39;00m\u001B[38;5;124m\"\u001B[39m\n\u001B[0;32m   (...)\u001B[0m\n\u001B[1;32m    211\u001B[0m     \u001B[38;5;124m\"\u001B[39m\u001B[38;5;132;01m{2}\u001B[39;00m\u001B[38;5;124m\"\u001B[39m\n\u001B[1;32m    212\u001B[0m )\n\u001B[1;32m    213\u001B[0m msg \u001B[38;5;241m=\u001B[39m msg\u001B[38;5;241m.\u001B[39mformat(\u001B[38;5;124mf\u001B[39m\u001B[38;5;124m\"\u001B[39m\u001B[38;5;124m in `\u001B[39m\u001B[38;5;132;01m{\u001B[39;00mfuncname\u001B[38;5;132;01m}\u001B[39;00m\u001B[38;5;124m`\u001B[39m\u001B[38;5;124m\"\u001B[39m \u001B[38;5;28;01mif\u001B[39;00m funcname \u001B[38;5;28;01melse\u001B[39;00m \u001B[38;5;124m\"\u001B[39m\u001B[38;5;124m\"\u001B[39m, \u001B[38;5;28mrepr\u001B[39m(e), tb)\n\u001B[0;32m--> 214\u001B[0m \u001B[38;5;28;01mraise\u001B[39;00m \u001B[38;5;167;01mValueError\u001B[39;00m(msg) \u001B[38;5;28;01mfrom\u001B[39;00m \u001B[38;5;21;01me\u001B[39;00m\n",
      "\u001B[0;31mValueError\u001B[0m: Metadata inference failed in `groupby.apply(lambda)`.\n\nYou have supplied a custom function and Dask is unable to \ndetermine the type of output that that function returns. \n\nTo resolve this please provide a meta= keyword.\nThe docstring of the Dask function you ran should have more information.\n\nOriginal error is below:\n------------------------\nIndexError('single positional indexer is out-of-bounds')\n\nTraceback:\n---------\n  File \"/home/egor/Projects/polyflexmd/.venv/lib/python3.10/site-packages/dask/dataframe/utils.py\", line 193, in raise_on_meta_error\n    yield\n  File \"/home/egor/Projects/polyflexmd/.venv/lib/python3.10/site-packages/dask/dataframe/groupby.py\", line 2489, in apply\n    meta = self._meta_nonempty.apply(func, *meta_args, **meta_kwargs)\n  File \"/home/egor/Projects/polyflexmd/.venv/lib/python3.10/site-packages/pandas/core/groupby/groupby.py\", line 1353, in apply\n    result = self._python_apply_general(f, self._selected_obj)\n  File \"/home/egor/Projects/polyflexmd/.venv/lib/python3.10/site-packages/pandas/core/groupby/groupby.py\", line 1402, in _python_apply_general\n    values, mutated = self.grouper.apply(f, data, self.axis)\n  File \"/home/egor/Projects/polyflexmd/.venv/lib/python3.10/site-packages/pandas/core/groupby/ops.py\", line 767, in apply\n    res = f(group)\n  File \"/home/egor/Projects/polyflexmd/src/polyflexmd/data_analysis/transform/transform.py\", line 102, in <lambda>\n    return gb.apply(lambda dfg: dfg.groupby([\"t\"]).apply(calculate_end_to_end))\n  File \"/home/egor/Projects/polyflexmd/.venv/lib/python3.10/site-packages/pandas/core/groupby/groupby.py\", line 1353, in apply\n    result = self._python_apply_general(f, self._selected_obj)\n  File \"/home/egor/Projects/polyflexmd/.venv/lib/python3.10/site-packages/pandas/core/groupby/groupby.py\", line 1402, in _python_apply_general\n    values, mutated = self.grouper.apply(f, data, self.axis)\n  File \"/home/egor/Projects/polyflexmd/.venv/lib/python3.10/site-packages/pandas/core/groupby/ops.py\", line 767, in apply\n    res = f(group)\n  File \"/home/egor/Projects/polyflexmd/src/polyflexmd/data_analysis/transform/transform.py\", line 66, in calculate_end_to_end\n    leaf_atom_data: pd.Series = molecule_traj_step_df_unf \\\n  File \"/home/egor/Projects/polyflexmd/.venv/lib/python3.10/site-packages/pandas/core/indexing.py\", line 1103, in __getitem__\n    return self._getitem_axis(maybe_callable, axis=axis)\n  File \"/home/egor/Projects/polyflexmd/.venv/lib/python3.10/site-packages/pandas/core/indexing.py\", line 1656, in _getitem_axis\n    self._validate_integer(key, axis)\n  File \"/home/egor/Projects/polyflexmd/.venv/lib/python3.10/site-packages/pandas/core/indexing.py\", line 1589, in _validate_integer\n    raise IndexError(\"single positional indexer is out-of-bounds\")\n"
     ]
    }
   ],
   "source": [
    "df_ete = transform.calc_end_to_end_df(\n",
    "    df_trajectories,\n",
    "    group_by_params=[\"kappa\", \"d_end\"],\n",
    "    parallel=False\n",
    ")\n",
    "df_ete"
   ],
   "metadata": {
    "collapsed": false,
    "ExecuteTime": {
     "end_time": "2023-07-11T20:09:27.272508862Z",
     "start_time": "2023-07-11T20:09:26.005177840Z"
    }
   }
  },
  {
   "cell_type": "code",
   "execution_count": 10,
   "outputs": [
    {
     "name": "stdout",
     "output_type": "stream",
     "text": [
      "Reading paths [PosixPath('/home/egor/Projects/polyflexmd/data/test-5-FENE-beadspring-vary-l_K-vary-d_end/e296c212/data/raw/i_kappa=1/j_d_end=1/polymer_relax-1-1.out'), PosixPath('/home/egor/Projects/polyflexmd/data/test-5-FENE-beadspring-vary-l_K-vary-d_end/e296c212/data/raw/i_kappa=1/j_d_end=1/polymer-1-1.out')] ...\n",
      "Joining ...\n",
      "Unfolding coordinates...\n"
     ]
    },
    {
     "data": {
      "text/plain": "Dask DataFrame Structure:\n                        t      id   type        x        y        z     ix     iy     iz molecule-ID\nnpartitions=19152                                                                                   \n                   uint64  uint16  uint8  float64  float64  float64  int16  int16  int16      uint16\n                      ...     ...    ...      ...      ...      ...    ...    ...    ...         ...\n...                   ...     ...    ...      ...      ...      ...    ...    ...    ...         ...\n                      ...     ...    ...      ...      ...      ...    ...    ...    ...         ...\n                      ...     ...    ...      ...      ...      ...    ...    ...    ...         ...\nDask Name: assign, 18 graph layers",
      "text/html": "<div><strong>Dask DataFrame Structure:</strong></div>\n<div>\n<style scoped>\n    .dataframe tbody tr th:only-of-type {\n        vertical-align: middle;\n    }\n\n    .dataframe tbody tr th {\n        vertical-align: top;\n    }\n\n    .dataframe thead th {\n        text-align: right;\n    }\n</style>\n<table border=\"1\" class=\"dataframe\">\n  <thead>\n    <tr style=\"text-align: right;\">\n      <th></th>\n      <th>t</th>\n      <th>id</th>\n      <th>type</th>\n      <th>x</th>\n      <th>y</th>\n      <th>z</th>\n      <th>ix</th>\n      <th>iy</th>\n      <th>iz</th>\n      <th>molecule-ID</th>\n    </tr>\n    <tr>\n      <th>npartitions=19152</th>\n      <th></th>\n      <th></th>\n      <th></th>\n      <th></th>\n      <th></th>\n      <th></th>\n      <th></th>\n      <th></th>\n      <th></th>\n      <th></th>\n    </tr>\n  </thead>\n  <tbody>\n    <tr>\n      <th></th>\n      <td>uint64</td>\n      <td>uint16</td>\n      <td>uint8</td>\n      <td>float64</td>\n      <td>float64</td>\n      <td>float64</td>\n      <td>int16</td>\n      <td>int16</td>\n      <td>int16</td>\n      <td>uint16</td>\n    </tr>\n    <tr>\n      <th></th>\n      <td>...</td>\n      <td>...</td>\n      <td>...</td>\n      <td>...</td>\n      <td>...</td>\n      <td>...</td>\n      <td>...</td>\n      <td>...</td>\n      <td>...</td>\n      <td>...</td>\n    </tr>\n    <tr>\n      <th>...</th>\n      <td>...</td>\n      <td>...</td>\n      <td>...</td>\n      <td>...</td>\n      <td>...</td>\n      <td>...</td>\n      <td>...</td>\n      <td>...</td>\n      <td>...</td>\n      <td>...</td>\n    </tr>\n    <tr>\n      <th></th>\n      <td>...</td>\n      <td>...</td>\n      <td>...</td>\n      <td>...</td>\n      <td>...</td>\n      <td>...</td>\n      <td>...</td>\n      <td>...</td>\n      <td>...</td>\n      <td>...</td>\n    </tr>\n    <tr>\n      <th></th>\n      <td>...</td>\n      <td>...</td>\n      <td>...</td>\n      <td>...</td>\n      <td>...</td>\n      <td>...</td>\n      <td>...</td>\n      <td>...</td>\n      <td>...</td>\n      <td>...</td>\n    </tr>\n  </tbody>\n</table>\n</div>\n<div>Dask Name: assign, 18 graph layers</div>"
     },
     "execution_count": 10,
     "metadata": {},
     "output_type": "execute_result"
    }
   ],
   "source": [
    "df_trajectory_unfolded = transform.unfold_coordinates_df(\n",
    "    trajectory_df=transform.join_raw_trajectory_df_with_system_data(\n",
    "        raw_trajectory_df=read.read_multiple_raw_trajectory_dfs([\n",
    "            pathlib.Path(\n",
    "                \"/home/egor/Projects/polyflexmd/data/test-5-FENE-beadspring-vary-l_K-vary-d_end/e296c212/data/raw/i_kappa=1/j_d_end=1/polymer_relax-1-1.out\"),\n",
    "            pathlib.Path(\n",
    "                \"/home/egor/Projects/polyflexmd/data/test-5-FENE-beadspring-vary-l_K-vary-d_end/e296c212/data/raw/i_kappa=1/j_d_end=1/polymer-1-1.out\")\n",
    "        ]),\n",
    "        system_data=system\n",
    "    ),\n",
    "    system_data=system\n",
    ")\n",
    "df_trajectory_unfolded"
   ],
   "metadata": {
    "collapsed": false,
    "ExecuteTime": {
     "end_time": "2023-07-11T19:36:09.055856245Z",
     "start_time": "2023-07-11T19:36:03.784095991Z"
    }
   }
  },
  {
   "cell_type": "code",
   "execution_count": null,
   "outputs": [],
   "source": [],
   "metadata": {
    "collapsed": false
   }
  }
 ],
 "metadata": {
  "kernelspec": {
   "display_name": "Python 3",
   "language": "python",
   "name": "python3"
  },
  "language_info": {
   "codemirror_mode": {
    "name": "ipython",
    "version": 2
   },
   "file_extension": ".py",
   "mimetype": "text/x-python",
   "name": "python",
   "nbconvert_exporter": "python",
   "pygments_lexer": "ipython2",
   "version": "2.7.6"
  }
 },
 "nbformat": 4,
 "nbformat_minor": 0
}
