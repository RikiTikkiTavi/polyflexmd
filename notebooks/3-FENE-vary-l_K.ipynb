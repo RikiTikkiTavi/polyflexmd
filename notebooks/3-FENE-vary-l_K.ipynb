{
 "cells": [
  {
   "cell_type": "markdown",
   "metadata": {},
   "source": [
    "# FENE beadspring with variable kuhn length experiment data analysis"
   ]
  },
  {
   "cell_type": "code",
   "execution_count": 15,
   "metadata": {
    "ExecuteTime": {
     "end_time": "2023-04-19T16:12:53.927048Z",
     "start_time": "2023-04-19T16:12:52.028358Z"
    }
   },
   "outputs": [],
   "source": [
    "import os\n",
    "\n",
    "import polyflexmd.data_analysis.data.read as read\n",
    "import polyflexmd.data_analysis.transform.transform as transform\n",
    "import polyflexmd.data_analysis.plot.plot_system as plot_system\n",
    "import polyflexmd.experiment_runner.config as config\n",
    "import pandas as pd\n",
    "import pathlib\n",
    "import matplotlib.pyplot as plt\n",
    "import numpy as np\n",
    "from pandarallel import pandarallel\n",
    "import dask\n",
    "import dask.dataframe\n",
    "import multiprocessing\n"
   ]
  },
  {
   "cell_type": "code",
   "execution_count": 2,
   "metadata": {
    "ExecuteTime": {
     "end_time": "2023-04-19T16:12:53.983931Z",
     "start_time": "2023-04-19T16:12:53.931345Z"
    }
   },
   "outputs": [],
   "source": [
    "% load_ext autoreload\n",
    "% autoreload 2"
   ]
  },
  {
   "cell_type": "code",
   "execution_count": 3,
   "metadata": {
    "ExecuteTime": {
     "end_time": "2023-04-19T16:12:57.345599Z",
     "start_time": "2023-04-19T16:12:57.313993Z"
    }
   },
   "outputs": [
    {
     "name": "stdout",
     "output_type": "stream",
     "text": [
      "INFO: Pandarallel will run on 32 workers.\n",
      "INFO: Pandarallel will use standard multiprocessing data transfer (pipe) to transfer data between the main process and workers.\n"
     ]
    }
   ],
   "source": [
    "pandarallel.initialize(\n",
    "    nb_workers=32,\n",
    "    progress_bar=False,\n",
    "    use_memory_fs=False\n",
    ")"
   ]
  },
  {
   "cell_type": "markdown",
   "metadata": {},
   "source": [
    "## Read and process data"
   ]
  },
  {
   "cell_type": "code",
   "execution_count": 22,
   "metadata": {
    "tags": [
     "parameters"
    ]
   },
   "outputs": [],
   "source": [
    "PATH_EXPERIMENT = \"/scratch/ws/0/s4610340-bt-eea1-md-workspace/data/experiment_results/FENE-beadspring-vary-l_K/4-FENE-beadspring-vary-l_K/48267f61\""
   ]
  },
  {
   "cell_type": "code",
   "execution_count": 23,
   "metadata": {
    "ExecuteTime": {
     "end_time": "2023-04-19T16:12:59.651031Z",
     "start_time": "2023-04-19T16:12:59.612093Z"
    }
   },
   "outputs": [],
   "source": [
    "PATH_EXPERIMENT = pathlib.Path(PATH_EXPERIMENT)\n",
    "PATH_SYSTEM_DEF = PATH_EXPERIMENT / \"data/initial_system.data\"\n",
    "PATH_EC = PATH_EXPERIMENT / \"4-FENE-beadspring-vary-l_K.toml\""
   ]
  },
  {
   "cell_type": "markdown",
   "source": [
    "### Read experiment config"
   ],
   "metadata": {
    "collapsed": false
   }
  },
  {
   "cell_type": "code",
   "execution_count": 24,
   "outputs": [
    {
     "data": {
      "text/plain": "ExperimentConfig(simulation_config=SimulationConfig(job=SlurmJobConfig(account='p_mdpolymer', time='64:00:00', partition='romeo', ntasks=12, cpus_per_task=32, mem_per_cpu=1000), simulation_model_path=PosixPath('simulations/FENE-beadspring-vary-l_K.lammps'), experiments_path=PosixPath('/scratch/ws/0/s4610340-bt-eea1-md-workspace/data/experiment_results'), variables={'kappa': [1.0, 4.0, 7.0, 10.0, 13.0, 20.0, 30.0, 40.0, 50.0]}), system_creator_config=SystemCreatorConfig(job=SlurmJobConfig(account='p_mdpolymer', time='1:00:00', partition='romeo', ntasks=1, cpus_per_task=4, mem_per_cpu=1000), venv_path=PosixPath('/scratch/ws/0/s4610340-bt-eea1-md-workspace/polyflexmd/.venv'), system_config=AnchoredFENEChainConfig(name='anchored-fene-chain', n_chains=200, n_monomers=128, monomer_type=2, bond_type=1, angle_type=1, bond_length=0.97, box_length=200, seed=77)), report_config=None)"
     },
     "execution_count": 24,
     "metadata": {},
     "output_type": "execute_result"
    }
   ],
   "source": [
    "conf = config.read_experiment_config(PATH_EC)\n",
    "conf"
   ],
   "metadata": {
    "collapsed": false
   }
  },
  {
   "cell_type": "code",
   "execution_count": 25,
   "outputs": [
    {
     "data": {
      "text/plain": "[1.0, 4.0, 7.0, 10.0, 13.0, 20.0, 30.0, 40.0, 50.0]"
     },
     "execution_count": 25,
     "metadata": {},
     "output_type": "execute_result"
    }
   ],
   "source": [
    "kappas: list[float] = conf.simulation_config.variables[\"kappa\"]\n",
    "kappas"
   ],
   "metadata": {
    "collapsed": false
   }
  },
  {
   "cell_type": "markdown",
   "source": [
    "### Read initial system"
   ],
   "metadata": {
    "collapsed": false
   }
  },
  {
   "cell_type": "code",
   "execution_count": 26,
   "outputs": [
    {
     "data": {
      "text/plain": "       molecule-ID  type         x         y          z  ix  iy  iz\n1                1     1  0.000000  0.000000   0.000000   0   0   0\n2                1     1  0.764233 -0.425729  -0.419050   0   0   0\n3                1     2  0.773821 -0.836732   0.459520   0   0   0\n4                1     2  1.285179 -0.524169  -0.303184   0   0   0\n5                1     2  0.842282  0.329744  -0.427985   0   0   0\n...            ...   ...       ...       ...        ...  ..  ..  ..\n25596          200     2 -2.657187  4.352830  12.311182   0   0   0\n25597          200     2 -2.321878  4.135283  11.427360   0   0   0\n25598          200     2 -2.115038  4.152888  10.479833   0   0   0\n25599          200     2 -2.192981  5.112155  10.358871   0   0   0\n25600          200     3 -2.428575  5.130284   9.418091   0   0   0\n\n[25600 rows x 8 columns]",
      "text/html": "<div>\n<style scoped>\n    .dataframe tbody tr th:only-of-type {\n        vertical-align: middle;\n    }\n\n    .dataframe tbody tr th {\n        vertical-align: top;\n    }\n\n    .dataframe thead th {\n        text-align: right;\n    }\n</style>\n<table border=\"1\" class=\"dataframe\">\n  <thead>\n    <tr style=\"text-align: right;\">\n      <th></th>\n      <th>molecule-ID</th>\n      <th>type</th>\n      <th>x</th>\n      <th>y</th>\n      <th>z</th>\n      <th>ix</th>\n      <th>iy</th>\n      <th>iz</th>\n    </tr>\n  </thead>\n  <tbody>\n    <tr>\n      <th>1</th>\n      <td>1</td>\n      <td>1</td>\n      <td>0.000000</td>\n      <td>0.000000</td>\n      <td>0.000000</td>\n      <td>0</td>\n      <td>0</td>\n      <td>0</td>\n    </tr>\n    <tr>\n      <th>2</th>\n      <td>1</td>\n      <td>1</td>\n      <td>0.764233</td>\n      <td>-0.425729</td>\n      <td>-0.419050</td>\n      <td>0</td>\n      <td>0</td>\n      <td>0</td>\n    </tr>\n    <tr>\n      <th>3</th>\n      <td>1</td>\n      <td>2</td>\n      <td>0.773821</td>\n      <td>-0.836732</td>\n      <td>0.459520</td>\n      <td>0</td>\n      <td>0</td>\n      <td>0</td>\n    </tr>\n    <tr>\n      <th>4</th>\n      <td>1</td>\n      <td>2</td>\n      <td>1.285179</td>\n      <td>-0.524169</td>\n      <td>-0.303184</td>\n      <td>0</td>\n      <td>0</td>\n      <td>0</td>\n    </tr>\n    <tr>\n      <th>5</th>\n      <td>1</td>\n      <td>2</td>\n      <td>0.842282</td>\n      <td>0.329744</td>\n      <td>-0.427985</td>\n      <td>0</td>\n      <td>0</td>\n      <td>0</td>\n    </tr>\n    <tr>\n      <th>...</th>\n      <td>...</td>\n      <td>...</td>\n      <td>...</td>\n      <td>...</td>\n      <td>...</td>\n      <td>...</td>\n      <td>...</td>\n      <td>...</td>\n    </tr>\n    <tr>\n      <th>25596</th>\n      <td>200</td>\n      <td>2</td>\n      <td>-2.657187</td>\n      <td>4.352830</td>\n      <td>12.311182</td>\n      <td>0</td>\n      <td>0</td>\n      <td>0</td>\n    </tr>\n    <tr>\n      <th>25597</th>\n      <td>200</td>\n      <td>2</td>\n      <td>-2.321878</td>\n      <td>4.135283</td>\n      <td>11.427360</td>\n      <td>0</td>\n      <td>0</td>\n      <td>0</td>\n    </tr>\n    <tr>\n      <th>25598</th>\n      <td>200</td>\n      <td>2</td>\n      <td>-2.115038</td>\n      <td>4.152888</td>\n      <td>10.479833</td>\n      <td>0</td>\n      <td>0</td>\n      <td>0</td>\n    </tr>\n    <tr>\n      <th>25599</th>\n      <td>200</td>\n      <td>2</td>\n      <td>-2.192981</td>\n      <td>5.112155</td>\n      <td>10.358871</td>\n      <td>0</td>\n      <td>0</td>\n      <td>0</td>\n    </tr>\n    <tr>\n      <th>25600</th>\n      <td>200</td>\n      <td>3</td>\n      <td>-2.428575</td>\n      <td>5.130284</td>\n      <td>9.418091</td>\n      <td>0</td>\n      <td>0</td>\n      <td>0</td>\n    </tr>\n  </tbody>\n</table>\n<p>25600 rows × 8 columns</p>\n</div>"
     },
     "execution_count": 26,
     "metadata": {},
     "output_type": "execute_result"
    }
   ],
   "source": [
    "system = read.read_lammps_system_data(PATH_SYSTEM_DEF)\n",
    "system.atoms"
   ],
   "metadata": {
    "collapsed": false
   }
  },
  {
   "cell_type": "code",
   "execution_count": 27,
   "outputs": [
    {
     "data": {
      "text/plain": "       type  atom1  atom2\n1         1      1      2\n2         1      2      3\n3         1      3      4\n4         1      4      5\n5         1      5      6\n...     ...    ...    ...\n25396     1  25595  25596\n25397     1  25596  25597\n25398     1  25597  25598\n25399     1  25598  25599\n25400     1  25599  25600\n\n[25400 rows x 3 columns]",
      "text/html": "<div>\n<style scoped>\n    .dataframe tbody tr th:only-of-type {\n        vertical-align: middle;\n    }\n\n    .dataframe tbody tr th {\n        vertical-align: top;\n    }\n\n    .dataframe thead th {\n        text-align: right;\n    }\n</style>\n<table border=\"1\" class=\"dataframe\">\n  <thead>\n    <tr style=\"text-align: right;\">\n      <th></th>\n      <th>type</th>\n      <th>atom1</th>\n      <th>atom2</th>\n    </tr>\n  </thead>\n  <tbody>\n    <tr>\n      <th>1</th>\n      <td>1</td>\n      <td>1</td>\n      <td>2</td>\n    </tr>\n    <tr>\n      <th>2</th>\n      <td>1</td>\n      <td>2</td>\n      <td>3</td>\n    </tr>\n    <tr>\n      <th>3</th>\n      <td>1</td>\n      <td>3</td>\n      <td>4</td>\n    </tr>\n    <tr>\n      <th>4</th>\n      <td>1</td>\n      <td>4</td>\n      <td>5</td>\n    </tr>\n    <tr>\n      <th>5</th>\n      <td>1</td>\n      <td>5</td>\n      <td>6</td>\n    </tr>\n    <tr>\n      <th>...</th>\n      <td>...</td>\n      <td>...</td>\n      <td>...</td>\n    </tr>\n    <tr>\n      <th>25396</th>\n      <td>1</td>\n      <td>25595</td>\n      <td>25596</td>\n    </tr>\n    <tr>\n      <th>25397</th>\n      <td>1</td>\n      <td>25596</td>\n      <td>25597</td>\n    </tr>\n    <tr>\n      <th>25398</th>\n      <td>1</td>\n      <td>25597</td>\n      <td>25598</td>\n    </tr>\n    <tr>\n      <th>25399</th>\n      <td>1</td>\n      <td>25598</td>\n      <td>25599</td>\n    </tr>\n    <tr>\n      <th>25400</th>\n      <td>1</td>\n      <td>25599</td>\n      <td>25600</td>\n    </tr>\n  </tbody>\n</table>\n<p>25400 rows × 3 columns</p>\n</div>"
     },
     "execution_count": 27,
     "metadata": {},
     "output_type": "execute_result"
    }
   ],
   "source": [
    "system.bonds"
   ],
   "metadata": {
    "collapsed": false
   }
  },
  {
   "cell_type": "code",
   "execution_count": 28,
   "outputs": [
    {
     "data": {
      "text/plain": "       type  atom1  atom2  atom3\n1         1      1      2      3\n2         1      2      3      4\n3         1      3      4      5\n4         1      4      5      6\n5         1      5      6      7\n...     ...    ...    ...    ...\n25196     1  25594  25595  25596\n25197     1  25595  25596  25597\n25198     1  25596  25597  25598\n25199     1  25597  25598  25599\n25200     1  25598  25599  25600\n\n[25200 rows x 4 columns]",
      "text/html": "<div>\n<style scoped>\n    .dataframe tbody tr th:only-of-type {\n        vertical-align: middle;\n    }\n\n    .dataframe tbody tr th {\n        vertical-align: top;\n    }\n\n    .dataframe thead th {\n        text-align: right;\n    }\n</style>\n<table border=\"1\" class=\"dataframe\">\n  <thead>\n    <tr style=\"text-align: right;\">\n      <th></th>\n      <th>type</th>\n      <th>atom1</th>\n      <th>atom2</th>\n      <th>atom3</th>\n    </tr>\n  </thead>\n  <tbody>\n    <tr>\n      <th>1</th>\n      <td>1</td>\n      <td>1</td>\n      <td>2</td>\n      <td>3</td>\n    </tr>\n    <tr>\n      <th>2</th>\n      <td>1</td>\n      <td>2</td>\n      <td>3</td>\n      <td>4</td>\n    </tr>\n    <tr>\n      <th>3</th>\n      <td>1</td>\n      <td>3</td>\n      <td>4</td>\n      <td>5</td>\n    </tr>\n    <tr>\n      <th>4</th>\n      <td>1</td>\n      <td>4</td>\n      <td>5</td>\n      <td>6</td>\n    </tr>\n    <tr>\n      <th>5</th>\n      <td>1</td>\n      <td>5</td>\n      <td>6</td>\n      <td>7</td>\n    </tr>\n    <tr>\n      <th>...</th>\n      <td>...</td>\n      <td>...</td>\n      <td>...</td>\n      <td>...</td>\n    </tr>\n    <tr>\n      <th>25196</th>\n      <td>1</td>\n      <td>25594</td>\n      <td>25595</td>\n      <td>25596</td>\n    </tr>\n    <tr>\n      <th>25197</th>\n      <td>1</td>\n      <td>25595</td>\n      <td>25596</td>\n      <td>25597</td>\n    </tr>\n    <tr>\n      <th>25198</th>\n      <td>1</td>\n      <td>25596</td>\n      <td>25597</td>\n      <td>25598</td>\n    </tr>\n    <tr>\n      <th>25199</th>\n      <td>1</td>\n      <td>25597</td>\n      <td>25598</td>\n      <td>25599</td>\n    </tr>\n    <tr>\n      <th>25200</th>\n      <td>1</td>\n      <td>25598</td>\n      <td>25599</td>\n      <td>25600</td>\n    </tr>\n  </tbody>\n</table>\n<p>25200 rows × 4 columns</p>\n</div>"
     },
     "execution_count": 28,
     "metadata": {},
     "output_type": "execute_result"
    }
   ],
   "source": [
    "system.angles"
   ],
   "metadata": {
    "collapsed": false
   }
  },
  {
   "cell_type": "code",
   "execution_count": 29,
   "outputs": [
    {
     "data": {
      "text/plain": "-100.000000 100.000000  xlo xhi\n-100.000000 100.000000  ylo yhi\n-100.000000 100.000000  zlo zhi"
     },
     "execution_count": 29,
     "metadata": {},
     "output_type": "execute_result"
    }
   ],
   "source": [
    "system.box"
   ],
   "metadata": {
    "collapsed": false
   }
  },
  {
   "cell_type": "markdown",
   "source": [
    "### Read and process trajectories"
   ],
   "metadata": {
    "collapsed": false
   }
  },
  {
   "cell_type": "code",
   "execution_count": 30,
   "outputs": [
    {
     "name": "stdout",
     "output_type": "stream",
     "text": [
      "Reading [PosixPath('/scratch/ws/0/s4610340-bt-eea1-md-workspace/data/experiment_results/FENE-beadspring-vary-l_K/4-FENE-beadspring-vary-l_K/48267f61/data/polymer_relax-1.out'), PosixPath('/scratch/ws/0/s4610340-bt-eea1-md-workspace/data/experiment_results/FENE-beadspring-vary-l_K/4-FENE-beadspring-vary-l_K/48267f61/data/polymer-1.out')]...\n",
      "Reading [PosixPath('/scratch/ws/0/s4610340-bt-eea1-md-workspace/data/experiment_results/FENE-beadspring-vary-l_K/4-FENE-beadspring-vary-l_K/48267f61/data/polymer_relax-2.out'), PosixPath('/scratch/ws/0/s4610340-bt-eea1-md-workspace/data/experiment_results/FENE-beadspring-vary-l_K/4-FENE-beadspring-vary-l_K/48267f61/data/polymer-2.out')]...\n"
     ]
    },
    {
     "name": "stderr",
     "output_type": "stream",
     "text": [
      "\n",
      "KeyboardInterrupt\n",
      "\n"
     ]
    }
   ],
   "source": [
    "def read_and_process_kappas_df(experiment_path: pathlib.Path, kappas: list[float]):\n",
    "    dfs = []\n",
    "    for i in range(1, len(kappas) + 1):\n",
    "        paths_trajectories = [\n",
    "            experiment_path / \"data\" / f\"polymer_relax-{i}.out\",\n",
    "            experiment_path / \"data\" / f\"polymer-{i}.out\"\n",
    "        ]\n",
    "        print(f\"Reading {paths_trajectories}...\")\n",
    "        if not all(p.exists() for p in paths_trajectories):\n",
    "            break\n",
    "\n",
    "        df_trajectory_unfolded = transform.unfold_coordinates_df(\n",
    "            trajectory_df=transform.join_raw_trajectory_df_with_system_data(\n",
    "                raw_trajectory_df=read.read_multiple_raw_trajectory_dfs(paths_trajectories),\n",
    "                system_data=system\n",
    "            ),\n",
    "            system_data=system\n",
    "        )\n",
    "        df_trajectory_unfolded[\"kappa\"] = kappas[i]\n",
    "        dfs.append(df_trajectory_unfolded)\n",
    "\n",
    "    return pd.concat(dfs)\n",
    "\n",
    "\n",
    "df_trajectory_unfolded_kappas = read_and_process_kappas_df(PATH_EXPERIMENT, kappas)\n",
    "df_trajectory_unfolded_kappas"
   ],
   "metadata": {
    "collapsed": false
   }
  },
  {
   "cell_type": "code",
   "execution_count": null,
   "outputs": [],
   "source": [
    "PATH_DATA_PROCESSED = PATH_EXPERIMENT / \"data\" / \"processed\"\n",
    "PATH_DATA_PROCESSED.mkdir(exist_ok=True)\n",
    "\n",
    "df_trajectory_unfolded_kappas.to_csv(PATH_DATA_PROCESSED / \"trajectory_unfolded_kappas.csv\", index=True)"
   ],
   "metadata": {
    "collapsed": false
   }
  },
  {
   "cell_type": "markdown",
   "metadata": {},
   "source": [
    "## Calculate and plot observables"
   ]
  },
  {
   "cell_type": "markdown",
   "metadata": {},
   "source": [
    "### End-to-End distance $\\vec{R}$"
   ]
  },
  {
   "cell_type": "code",
   "execution_count": null,
   "metadata": {
    "ExecuteTime": {
     "end_time": "2023-04-19T16:23:49.170802Z",
     "start_time": "2023-04-19T16:19:02.547666Z"
    }
   },
   "outputs": [],
   "source": [
    "PATH_DATA_PROCESSED = PATH_EXPERIMENT / \"data\" / \"processed\"\n",
    "PATH_DATA_PROCESSED.mkdir(exist_ok=True)\n",
    "\n",
    "PATH_ETE = PATH_EXPERIMENT / \"data\" / \"processed\" / \"ete.csv\"\n",
    "\n",
    "df_ete = df_trajectory_unfolded_kappas.groupby(\"kappa\").apply(transform.calc_end_to_end_df)\n",
    "df_ete.to_csv(PATH_ETE, index=True)"
   ]
  },
  {
   "cell_type": "code",
   "execution_count": null,
   "outputs": [],
   "source": [],
   "metadata": {
    "collapsed": false
   }
  }
 ],
 "metadata": {
  "kernelspec": {
   "display_name": "polyflexmd",
   "language": "python",
   "name": "polyflexmd"
  },
  "language_info": {
   "codemirror_mode": {
    "name": "ipython",
    "version": 3
   },
   "file_extension": ".py",
   "mimetype": "text/x-python",
   "name": "python",
   "nbconvert_exporter": "python",
   "pygments_lexer": "ipython3",
   "version": "3.9.5"
  }
 },
 "nbformat": 4,
 "nbformat_minor": 1
}
