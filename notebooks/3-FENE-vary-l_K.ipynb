{
 "cells": [
  {
   "cell_type": "markdown",
   "metadata": {},
   "source": [
    "# FENE beadspring with variable kuhn length experiment data analysis"
   ]
  },
  {
   "cell_type": "code",
   "execution_count": 3,
   "metadata": {
    "ExecuteTime": {
     "end_time": "2023-04-19T16:12:53.927048Z",
     "start_time": "2023-04-19T16:12:52.028358Z"
    }
   },
   "outputs": [],
   "source": [
    "import os\n",
    "\n",
    "import polyflexmd.data_analysis.data.read as read\n",
    "import polyflexmd.data_analysis.transform.transform as transform\n",
    "import polyflexmd.data_analysis.plot.plot_system as plot_system\n",
    "import polyflexmd.experiment_runner.config as config\n",
    "import pandas as pd\n",
    "import pathlib\n",
    "import matplotlib.pyplot as plt\n",
    "import numpy as np\n",
    "from pandarallel import pandarallel\n"
   ]
  },
  {
   "cell_type": "code",
   "execution_count": 4,
   "metadata": {
    "ExecuteTime": {
     "end_time": "2023-04-19T16:12:53.983931Z",
     "start_time": "2023-04-19T16:12:53.931345Z"
    }
   },
   "outputs": [],
   "source": [
    "%load_ext autoreload\n",
    "%autoreload 2"
   ]
  },
  {
   "cell_type": "code",
   "execution_count": 5,
   "metadata": {
    "ExecuteTime": {
     "end_time": "2023-04-19T16:12:57.345599Z",
     "start_time": "2023-04-19T16:12:57.313993Z"
    }
   },
   "outputs": [
    {
     "name": "stdout",
     "output_type": "stream",
     "text": [
      "INFO: Pandarallel will run on 24 workers.\n",
      "INFO: Pandarallel will use standard multiprocessing data transfer (pipe) to transfer data between the main process and workers.\n"
     ]
    }
   ],
   "source": [
    "pandarallel.initialize(\n",
    "    nb_workers=24,\n",
    "    progress_bar=False,\n",
    "    use_memory_fs=False\n",
    ")"
   ]
  },
  {
   "cell_type": "markdown",
   "metadata": {},
   "source": [
    "## Read and process data"
   ]
  },
  {
   "cell_type": "code",
   "execution_count": 6,
   "metadata": {
    "tags": [
     "parameters"
    ]
   },
   "outputs": [],
   "source": [
    "PATH_EXPERIMENT = \"/scratch/ws/0/s4610340-bt-eea1-md-workspace/data/experiment_results/FENE-beadspring-free-angle/3-FENE-beadspring-free-angle/a62b82b9\""
   ]
  },
  {
   "cell_type": "code",
   "execution_count": 7,
   "metadata": {
    "ExecuteTime": {
     "end_time": "2023-04-19T16:12:59.651031Z",
     "start_time": "2023-04-19T16:12:59.612093Z"
    }
   },
   "outputs": [],
   "source": [
    "PATH_EXPERIMENT = pathlib.Path(PATH_EXPERIMENT)\n",
    "PATH_SYSTEM_DEF = PATH_EXPERIMENT / \"data/initial_system.data\"\n",
    "PATH_EC = PATH_EXPERIMENT / \"4-FENE-beadspring-vary-l_K.toml\""
   ]
  },
  {
   "cell_type": "markdown",
   "source": [
    "### Read experiment config"
   ],
   "metadata": {
    "collapsed": false
   }
  },
  {
   "cell_type": "code",
   "execution_count": null,
   "outputs": [],
   "source": [
    "config.read_experiment_config(PATH_EC)\n",
    "config"
   ],
   "metadata": {
    "collapsed": false
   }
  },
  {
   "cell_type": "code",
   "execution_count": null,
   "outputs": [],
   "source": [
    "kappas: list[float] = config.SimulationConfig.variables[\"kappa\"]\n",
    "kappas"
   ],
   "metadata": {
    "collapsed": false
   }
  },
  {
   "cell_type": "markdown",
   "source": [
    "### Read initial system"
   ],
   "metadata": {
    "collapsed": false
   }
  },
  {
   "cell_type": "code",
   "execution_count": null,
   "outputs": [],
   "source": [
    "system = read.read_lammps_system_data(PATH_SYSTEM_DEF)\n",
    "system.atoms"
   ],
   "metadata": {
    "collapsed": false
   }
  },
  {
   "cell_type": "code",
   "execution_count": null,
   "outputs": [],
   "source": [
    "system.bonds"
   ],
   "metadata": {
    "collapsed": false
   }
  },
  {
   "cell_type": "code",
   "execution_count": null,
   "outputs": [],
   "source": [
    "system.angles"
   ],
   "metadata": {
    "collapsed": false
   }
  },
  {
   "cell_type": "code",
   "execution_count": null,
   "outputs": [],
   "source": [
    "system.box"
   ],
   "metadata": {
    "collapsed": false
   }
  },
  {
   "cell_type": "markdown",
   "source": [
    "### Read and process trajectories"
   ],
   "metadata": {
    "collapsed": false
   }
  },
  {
   "cell_type": "code",
   "execution_count": null,
   "outputs": [],
   "source": [
    "def read_and_process_kappas_df(experiment_path: pathlib.Path, kappas: list[float]):\n",
    "    dfs = []\n",
    "    for i in range(1, len(kappas) + 1):\n",
    "        paths_trajectories = [\n",
    "            experiment_path / \"data\" / f\"polymer_relax-{i}.out\",\n",
    "            experiment_path / \"data\" / f\"polymer-{i}.out\"\n",
    "        ]\n",
    "        df_trajectory_unfolded = transform.unfold_coordinates_df(\n",
    "            trajectory_df=transform.join_raw_trajectory_df_with_system_data(\n",
    "                raw_trajectory_df=read.read_multiple_raw_trajectory_dfs(paths_trajectories),\n",
    "                system_data=system\n",
    "            ),\n",
    "            system_data=system\n",
    "        )\n",
    "        df_trajectory_unfolded[\"kappa\"] = kappas[i]\n",
    "        dfs.append(df_trajectory_unfolded)\n",
    "    return pd.concat(dfs)\n",
    "\n",
    "df_trajectory_unfolded_kappas = read_and_process_kappas_df(PATH_EXPERIMENT, kappas)\n",
    "df_trajectory_unfolded_kappas"
   ],
   "metadata": {
    "collapsed": false
   }
  },
  {
   "cell_type": "markdown",
   "metadata": {},
   "source": [
    "## Calculate and plot observables"
   ]
  },
  {
   "cell_type": "markdown",
   "metadata": {},
   "source": [
    "### End-to-End distance $\\vec{R}$"
   ]
  },
  {
   "cell_type": "code",
   "execution_count": 15,
   "metadata": {
    "ExecuteTime": {
     "end_time": "2023-04-19T16:23:49.170802Z",
     "start_time": "2023-04-19T16:19:02.547666Z"
    }
   },
   "outputs": [
    {
     "data": {
      "text/plain": "                            R_x       R_y       R_z          R\nmolecule-ID t                                                 \n1           0          9.844740 -2.701840  7.548270  12.696268\n            100000    10.071300 -3.788600  2.352410  11.014464\n            200000    16.600600 -9.010100  4.066660  19.320961\n            300000    15.349100 -5.848040  2.344690  16.591926\n            400000    16.740700 -3.157660  1.502620  17.102038\n...                         ...       ...       ...        ...\n120         29960000   3.221090 -0.088719  1.941870   3.762200\n            29970000   1.724150 -4.078280  0.471077   4.452749\n            29980000   0.270615 -2.586720 -2.036100   3.303037\n            29990000   1.273000 -3.735650  1.003840   4.072260\n            30000000   3.228840 -1.049590 -0.592467   3.446457\n\n[198120 rows x 4 columns]",
      "text/html": "<div>\n<style scoped>\n    .dataframe tbody tr th:only-of-type {\n        vertical-align: middle;\n    }\n\n    .dataframe tbody tr th {\n        vertical-align: top;\n    }\n\n    .dataframe thead th {\n        text-align: right;\n    }\n</style>\n<table border=\"1\" class=\"dataframe\">\n  <thead>\n    <tr style=\"text-align: right;\">\n      <th></th>\n      <th></th>\n      <th>R_x</th>\n      <th>R_y</th>\n      <th>R_z</th>\n      <th>R</th>\n    </tr>\n    <tr>\n      <th>molecule-ID</th>\n      <th>t</th>\n      <th></th>\n      <th></th>\n      <th></th>\n      <th></th>\n    </tr>\n  </thead>\n  <tbody>\n    <tr>\n      <th rowspan=\"5\" valign=\"top\">1</th>\n      <th>0</th>\n      <td>9.844740</td>\n      <td>-2.701840</td>\n      <td>7.548270</td>\n      <td>12.696268</td>\n    </tr>\n    <tr>\n      <th>100000</th>\n      <td>10.071300</td>\n      <td>-3.788600</td>\n      <td>2.352410</td>\n      <td>11.014464</td>\n    </tr>\n    <tr>\n      <th>200000</th>\n      <td>16.600600</td>\n      <td>-9.010100</td>\n      <td>4.066660</td>\n      <td>19.320961</td>\n    </tr>\n    <tr>\n      <th>300000</th>\n      <td>15.349100</td>\n      <td>-5.848040</td>\n      <td>2.344690</td>\n      <td>16.591926</td>\n    </tr>\n    <tr>\n      <th>400000</th>\n      <td>16.740700</td>\n      <td>-3.157660</td>\n      <td>1.502620</td>\n      <td>17.102038</td>\n    </tr>\n    <tr>\n      <th>...</th>\n      <th>...</th>\n      <td>...</td>\n      <td>...</td>\n      <td>...</td>\n      <td>...</td>\n    </tr>\n    <tr>\n      <th rowspan=\"5\" valign=\"top\">120</th>\n      <th>29960000</th>\n      <td>3.221090</td>\n      <td>-0.088719</td>\n      <td>1.941870</td>\n      <td>3.762200</td>\n    </tr>\n    <tr>\n      <th>29970000</th>\n      <td>1.724150</td>\n      <td>-4.078280</td>\n      <td>0.471077</td>\n      <td>4.452749</td>\n    </tr>\n    <tr>\n      <th>29980000</th>\n      <td>0.270615</td>\n      <td>-2.586720</td>\n      <td>-2.036100</td>\n      <td>3.303037</td>\n    </tr>\n    <tr>\n      <th>29990000</th>\n      <td>1.273000</td>\n      <td>-3.735650</td>\n      <td>1.003840</td>\n      <td>4.072260</td>\n    </tr>\n    <tr>\n      <th>30000000</th>\n      <td>3.228840</td>\n      <td>-1.049590</td>\n      <td>-0.592467</td>\n      <td>3.446457</td>\n    </tr>\n  </tbody>\n</table>\n<p>198120 rows × 4 columns</p>\n</div>"
     },
     "execution_count": 15,
     "metadata": {},
     "output_type": "execute_result"
    }
   ],
   "source": [
    "PATH_DATA_PROCESSED = PATH_EXPERIMENT / \"data\" / \"processed\"\n",
    "PATH_DATA_PROCESSED.mkdir(exist_ok=True)\n",
    "\n",
    "PATH_ETE = PATH_EXPERIMENT / \"data\" / \"processed\" / \"ete.csv\"\n",
    "\n",
    "if PATH_ETE.exists():\n",
    "    df_ete = pd.read_csv(PATH_ETE, index_col=[\"molecule-ID\", \"t\"])\n",
    "else:\n",
    "    df_ete = df_trajectory_unfolded_kappas.groupby(\"kappa\").apply(transform.calc_end_to_end_df)\n",
    "    df_ete.to_csv(PATH_ETE, index=True)\n",
    "df_ete"
   ]
  }
 ],
 "metadata": {
  "kernelspec": {
   "display_name": "polyflexmd",
   "language": "python",
   "name": "polyflexmd"
  },
  "language_info": {
   "codemirror_mode": {
    "name": "ipython",
    "version": 3
   },
   "file_extension": ".py",
   "mimetype": "text/x-python",
   "name": "python",
   "nbconvert_exporter": "python",
   "pygments_lexer": "ipython3",
   "version": "3.9.5"
  }
 },
 "nbformat": 4,
 "nbformat_minor": 1
}
