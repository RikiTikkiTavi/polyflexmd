{
 "cells": [
  {
   "cell_type": "code",
   "execution_count": 1,
   "metadata": {
    "collapsed": true,
    "ExecuteTime": {
     "end_time": "2023-08-05T13:04:22.108354241Z",
     "start_time": "2023-08-05T13:04:20.602414460Z"
    }
   },
   "outputs": [],
   "source": [
    "import sympy as sy\n",
    "import numpy as np\n",
    "import matplotlib.pyplot as plt"
   ]
  },
  {
   "cell_type": "code",
   "execution_count": 2,
   "outputs": [],
   "source": [
    "l_b, kappa, l_k = sy.symbols(\"l_b, \\\\kappa, l_k\")"
   ],
   "metadata": {
    "collapsed": false,
    "ExecuteTime": {
     "end_time": "2023-08-05T13:04:22.109959126Z",
     "start_time": "2023-08-05T13:04:22.102458779Z"
    }
   }
  },
  {
   "cell_type": "code",
   "execution_count": 3,
   "outputs": [
    {
     "data": {
      "text/plain": "l_b*(2*\\kappa - 1 + exp(-2*\\kappa))/(-(2*\\kappa + 1)*exp(-2*\\kappa) + 1)",
      "text/latex": "$\\displaystyle \\frac{l_{b} \\left(2 \\kappa - 1 + e^{- 2 \\kappa}\\right)}{- \\left(2 \\kappa + 1\\right) e^{- 2 \\kappa} + 1}$"
     },
     "execution_count": 3,
     "metadata": {},
     "output_type": "execute_result"
    }
   ],
   "source": [
    "l_K_exp = l_b * (\n",
    "        (2 * kappa + sy.exp(-2 * kappa) - 1)\n",
    "        /  # -------------------------------\n",
    "        (1 - sy.exp(-2 * kappa) * (2 * kappa + 1))\n",
    ")\n",
    "\n",
    "l_K_exp"
   ],
   "metadata": {
    "collapsed": false,
    "ExecuteTime": {
     "end_time": "2023-08-05T13:04:22.223966293Z",
     "start_time": "2023-08-05T13:04:22.106751543Z"
    }
   }
  },
  {
   "cell_type": "code",
   "execution_count": 4,
   "outputs": [
    {
     "data": {
      "text/plain": "Complement(ConditionSet(\\kappa, Eq(2*\\kappa*exp(2*\\kappa) - exp(2*\\kappa) + 1, 0), Complexes), ConditionSet(\\kappa, Eq(-2*\\kappa + exp(2*\\kappa) - 1, 0), Complexes))",
      "text/latex": "$\\displaystyle \\left\\{\\kappa\\; \\middle|\\; \\kappa \\in \\mathbb{C} \\wedge 2 \\kappa e^{2 \\kappa} - e^{2 \\kappa} + 1 = 0 \\right\\} \\setminus \\left\\{\\kappa\\; \\middle|\\; \\kappa \\in \\mathbb{C} \\wedge - 2 \\kappa + e^{2 \\kappa} - 1 = 0 \\right\\}$"
     },
     "execution_count": 4,
     "metadata": {},
     "output_type": "execute_result"
    }
   ],
   "source": [
    "sy.solveset(l_K_exp, kappa)\n",
    "\n",
    "# bare_kuhn_length(kappa, l_k)"
   ],
   "metadata": {
    "collapsed": false,
    "ExecuteTime": {
     "end_time": "2023-08-05T13:04:22.567487063Z",
     "start_time": "2023-08-05T13:04:22.227126586Z"
    }
   }
  },
  {
   "cell_type": "code",
   "execution_count": 5,
   "outputs": [
    {
     "data": {
      "text/plain": "<matplotlib.legend.Legend at 0x7f43ac026cb0>"
     },
     "execution_count": 5,
     "metadata": {},
     "output_type": "execute_result"
    },
    {
     "data": {
      "text/plain": "<Figure size 640x480 with 1 Axes>",
      "image/png": "[encoded data removed]"
     },
     "metadata": {},
     "output_type": "display_data"
    }
   ],
   "source": [
    "def bare_kuhn_length(kappa, l_b):\n",
    "    return l_b * (\n",
    "            (2 * kappa + np.exp(-2 * kappa) - 1)\n",
    "            /  # -------------------------------\n",
    "            (1 - np.exp(-2 * kappa) * (2 * kappa + 1))\n",
    "    )\n",
    "\n",
    "\n",
    "N_bonds = 63\n",
    "l_b = .97\n",
    "L = l_b*N_bonds\n",
    "xs = np.linspace(0.1, 65, 1000)\n",
    "plt.plot(xs, bare_kuhn_length(xs, l_b), label=\"Bare kuhn length $l_K^0$\")\n",
    "plt.plot(xs, np.repeat(l_b*N_bonds, len(xs)), label=\"Contour length\")\n",
    "plt.xlabel(\"$\\\\kappa$ / LJ\")\n",
    "plt.ylabel(\"distance / LJ\")\n",
    "plt.grid(True, alpha=0.3)\n",
    "plt.legend()"
   ],
   "metadata": {
    "collapsed": false,
    "ExecuteTime": {
     "end_time": "2023-08-05T13:04:23.176766731Z",
     "start_time": "2023-08-05T13:04:22.572841095Z"
    }
   }
  },
  {
   "cell_type": "code",
   "execution_count": 6,
   "outputs": [
    {
     "data": {
      "text/plain": "array([ 1.        ,  9.42857143, 17.85714286, 26.28571429, 34.71428571,\n       43.14285714, 51.57142857, 60.        ])"
     },
     "execution_count": 6,
     "metadata": {},
     "output_type": "execute_result"
    }
   ],
   "source": [
    "kappas_for_exp = np.linspace(1, 60, 8)\n",
    "kappas_for_exp"
   ],
   "metadata": {
    "collapsed": false,
    "ExecuteTime": {
     "end_time": "2023-08-05T13:04:23.203500433Z",
     "start_time": "2023-08-05T13:04:23.161069809Z"
    }
   }
  },
  {
   "cell_type": "code",
   "execution_count": 7,
   "outputs": [
    {
     "data": {
      "text/plain": "1.6727272727272726"
     },
     "execution_count": 7,
     "metadata": {},
     "output_type": "execute_result"
    }
   ],
   "source": [
    "l_K_desired = 368 / 220\n",
    "l_K_desired"
   ],
   "metadata": {
    "collapsed": false,
    "ExecuteTime": {
     "end_time": "2023-08-05T13:04:23.204818857Z",
     "start_time": "2023-08-05T13:04:23.169187423Z"
    }
   }
  },
  {
   "cell_type": "code",
   "execution_count": 8,
   "outputs": [
    {
     "data": {
      "text/plain": "102.22036363636363"
     },
     "execution_count": 8,
     "metadata": {},
     "output_type": "execute_result"
    }
   ],
   "source": [
    "l_K_desired * L"
   ],
   "metadata": {
    "collapsed": false,
    "ExecuteTime": {
     "end_time": "2023-08-05T13:04:24.050066468Z",
     "start_time": "2023-08-05T13:04:24.044653579Z"
    }
   }
  },
  {
   "cell_type": "code",
   "execution_count": 9,
   "outputs": [
    {
     "data": {
      "text/plain": " message: The solution converged.\n success: True\n  status: 1\n     fun: [ 0.000e+00]\n       x: [ 5.319e+01]\n    nfev: 4\n    fjac: [[-1.000e+00]]\n       r: [-1.940e+00]\n     qtf: [-6.491e-08]"
     },
     "execution_count": 9,
     "metadata": {},
     "output_type": "execute_result"
    }
   ],
   "source": [
    "import scipy.optimize\n",
    "f = lambda k: bare_kuhn_length(k, l_b) - l_K_desired*L\n",
    "scipy.optimize.root(f, x0 = 60)"
   ],
   "metadata": {
    "collapsed": false,
    "ExecuteTime": {
     "end_time": "2023-08-05T13:04:24.337312122Z",
     "start_time": "2023-08-05T13:04:24.045570790Z"
    }
   }
  },
  {
   "cell_type": "code",
   "execution_count": 10,
   "outputs": [
    {
     "data": {
      "text/plain": "[49.2, 53.2, 57.2]"
     },
     "execution_count": 10,
     "metadata": {},
     "output_type": "execute_result"
    }
   ],
   "source": [
    "dk = 4\n",
    "k_0 = 49.2\n",
    "[k_0+i*dk for i in range(3)]"
   ],
   "metadata": {
    "collapsed": false,
    "ExecuteTime": {
     "end_time": "2023-08-05T13:04:24.401841995Z",
     "start_time": "2023-08-05T13:04:24.341843462Z"
    }
   }
  },
  {
   "cell_type": "code",
   "execution_count": 11,
   "outputs": [],
   "source": [
    "def find_desired_kappa(l_K_desired, L=220, l_b=.97, kappa_guess=100):\n",
    "    f = lambda k: bare_kuhn_length(k, l_b) - l_K_desired\n",
    "    print(f\"Desired l_K = {l_K_desired} = {l_K_desired / L}L\")\n",
    "    print(\"Calculated kappa:\")\n",
    "    print(scipy.optimize.root(f, x0 = kappa_guess))\n",
    "    print(\"--------------\")"
   ],
   "metadata": {
    "collapsed": false,
    "ExecuteTime": {
     "end_time": "2023-08-05T13:04:24.637155464Z",
     "start_time": "2023-08-05T13:04:24.620406358Z"
    }
   }
  },
  {
   "cell_type": "code",
   "execution_count": 20,
   "outputs": [
    {
     "name": "stdout",
     "output_type": "stream",
     "text": [
      "Desired l_K = 138 = 0.6272727272727273L\n",
      "Calculated kappa:\n",
      " message: The solution converged.\n",
      " success: True\n",
      "  status: 1\n",
      "     fun: [ 0.000e+00]\n",
      "       x: [ 7.163e+01]\n",
      "    nfev: 4\n",
      "    fjac: [[-1.000e+00]]\n",
      "       r: [-1.940e+00]\n",
      "     qtf: [-9.152e-11]\n",
      "--------------\n",
      "Desired l_K = 368 = 1.6727272727272726L\n",
      "Calculated kappa:\n",
      " message: The solution converged.\n",
      " success: True\n",
      "  status: 1\n",
      "     fun: [ 0.000e+00]\n",
      "       x: [ 1.902e+02]\n",
      "    nfev: 4\n",
      "    fjac: [[-1.000e+00]]\n",
      "       r: [-1.940e+00]\n",
      "     qtf: [-3.816e-10]\n",
      "--------------\n"
     ]
    }
   ],
   "source": [
    "find_desired_kappa(138, kappa_guess=50)"
   ],
   "metadata": {
    "collapsed": false,
    "ExecuteTime": {
     "end_time": "2023-06-13T15:54:10.945325208Z",
     "start_time": "2023-06-13T15:54:10.929848752Z"
    }
   }
  },
  {
   "cell_type": "code",
   "execution_count": 21,
   "outputs": [
    {
     "data": {
      "text/plain": "67.63"
     },
     "execution_count": 21,
     "metadata": {},
     "output_type": "execute_result"
    }
   ],
   "source": [
    "71.63-4"
   ],
   "metadata": {
    "collapsed": false,
    "ExecuteTime": {
     "end_time": "2023-06-13T15:59:19.312299560Z",
     "start_time": "2023-06-13T15:59:19.260726405Z"
    }
   }
  },
  {
   "cell_type": "code",
   "execution_count": 23,
   "outputs": [
    {
     "data": {
      "text/plain": "182.2"
     },
     "execution_count": 23,
     "metadata": {},
     "output_type": "execute_result"
    }
   ],
   "source": [
    "190.2-2*4"
   ],
   "metadata": {
    "collapsed": false,
    "ExecuteTime": {
     "end_time": "2023-06-13T16:04:01.089715763Z",
     "start_time": "2023-06-13T16:04:00.990763407Z"
    }
   }
  },
  {
   "cell_type": "code",
   "execution_count": 13,
   "outputs": [
    {
     "name": "stdout",
     "output_type": "stream",
     "text": [
      "Desired l_K = 37.8882 = 0.62L\n",
      "Calculated kappa:\n",
      " message: The solution converged.\n",
      " success: True\n",
      "  status: 1\n",
      "     fun: [ 0.000e+00]\n",
      "       x: [ 2.003e+01]\n",
      "    nfev: 4\n",
      "    fjac: [[-1.000e+00]]\n",
      "       r: [-1.940e+00]\n",
      "     qtf: [ 3.384e-10]\n",
      "--------------\n"
     ]
    }
   ],
   "source": [
    "find_desired_kappa(\n",
    "    l_K_desired=L*0.62,\n",
    "    L=L,\n",
    ")"
   ],
   "metadata": {
    "collapsed": false,
    "ExecuteTime": {
     "end_time": "2023-08-05T13:07:13.194176320Z",
     "start_time": "2023-08-05T13:07:13.145234590Z"
    }
   }
  },
  {
   "cell_type": "code",
   "execution_count": null,
   "outputs": [],
   "source": [],
   "metadata": {
    "collapsed": false
   }
  }
 ],
 "metadata": {
  "kernelspec": {
   "display_name": "Python 3",
   "language": "python",
   "name": "python3"
  },
  "language_info": {
   "codemirror_mode": {
    "name": "ipython",
    "version": 2
   },
   "file_extension": ".py",
   "mimetype": "text/x-python",
   "name": "python",
   "nbconvert_exporter": "python",
   "pygments_lexer": "ipython2",
   "version": "2.7.6"
  }
 },
 "nbformat": 4,
 "nbformat_minor": 0
}
